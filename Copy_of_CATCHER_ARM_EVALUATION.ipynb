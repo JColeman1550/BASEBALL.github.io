{
  "nbformat": 4,
  "nbformat_minor": 0,
  "metadata": {
    "colab": {
      "provenance": [],
      "authorship_tag": "ABX9TyOzN8uZm0lrkFYfTYxMw8Zz",
      "include_colab_link": true
    },
    "kernelspec": {
      "name": "python3",
      "display_name": "Python 3"
    },
    "language_info": {
      "name": "python"
    }
  },
  "cells": [
    {
      "cell_type": "markdown",
      "metadata": {
        "id": "view-in-github",
        "colab_type": "text"
      },
      "source": [
        "<a href=\"https://colab.research.google.com/github/JColeman1550/BASEBALL.github.io/blob/main/Copy_of_CATCHER_ARM_EVALUATION.ipynb\" target=\"_parent\"><img src=\"https://colab.research.google.com/assets/colab-badge.svg\" alt=\"Open In Colab\"/></a>"
      ]
    },
    {
      "cell_type": "code",
      "execution_count": null,
      "metadata": {
        "id": "tprphsAppPC-"
      },
      "outputs": [],
      "source": [
        "%%capture\n",
        "import pandas as pd\n",
        "import numpy as np\n",
        "from sklearn.cluster import KMeans\n",
        "!pip install pybaseball[catchers]\n",
        "from pybaseball import statcast\n",
        "from sklearn.cluster import KMeans\n",
        "from sklearn.preprocessing import StandardScaler\n",
        "\n",
        "import pybaseball as pyb"
      ]
    },
    {
      "cell_type": "markdown",
      "source": [
        "Pandas is a powerful data manipulation and analysis library. It provides data structures and functions to work with structured data, such as data frames. I am using it to handle and manipulate my data throughout the code.\n",
        "\n",
        "NumPy is a fundamental package for Python. It provides support for large, multi-dimensional arrays and a collection of mathematical functions. I am using it for numerical computations in my code.\n",
        "\n",
        "sklearn.cluster.KMeans: This package is part of scikit-learn, which is a popular machine learning library in Python. The KMeans class is used for clustering data points into groups or clusters based on their similarity. I am utilizing this package to perform k-means clustering on your catcher arm data.\n",
        "\n",
        "pybaseball (!pip install pybaseball[catchers]): Pybaseball is a Python library that provides easy access to baseball data, including statistics and player information. By installing the catchers module, I gain access to specific functionalities related to catcher statistics.\n",
        "\n",
        " StandardScaler is a class that provides methods to standardize or normalize data by scaling it to a mean of 0 and a standard deviation of 1. I am using it to scale my catcher arm data before performing clustering analysis, ensuring that all features are on a similar scale.\n"
      ],
      "metadata": {
        "id": "ntZZJnPGoN01"
      }
    },
    {
      "cell_type": "code",
      "source": [
        "data = pyb.statcast(start_dt='2022-01-01', end_dt='2022-12-31')"
      ],
      "metadata": {
        "colab": {
          "base_uri": "https://localhost:8080/"
        },
        "id": "8CNDOrOzqeyI",
        "outputId": "ece294fb-b0ac-4a4d-b29d-85eabe5dead3"
      },
      "execution_count": null,
      "outputs": [
        {
          "output_type": "stream",
          "name": "stdout",
          "text": [
            "This is a large query, it may take a moment to complete\n"
          ]
        },
        {
          "output_type": "stream",
          "name": "stderr",
          "text": [
            "/usr/local/lib/python3.10/dist-packages/pybaseball/statcast.py:50: UserWarning: \n",
            "That's a nice request you got there. It'd be a shame if something were to happen to it.\n",
            "We strongly recommend that you enable caching before running this. It's as simple as `pybaseball.cache.enable()`.\n",
            "Since the Statcast requests can take a *really* long time to run, if something were to happen, like: a disconnect;\n",
            "gremlins; computer repair by associates of Rudy Giuliani; electromagnetic interference from metal trash cans; etc.;\n",
            "you could lose a lot of progress. Enabling caching will allow you to immediately recover all the successful\n",
            "subqueries if that happens.\n",
            "  warnings.warn(_OVERSIZE_WARNING)\n"
          ]
        },
        {
          "output_type": "stream",
          "name": "stdout",
          "text": [
            "Skipping offseason dates\n",
            "Skipping offseason dates\n"
          ]
        },
        {
          "output_type": "stream",
          "name": "stderr",
          "text": [
            "100%|██████████| 246/246 [05:08<00:00,  1.26s/it]\n"
          ]
        }
      ]
    },
    {
      "cell_type": "markdown",
      "source": [
        "This line of code retrieves baseball data using the Pybaseball library. Specifically, it calls the statcast function to retrieve data from a specified time period. In this case, the start_dt parameter is set to '2022-01-01', indicating that the data collection should start from January 1, 2022. Similarly, the end_dt parameter is set to '2022-12-31', indicating that the data collection should end on December 31, 2022. Offseason dates are skipped\n",
        "\n",
        "The statcast function collects a wide range of information related to baseball plays, including pitch velocity, launch angle, exit velocity, and various other metrics. By specifying the start and end dates, I am ensuring that the data collected is limited to the desired time period."
      ],
      "metadata": {
        "id": "ehYSG4SRptfB"
      }
    },
    {
      "cell_type": "code",
      "source": [
        "pyb.statcast_catcher_poptime"
      ],
      "metadata": {
        "colab": {
          "base_uri": "https://localhost:8080/"
        },
        "id": "rMNWGFio2nsR",
        "outputId": "9869a9ff-2c14-4ba7-f3fa-47c789a2476e"
      },
      "execution_count": null,
      "outputs": [
        {
          "output_type": "execute_result",
          "data": {
            "text/plain": [
              "<function pybaseball.statcast_fielding.statcast_catcher_poptime(year: int, min_2b_att: int = 5, min_3b_att: int = 0) -> pandas.core.frame.DataFrame>"
            ]
          },
          "metadata": {},
          "execution_count": 3
        }
      ]
    },
    {
      "cell_type": "markdown",
      "source": [
        "The code pyb.statcast_catcher_poptime is used to retrieve catcher-specific statistical data related to pop times using the Pybaseball library.\n",
        "By calling pyb.statcast_catcher_poptime, I can access data specifically focused on catchers and their pop times. This data includes information such as the catcher's name and the corresponding pop time for each throw. "
      ],
      "metadata": {
        "id": "Ja26t_FWqUB_"
      }
    },
    {
      "cell_type": "code",
      "source": [
        "catcher_stats = pyb.statcast_fielding.statcast_catcher_poptime(year= 2022, min_2b_att = 0, min_3b_att = 0)"
      ],
      "metadata": {
        "id": "8LnrL2tM232o"
      },
      "execution_count": null,
      "outputs": []
    },
    {
      "cell_type": "markdown",
      "source": [
        "The code: catcher_stats = pyb.statcast_fielding.statcast_catcher_poptime(year=2022, min_2b_att=0, min_3b_att=0) retrieves catcher-specific statistical data related to pop times using the Pybaseball library. This code specifically fetches the pop time data for the year 2022.\n",
        "The additional parameters min_2b_att and min_3b_att are used to filter the data based on the minimum number of attempts at second base (2B) and third base (3B) respectively. In this case, both parameters are set to 0, meaning that there is no minimum threshold for the number of attempts required. \n"
      ],
      "metadata": {
        "id": "q_GbhJqoqwgg"
      }
    },
    {
      "cell_type": "code",
      "source": [
        "catcher_stats.head()"
      ],
      "metadata": {
        "colab": {
          "base_uri": "https://localhost:8080/",
          "height": 206
        },
        "id": "WQPGBLR359iG",
        "outputId": "ec2ba145-1cd2-4e7c-c494-a5473ffd1b72"
      },
      "execution_count": null,
      "outputs": [
        {
          "output_type": "execute_result",
          "data": {
            "text/plain": [
              "            catcher  player_id  team_id   age  maxeff_arm_2b_3b_sba  \\\n",
              "0       Matt Thaiss        NaN    108.0  27.0                  83.9   \n",
              "1     J.T. Realmuto        NaN    143.0  31.0                  87.6   \n",
              "2        Elias Díaz        NaN    115.0  31.0                  84.8   \n",
              "3        Will Smith        NaN    119.0  27.0                  83.6   \n",
              "4  Chuckie Robinson        NaN    113.0  27.0                  86.3   \n",
              "\n",
              "   exchange_2b_3b_sba  pop_2b_sba_count  pop_2b_sba  pop_2b_cs  pop_2b_sb  \\\n",
              "0                0.79                 5        1.99       1.82       2.03   \n",
              "1                0.67                44        1.82       1.83       1.82   \n",
              "2                0.71                28        1.94       1.87       1.98   \n",
              "3                0.71                32        1.93       1.88       1.94   \n",
              "4                0.73                11        1.90       1.89       1.90   \n",
              "\n",
              "   pop_3b_sba_count  pop_3b_sba  pop_3b_cs  pop_3b_sb  \n",
              "0                 0         NaN        NaN        NaN  \n",
              "1                 1        1.40        NaN       1.40  \n",
              "2                 5        1.43        1.4       1.44  \n",
              "3                 2        1.51        NaN       1.51  \n",
              "4                 1        1.54        NaN       1.54  "
            ],
            "text/html": [
              "\n",
              "  <div id=\"df-ee6b21ec-a3ce-4e1b-b2f5-767d70283888\">\n",
              "    <div class=\"colab-df-container\">\n",
              "      <div>\n",
              "<style scoped>\n",
              "    .dataframe tbody tr th:only-of-type {\n",
              "        vertical-align: middle;\n",
              "    }\n",
              "\n",
              "    .dataframe tbody tr th {\n",
              "        vertical-align: top;\n",
              "    }\n",
              "\n",
              "    .dataframe thead th {\n",
              "        text-align: right;\n",
              "    }\n",
              "</style>\n",
              "<table border=\"1\" class=\"dataframe\">\n",
              "  <thead>\n",
              "    <tr style=\"text-align: right;\">\n",
              "      <th></th>\n",
              "      <th>catcher</th>\n",
              "      <th>player_id</th>\n",
              "      <th>team_id</th>\n",
              "      <th>age</th>\n",
              "      <th>maxeff_arm_2b_3b_sba</th>\n",
              "      <th>exchange_2b_3b_sba</th>\n",
              "      <th>pop_2b_sba_count</th>\n",
              "      <th>pop_2b_sba</th>\n",
              "      <th>pop_2b_cs</th>\n",
              "      <th>pop_2b_sb</th>\n",
              "      <th>pop_3b_sba_count</th>\n",
              "      <th>pop_3b_sba</th>\n",
              "      <th>pop_3b_cs</th>\n",
              "      <th>pop_3b_sb</th>\n",
              "    </tr>\n",
              "  </thead>\n",
              "  <tbody>\n",
              "    <tr>\n",
              "      <th>0</th>\n",
              "      <td>Matt Thaiss</td>\n",
              "      <td>NaN</td>\n",
              "      <td>108.0</td>\n",
              "      <td>27.0</td>\n",
              "      <td>83.9</td>\n",
              "      <td>0.79</td>\n",
              "      <td>5</td>\n",
              "      <td>1.99</td>\n",
              "      <td>1.82</td>\n",
              "      <td>2.03</td>\n",
              "      <td>0</td>\n",
              "      <td>NaN</td>\n",
              "      <td>NaN</td>\n",
              "      <td>NaN</td>\n",
              "    </tr>\n",
              "    <tr>\n",
              "      <th>1</th>\n",
              "      <td>J.T. Realmuto</td>\n",
              "      <td>NaN</td>\n",
              "      <td>143.0</td>\n",
              "      <td>31.0</td>\n",
              "      <td>87.6</td>\n",
              "      <td>0.67</td>\n",
              "      <td>44</td>\n",
              "      <td>1.82</td>\n",
              "      <td>1.83</td>\n",
              "      <td>1.82</td>\n",
              "      <td>1</td>\n",
              "      <td>1.40</td>\n",
              "      <td>NaN</td>\n",
              "      <td>1.40</td>\n",
              "    </tr>\n",
              "    <tr>\n",
              "      <th>2</th>\n",
              "      <td>Elias Díaz</td>\n",
              "      <td>NaN</td>\n",
              "      <td>115.0</td>\n",
              "      <td>31.0</td>\n",
              "      <td>84.8</td>\n",
              "      <td>0.71</td>\n",
              "      <td>28</td>\n",
              "      <td>1.94</td>\n",
              "      <td>1.87</td>\n",
              "      <td>1.98</td>\n",
              "      <td>5</td>\n",
              "      <td>1.43</td>\n",
              "      <td>1.4</td>\n",
              "      <td>1.44</td>\n",
              "    </tr>\n",
              "    <tr>\n",
              "      <th>3</th>\n",
              "      <td>Will Smith</td>\n",
              "      <td>NaN</td>\n",
              "      <td>119.0</td>\n",
              "      <td>27.0</td>\n",
              "      <td>83.6</td>\n",
              "      <td>0.71</td>\n",
              "      <td>32</td>\n",
              "      <td>1.93</td>\n",
              "      <td>1.88</td>\n",
              "      <td>1.94</td>\n",
              "      <td>2</td>\n",
              "      <td>1.51</td>\n",
              "      <td>NaN</td>\n",
              "      <td>1.51</td>\n",
              "    </tr>\n",
              "    <tr>\n",
              "      <th>4</th>\n",
              "      <td>Chuckie Robinson</td>\n",
              "      <td>NaN</td>\n",
              "      <td>113.0</td>\n",
              "      <td>27.0</td>\n",
              "      <td>86.3</td>\n",
              "      <td>0.73</td>\n",
              "      <td>11</td>\n",
              "      <td>1.90</td>\n",
              "      <td>1.89</td>\n",
              "      <td>1.90</td>\n",
              "      <td>1</td>\n",
              "      <td>1.54</td>\n",
              "      <td>NaN</td>\n",
              "      <td>1.54</td>\n",
              "    </tr>\n",
              "  </tbody>\n",
              "</table>\n",
              "</div>\n",
              "      <button class=\"colab-df-convert\" onclick=\"convertToInteractive('df-ee6b21ec-a3ce-4e1b-b2f5-767d70283888')\"\n",
              "              title=\"Convert this dataframe to an interactive table.\"\n",
              "              style=\"display:none;\">\n",
              "        \n",
              "  <svg xmlns=\"http://www.w3.org/2000/svg\" height=\"24px\"viewBox=\"0 0 24 24\"\n",
              "       width=\"24px\">\n",
              "    <path d=\"M0 0h24v24H0V0z\" fill=\"none\"/>\n",
              "    <path d=\"M18.56 5.44l.94 2.06.94-2.06 2.06-.94-2.06-.94-.94-2.06-.94 2.06-2.06.94zm-11 1L8.5 8.5l.94-2.06 2.06-.94-2.06-.94L8.5 2.5l-.94 2.06-2.06.94zm10 10l.94 2.06.94-2.06 2.06-.94-2.06-.94-.94-2.06-.94 2.06-2.06.94z\"/><path d=\"M17.41 7.96l-1.37-1.37c-.4-.4-.92-.59-1.43-.59-.52 0-1.04.2-1.43.59L10.3 9.45l-7.72 7.72c-.78.78-.78 2.05 0 2.83L4 21.41c.39.39.9.59 1.41.59.51 0 1.02-.2 1.41-.59l7.78-7.78 2.81-2.81c.8-.78.8-2.07 0-2.86zM5.41 20L4 18.59l7.72-7.72 1.47 1.35L5.41 20z\"/>\n",
              "  </svg>\n",
              "      </button>\n",
              "      \n",
              "  <style>\n",
              "    .colab-df-container {\n",
              "      display:flex;\n",
              "      flex-wrap:wrap;\n",
              "      gap: 12px;\n",
              "    }\n",
              "\n",
              "    .colab-df-convert {\n",
              "      background-color: #E8F0FE;\n",
              "      border: none;\n",
              "      border-radius: 50%;\n",
              "      cursor: pointer;\n",
              "      display: none;\n",
              "      fill: #1967D2;\n",
              "      height: 32px;\n",
              "      padding: 0 0 0 0;\n",
              "      width: 32px;\n",
              "    }\n",
              "\n",
              "    .colab-df-convert:hover {\n",
              "      background-color: #E2EBFA;\n",
              "      box-shadow: 0px 1px 2px rgba(60, 64, 67, 0.3), 0px 1px 3px 1px rgba(60, 64, 67, 0.15);\n",
              "      fill: #174EA6;\n",
              "    }\n",
              "\n",
              "    [theme=dark] .colab-df-convert {\n",
              "      background-color: #3B4455;\n",
              "      fill: #D2E3FC;\n",
              "    }\n",
              "\n",
              "    [theme=dark] .colab-df-convert:hover {\n",
              "      background-color: #434B5C;\n",
              "      box-shadow: 0px 1px 3px 1px rgba(0, 0, 0, 0.15);\n",
              "      filter: drop-shadow(0px 1px 2px rgba(0, 0, 0, 0.3));\n",
              "      fill: #FFFFFF;\n",
              "    }\n",
              "  </style>\n",
              "\n",
              "      <script>\n",
              "        const buttonEl =\n",
              "          document.querySelector('#df-ee6b21ec-a3ce-4e1b-b2f5-767d70283888 button.colab-df-convert');\n",
              "        buttonEl.style.display =\n",
              "          google.colab.kernel.accessAllowed ? 'block' : 'none';\n",
              "\n",
              "        async function convertToInteractive(key) {\n",
              "          const element = document.querySelector('#df-ee6b21ec-a3ce-4e1b-b2f5-767d70283888');\n",
              "          const dataTable =\n",
              "            await google.colab.kernel.invokeFunction('convertToInteractive',\n",
              "                                                     [key], {});\n",
              "          if (!dataTable) return;\n",
              "\n",
              "          const docLinkHtml = 'Like what you see? Visit the ' +\n",
              "            '<a target=\"_blank\" href=https://colab.research.google.com/notebooks/data_table.ipynb>data table notebook</a>'\n",
              "            + ' to learn more about interactive tables.';\n",
              "          element.innerHTML = '';\n",
              "          dataTable['output_type'] = 'display_data';\n",
              "          await google.colab.output.renderOutput(dataTable, element);\n",
              "          const docLink = document.createElement('div');\n",
              "          docLink.innerHTML = docLinkHtml;\n",
              "          element.appendChild(docLink);\n",
              "        }\n",
              "      </script>\n",
              "    </div>\n",
              "  </div>\n",
              "  "
            ]
          },
          "metadata": {},
          "execution_count": 7
        }
      ]
    },
    {
      "cell_type": "code",
      "source": [
        "catcher_stats = catcher_stats[['catcher', 'maxeff_arm_2b_3b_sba']]"
      ],
      "metadata": {
        "id": "ej1eJeFr6vyV"
      },
      "execution_count": null,
      "outputs": []
    },
    {
      "cell_type": "markdown",
      "source": [
        "The line of code: catcher_stats = catcher_stats[['catcher', 'maxeff_arm_2b_3b_sba']] is used to select and retain specific columns from the catcher_stats DataFrame.\n",
        "By using double square brackets and specifying ['catcher', 'maxeff_arm_2b_3b_sba'] within them, I am selecting only these two columns from the original DataFrame and assigning the updated DataFrame back to the variable catcher_stats."
      ],
      "metadata": {
        "id": "INF18oSbriCA"
      }
    },
    {
      "cell_type": "code",
      "source": [
        "catcher_stats = catcher_stats.dropna()"
      ],
      "metadata": {
        "id": "AliokY-A8RYM"
      },
      "execution_count": null,
      "outputs": []
    },
    {
      "cell_type": "markdown",
      "source": [
        "The dropna() function is a pandas method that checks each row in the DataFrame and removes any row that has at least one missing value. I am using this to clean the data"
      ],
      "metadata": {
        "id": "d_Kj43JkrxFG"
      }
    },
    {
      "cell_type": "code",
      "source": [
        "scaler = StandardScaler()\n",
        "catcher_stats_scaled = scaler.fit_transform(catcher_stats[['maxeff_arm_2b_3b_sba']])"
      ],
      "metadata": {
        "id": "hUKFIqTp8VVE"
      },
      "execution_count": null,
      "outputs": []
    },
    {
      "cell_type": "markdown",
      "source": [
        "The code scaler = StandardScaler() creates an instance of the StandardScaler class from the scikit-learn library.\n",
        "The catcher_stats[['maxeff_arm_2b_3b_sba']] expression selects the 'maxeff_arm_2b_3b_sba' column from the catcher_stats DataFrame. By passing this column as the input to fit_transform(), the scaler calculates the mean and standard deviation of this specific feature and transforms it accordingly.\n",
        "This code applies the StandardScaler to the 'maxeff_arm_2b_3b_sba' column of the catcher_stats DataFrame, standardizing the values and storing the transformed data in a new variable \"catcher_stats_scaled\"."
      ],
      "metadata": {
        "id": "RGgp38KNsaBF"
      }
    },
    {
      "cell_type": "code",
      "source": [
        "kmeans = KMeans(n_clusters=3, random_state=0).fit(catcher_stats_scaled)"
      ],
      "metadata": {
        "colab": {
          "base_uri": "https://localhost:8080/"
        },
        "id": "SSLeeEPi8rUA",
        "outputId": "c1a83207-8bea-4c2b-bc72-904fabd55582"
      },
      "execution_count": null,
      "outputs": [
        {
          "output_type": "stream",
          "name": "stderr",
          "text": [
            "/usr/local/lib/python3.10/dist-packages/sklearn/cluster/_kmeans.py:870: FutureWarning: The default value of `n_init` will change from 10 to 'auto' in 1.4. Set the value of `n_init` explicitly to suppress the warning\n",
            "  warnings.warn(\n"
          ]
        }
      ]
    },
    {
      "cell_type": "markdown",
      "source": [
        "n_clusters is set to 3, meaning that the algorithm will try to find three distinct clusters within the data.\n",
        "The random_state parameter is set to 0 to ensure reproducibility of the results. By setting a specific random state value, the clustering process will yield the same results each time the code is executed, which is useful for consistency and comparison.\n",
        "The fit() method is called on the KMeans object (kmeans) to fit the model to the scaled data. This step performs the actual clustering process, where the algorithm iteratively assigns data points to the nearest cluster centroid and updates the centroids based on the assigned points.\n"
      ],
      "metadata": {
        "id": "wRYkCU7btdAV"
      }
    },
    {
      "cell_type": "code",
      "source": [
        "catcher_stats['cluster'] = kmeans.labels_"
      ],
      "metadata": {
        "id": "5Cywjb0b8t1W"
      },
      "execution_count": null,
      "outputs": []
    },
    {
      "cell_type": "markdown",
      "source": [
        "catcher_stats['cluster'] = kmeans.labels_ adds a new column called 'cluster' to the catcher_stats DataFrame and assigns the cluster labels obtained from the k-means clustering algorithm to each data point.\n",
        "By assigning these cluster labels to the 'cluster' column of the catcher_stats DataFrame, I associated each catcher's data point with the cluster it belongs to."
      ],
      "metadata": {
        "id": "wExrF4JpuQnB"
      }
    },
    {
      "cell_type": "code",
      "source": [
        "for cluster in range(kmeans.n_clusters):\n",
        "    print(\"Cluster \", cluster)\n",
        "    print(catcher_stats[catcher_stats['cluster'] == cluster])\n",
        "    print(\"\\n\")"
      ],
      "metadata": {
        "id": "Mn2B9ciS80do",
        "outputId": "f45b4529-5c13-4644-b811-9dae831ed426",
        "colab": {
          "base_uri": "https://localhost:8080/"
        }
      },
      "execution_count": null,
      "outputs": [
        {
          "output_type": "stream",
          "name": "stdout",
          "text": [
            "Cluster  0\n",
            "               catcher  maxeff_arm_2b_3b_sba  cluster\n",
            "0          Matt Thaiss                  83.9        0\n",
            "3           Will Smith                  83.6        0\n",
            "5          Nick Fortes                  80.7        0\n",
            "7      Meibrys Viloria                  83.2        0\n",
            "8       Garrett Stubbs                  83.5        0\n",
            "9       Gabriel Moreno                  81.8        0\n",
            "15   Christian Vázquez                  80.4        0\n",
            "17    Tyler Stephenson                  84.0        0\n",
            "18          José Godoy                  79.8        0\n",
            "21        Payton Henry                  81.8        0\n",
            "22        Brian Serven                  81.6        0\n",
            "23         MJ Melendez                  83.0        0\n",
            "24     Kyle Higashioka                  80.1        0\n",
            "25     Anthony Bemboom                  82.5        0\n",
            "28       Austin Hedges                  82.1        0\n",
            "29          Eric Haase                  83.2        0\n",
            "31         Austin Nola                  81.4        0\n",
            "37        Jose Herrera                  83.9        0\n",
            "38        Danny Jansen                  82.2        0\n",
            "39        Andrew Knapp                  81.5        0\n",
            "40          Luke Maile                  83.4        0\n",
            "42       Reese McGuire                  80.2        0\n",
            "43        Carson Kelly                  81.5        0\n",
            "44         Seby Zavala                  82.2        0\n",
            "45     Travis d'Arnaud                  82.2        0\n",
            "47         Cal Raleigh                  83.8        0\n",
            "49           Bo Naylor                  82.6        0\n",
            "50        Ryan Jeffers                  82.4        0\n",
            "52           Joey Bart                  82.4        0\n",
            "55      Alejandro Kirk                  80.3        0\n",
            "56      Salvador Perez                  82.9        0\n",
            "57     Victor Caratini                  79.8        0\n",
            "58        Jason Castro                  80.7        0\n",
            "59          Jonah Heim                  83.7        0\n",
            "62     Jacob Stallings                  82.0        0\n",
            "64   Sebastián  Rivero                  80.5        0\n",
            "65        Luis Torrens                  82.3        0\n",
            "66          Max Stassi                  80.3        0\n",
            "68       Yadier Molina                  79.9        0\n",
            "70       Michael Perez                  83.5        0\n",
            "71      Andrew Knizner                  80.6        0\n",
            "72       Austin Romine                  81.4        0\n",
            "76        James McCann                  80.7        0\n",
            "78       Israel Pineda                  83.5        0\n",
            "81         Kurt Suzuki                  80.2        0\n",
            "84   William Contreras                  81.9        0\n",
            "91        Mitch Garver                  81.0        0\n",
            "96      Caleb Hamilton                  81.3        0\n",
            "100         Tom Murphy                  82.6        0\n",
            "101    Mark Kolozsvary                  83.3        0\n",
            "102      Cooper Hummel                  82.2        0\n",
            "103       Chad Wallach                  80.4        0\n",
            "104         Chris Okey                  80.3        0\n",
            "105     Luis Campusano                  83.7        0\n",
            "116         René Pinto                  83.4        0\n",
            "\n",
            "\n",
            "Cluster  1\n",
            "                   catcher  maxeff_arm_2b_3b_sba  cluster\n",
            "1            J.T. Realmuto                  87.6        1\n",
            "2               Elias Díaz                  84.8        1\n",
            "4         Chuckie Robinson                  86.3        1\n",
            "6            Aramis Garcia                  84.7        1\n",
            "10   Christian Bethancourt                  88.3        1\n",
            "11             Sean Murphy                  86.1        1\n",
            "12             Connor Wong                  85.7        1\n",
            "13            Gary Sánchez                  86.3        1\n",
            "14         Shea Langeliers                  86.9        1\n",
            "16         Francisco Mejía                  86.9        1\n",
            "19        Martín Maldonado                  86.0        1\n",
            "20       Willson Contreras                  86.0        1\n",
            "26         Adley Rutschman                  86.3        1\n",
            "30            Jorge Alfaro                  88.2        1\n",
            "33             Riley Adams                  85.6        1\n",
            "99                Sam Huff                  88.1        1\n",
            "106              Korey Lee                  87.8        1\n",
            "\n",
            "\n",
            "Cluster  2\n",
            "               catcher  maxeff_arm_2b_3b_sba  cluster\n",
            "32        Jose Trevino                  77.8        2\n",
            "34         Jason Delay                  78.6        2\n",
            "35      Daulton Varsho                  78.9        2\n",
            "36      Tyler Heineman                  77.1        2\n",
            "41          Sandy León                  78.1        2\n",
            "46          Tomás Nido                  77.4        2\n",
            "48           Yan Gomes                  79.4        2\n",
            "51     Tucker Barnhart                  79.3        2\n",
            "53        Keibert Ruiz                  79.0        2\n",
            "54         Curt Casali                  78.3        2\n",
            "60        Omar Narváez                  79.0        2\n",
            "61        P.J. Higgins                  78.9        2\n",
            "63       Roberto Pérez                  78.5        2\n",
            "67           Dom Nuñez                  76.4        2\n",
            "69       Cam Gallagher                  78.9        2\n",
            "73   Robinson Chirinos                  78.9        2\n",
            "74   Michael Papierski                  78.1        2\n",
            "75       Austin Barnes                  75.6        2\n",
            "77        Zack Collins                  78.4        2\n",
            "79     Yasmani Grandal                  76.5        2\n",
            "80         Mike Zunino                  75.0        2\n",
            "82      Pedro Severino                  76.4        2\n",
            "83     Patrick Mazeika                  76.4        2\n",
            "85      Kevin Plawecki                  75.9        2\n",
            "86     Mario Feliciano                  74.7        2\n",
            "87        Stephen Vogt                  72.3        2\n",
            "89        Austin Wynns                  78.7        2\n",
            "90        Tres Barrera                  76.7        2\n",
            "107       Carlos Pérez                  76.7        2\n",
            "112    Bryan Lavastida                  78.1        2\n",
            "\n",
            "\n"
          ]
        }
      ]
    },
    {
      "cell_type": "markdown",
      "source": [
        "This loop allows me to iterate through each cluster, print the cluster number, and display the catchers' information within that cluster. "
      ],
      "metadata": {
        "id": "R_OKJrClunU9"
      }
    }
  ]
}