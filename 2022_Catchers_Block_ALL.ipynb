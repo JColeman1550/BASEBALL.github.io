{
  "nbformat": 4,
  "nbformat_minor": 0,
  "metadata": {
    "colab": {
      "provenance": [],
      "authorship_tag": "ABX9TyPqAzE34ic/qnp5ZsC46PDu",
      "include_colab_link": true
    },
    "kernelspec": {
      "name": "python3",
      "display_name": "Python 3"
    },
    "language_info": {
      "name": "python"
    }
  },
  "cells": [
    {
      "cell_type": "markdown",
      "metadata": {
        "id": "view-in-github",
        "colab_type": "text"
      },
      "source": [
        "<a href=\"https://colab.research.google.com/github/JColeman1550/BASEBALL.github.io/blob/main/2022_Catchers_Block_ALL.ipynb\" target=\"_parent\"><img src=\"https://colab.research.google.com/assets/colab-badge.svg\" alt=\"Open In Colab\"/></a>"
      ]
    },
    {
      "cell_type": "code",
      "execution_count": 76,
      "metadata": {
        "id": "RRLN7V_j5dni"
      },
      "outputs": [],
      "source": [
        "# import packages\n",
        "%%capture\n",
        "import os\n",
        "import pandas as pd\n",
        "from sklearn.ensemble import RandomForestRegressor\n",
        "from sklearn.model_selection import train_test_split"
      ]
    },
    {
      "cell_type": "code",
      "source": [
        "from google.colab import drive\n",
        "drive.mount('/content/drive')"
      ],
      "metadata": {
        "colab": {
          "base_uri": "https://localhost:8080/"
        },
        "id": "QTsD5bu654YK",
        "outputId": "de05018a-7cd2-4116-d4b6-0357c72d646c"
      },
      "execution_count": 77,
      "outputs": [
        {
          "output_type": "stream",
          "name": "stdout",
          "text": [
            "Drive already mounted at /content/drive; to attempt to forcibly remount, call drive.mount(\"/content/drive\", force_remount=True).\n"
          ]
        }
      ]
    },
    {
      "cell_type": "code",
      "source": [
        "block_all = pd.read_csv('/content/drive/MyDrive/TDIR/2022 catcher_blocking .csv')"
      ],
      "metadata": {
        "id": "rB2FENEM5or9"
      },
      "execution_count": 78,
      "outputs": []
    },
    {
      "cell_type": "code",
      "source": [
        "block_all.head()"
      ],
      "metadata": {
        "colab": {
          "base_uri": "https://localhost:8080/",
          "height": 206
        },
        "id": "jZdzXYtN6QD5",
        "outputId": "da4288ee-3da5-4c3a-d6c0-ae8c7585d80b"
      },
      "execution_count": 79,
      "outputs": [
        {
          "output_type": "execute_result",
          "data": {
            "text/plain": [
              "   player_id       player_name  pitches  catcher_blocking_runs  \\\n",
              "0     668939  Rutschman, Adley     3288                      4   \n",
              "1     624431     Trevino, Jose     3610                      4   \n",
              "2     592663    Realmuto, J.T.     5121                      3   \n",
              "3     672386   Kirk, Alejandro     2662                      3   \n",
              "4     669221      Murphy, Sean     4529                      3   \n",
              "\n",
              "   blocks_above_average  n_pbwp     x_pbwp  blocks_above_average_per_game  \\\n",
              "0                    18      25  42.669344                       0.214956   \n",
              "1                    15      24  38.649463                       0.162321   \n",
              "2                    14      37  50.834126                       0.108058   \n",
              "3                    12      12  23.737901                       0.176377   \n",
              "4                    12      34  45.785573                       0.104090   \n",
              "\n",
              "   freq_pbwp_easy  freq_pbwp_medium  freq_pbwp_tough  diff_pbwp_easy  \\\n",
              "0        0.932178          0.048662         0.019161        6.997604   \n",
              "1        0.942659          0.044044         0.013296        7.393881   \n",
              "2        0.949229          0.041008         0.009764       10.300919   \n",
              "3        0.952667          0.039444         0.007889        5.920524   \n",
              "4        0.948554          0.042835         0.008611       10.777332   \n",
              "\n",
              "   diff_pbwp_medium  diff_pbwp_tough  \n",
              "0          6.048927         4.622813  \n",
              "1          5.664476         1.591106  \n",
              "2          5.833849        -2.300643  \n",
              "3          2.809805         3.007572  \n",
              "4          0.439680         0.568561  "
            ],
            "text/html": [
              "\n",
              "\n",
              "  <div id=\"df-edd78f51-d8ea-444d-8ac6-a23adb35d7a7\">\n",
              "    <div class=\"colab-df-container\">\n",
              "      <div>\n",
              "<style scoped>\n",
              "    .dataframe tbody tr th:only-of-type {\n",
              "        vertical-align: middle;\n",
              "    }\n",
              "\n",
              "    .dataframe tbody tr th {\n",
              "        vertical-align: top;\n",
              "    }\n",
              "\n",
              "    .dataframe thead th {\n",
              "        text-align: right;\n",
              "    }\n",
              "</style>\n",
              "<table border=\"1\" class=\"dataframe\">\n",
              "  <thead>\n",
              "    <tr style=\"text-align: right;\">\n",
              "      <th></th>\n",
              "      <th>player_id</th>\n",
              "      <th>player_name</th>\n",
              "      <th>pitches</th>\n",
              "      <th>catcher_blocking_runs</th>\n",
              "      <th>blocks_above_average</th>\n",
              "      <th>n_pbwp</th>\n",
              "      <th>x_pbwp</th>\n",
              "      <th>blocks_above_average_per_game</th>\n",
              "      <th>freq_pbwp_easy</th>\n",
              "      <th>freq_pbwp_medium</th>\n",
              "      <th>freq_pbwp_tough</th>\n",
              "      <th>diff_pbwp_easy</th>\n",
              "      <th>diff_pbwp_medium</th>\n",
              "      <th>diff_pbwp_tough</th>\n",
              "    </tr>\n",
              "  </thead>\n",
              "  <tbody>\n",
              "    <tr>\n",
              "      <th>0</th>\n",
              "      <td>668939</td>\n",
              "      <td>Rutschman, Adley</td>\n",
              "      <td>3288</td>\n",
              "      <td>4</td>\n",
              "      <td>18</td>\n",
              "      <td>25</td>\n",
              "      <td>42.669344</td>\n",
              "      <td>0.214956</td>\n",
              "      <td>0.932178</td>\n",
              "      <td>0.048662</td>\n",
              "      <td>0.019161</td>\n",
              "      <td>6.997604</td>\n",
              "      <td>6.048927</td>\n",
              "      <td>4.622813</td>\n",
              "    </tr>\n",
              "    <tr>\n",
              "      <th>1</th>\n",
              "      <td>624431</td>\n",
              "      <td>Trevino, Jose</td>\n",
              "      <td>3610</td>\n",
              "      <td>4</td>\n",
              "      <td>15</td>\n",
              "      <td>24</td>\n",
              "      <td>38.649463</td>\n",
              "      <td>0.162321</td>\n",
              "      <td>0.942659</td>\n",
              "      <td>0.044044</td>\n",
              "      <td>0.013296</td>\n",
              "      <td>7.393881</td>\n",
              "      <td>5.664476</td>\n",
              "      <td>1.591106</td>\n",
              "    </tr>\n",
              "    <tr>\n",
              "      <th>2</th>\n",
              "      <td>592663</td>\n",
              "      <td>Realmuto, J.T.</td>\n",
              "      <td>5121</td>\n",
              "      <td>3</td>\n",
              "      <td>14</td>\n",
              "      <td>37</td>\n",
              "      <td>50.834126</td>\n",
              "      <td>0.108058</td>\n",
              "      <td>0.949229</td>\n",
              "      <td>0.041008</td>\n",
              "      <td>0.009764</td>\n",
              "      <td>10.300919</td>\n",
              "      <td>5.833849</td>\n",
              "      <td>-2.300643</td>\n",
              "    </tr>\n",
              "    <tr>\n",
              "      <th>3</th>\n",
              "      <td>672386</td>\n",
              "      <td>Kirk, Alejandro</td>\n",
              "      <td>2662</td>\n",
              "      <td>3</td>\n",
              "      <td>12</td>\n",
              "      <td>12</td>\n",
              "      <td>23.737901</td>\n",
              "      <td>0.176377</td>\n",
              "      <td>0.952667</td>\n",
              "      <td>0.039444</td>\n",
              "      <td>0.007889</td>\n",
              "      <td>5.920524</td>\n",
              "      <td>2.809805</td>\n",
              "      <td>3.007572</td>\n",
              "    </tr>\n",
              "    <tr>\n",
              "      <th>4</th>\n",
              "      <td>669221</td>\n",
              "      <td>Murphy, Sean</td>\n",
              "      <td>4529</td>\n",
              "      <td>3</td>\n",
              "      <td>12</td>\n",
              "      <td>34</td>\n",
              "      <td>45.785573</td>\n",
              "      <td>0.104090</td>\n",
              "      <td>0.948554</td>\n",
              "      <td>0.042835</td>\n",
              "      <td>0.008611</td>\n",
              "      <td>10.777332</td>\n",
              "      <td>0.439680</td>\n",
              "      <td>0.568561</td>\n",
              "    </tr>\n",
              "  </tbody>\n",
              "</table>\n",
              "</div>\n",
              "      <button class=\"colab-df-convert\" onclick=\"convertToInteractive('df-edd78f51-d8ea-444d-8ac6-a23adb35d7a7')\"\n",
              "              title=\"Convert this dataframe to an interactive table.\"\n",
              "              style=\"display:none;\">\n",
              "\n",
              "  <svg xmlns=\"http://www.w3.org/2000/svg\" height=\"24px\"viewBox=\"0 0 24 24\"\n",
              "       width=\"24px\">\n",
              "    <path d=\"M0 0h24v24H0V0z\" fill=\"none\"/>\n",
              "    <path d=\"M18.56 5.44l.94 2.06.94-2.06 2.06-.94-2.06-.94-.94-2.06-.94 2.06-2.06.94zm-11 1L8.5 8.5l.94-2.06 2.06-.94-2.06-.94L8.5 2.5l-.94 2.06-2.06.94zm10 10l.94 2.06.94-2.06 2.06-.94-2.06-.94-.94-2.06-.94 2.06-2.06.94z\"/><path d=\"M17.41 7.96l-1.37-1.37c-.4-.4-.92-.59-1.43-.59-.52 0-1.04.2-1.43.59L10.3 9.45l-7.72 7.72c-.78.78-.78 2.05 0 2.83L4 21.41c.39.39.9.59 1.41.59.51 0 1.02-.2 1.41-.59l7.78-7.78 2.81-2.81c.8-.78.8-2.07 0-2.86zM5.41 20L4 18.59l7.72-7.72 1.47 1.35L5.41 20z\"/>\n",
              "  </svg>\n",
              "      </button>\n",
              "\n",
              "\n",
              "\n",
              "    <div id=\"df-b64fcf84-a019-4a1d-bb75-8ee749e92d22\">\n",
              "      <button class=\"colab-df-quickchart\" onclick=\"quickchart('df-b64fcf84-a019-4a1d-bb75-8ee749e92d22')\"\n",
              "              title=\"Suggest charts.\"\n",
              "              style=\"display:none;\">\n",
              "\n",
              "<svg xmlns=\"http://www.w3.org/2000/svg\" height=\"24px\"viewBox=\"0 0 24 24\"\n",
              "     width=\"24px\">\n",
              "    <g>\n",
              "        <path d=\"M19 3H5c-1.1 0-2 .9-2 2v14c0 1.1.9 2 2 2h14c1.1 0 2-.9 2-2V5c0-1.1-.9-2-2-2zM9 17H7v-7h2v7zm4 0h-2V7h2v10zm4 0h-2v-4h2v4z\"/>\n",
              "    </g>\n",
              "</svg>\n",
              "      </button>\n",
              "    </div>\n",
              "\n",
              "<style>\n",
              "  .colab-df-quickchart {\n",
              "    background-color: #E8F0FE;\n",
              "    border: none;\n",
              "    border-radius: 50%;\n",
              "    cursor: pointer;\n",
              "    display: none;\n",
              "    fill: #1967D2;\n",
              "    height: 32px;\n",
              "    padding: 0 0 0 0;\n",
              "    width: 32px;\n",
              "  }\n",
              "\n",
              "  .colab-df-quickchart:hover {\n",
              "    background-color: #E2EBFA;\n",
              "    box-shadow: 0px 1px 2px rgba(60, 64, 67, 0.3), 0px 1px 3px 1px rgba(60, 64, 67, 0.15);\n",
              "    fill: #174EA6;\n",
              "  }\n",
              "\n",
              "  [theme=dark] .colab-df-quickchart {\n",
              "    background-color: #3B4455;\n",
              "    fill: #D2E3FC;\n",
              "  }\n",
              "\n",
              "  [theme=dark] .colab-df-quickchart:hover {\n",
              "    background-color: #434B5C;\n",
              "    box-shadow: 0px 1px 3px 1px rgba(0, 0, 0, 0.15);\n",
              "    filter: drop-shadow(0px 1px 2px rgba(0, 0, 0, 0.3));\n",
              "    fill: #FFFFFF;\n",
              "  }\n",
              "</style>\n",
              "\n",
              "    <script>\n",
              "      async function quickchart(key) {\n",
              "        const containerElement = document.querySelector('#' + key);\n",
              "        const charts = await google.colab.kernel.invokeFunction(\n",
              "            'suggestCharts', [key], {});\n",
              "      }\n",
              "    </script>\n",
              "\n",
              "      <script>\n",
              "\n",
              "function displayQuickchartButton(domScope) {\n",
              "  let quickchartButtonEl =\n",
              "    domScope.querySelector('#df-b64fcf84-a019-4a1d-bb75-8ee749e92d22 button.colab-df-quickchart');\n",
              "  quickchartButtonEl.style.display =\n",
              "    google.colab.kernel.accessAllowed ? 'block' : 'none';\n",
              "}\n",
              "\n",
              "        displayQuickchartButton(document);\n",
              "      </script>\n",
              "      <style>\n",
              "    .colab-df-container {\n",
              "      display:flex;\n",
              "      flex-wrap:wrap;\n",
              "      gap: 12px;\n",
              "    }\n",
              "\n",
              "    .colab-df-convert {\n",
              "      background-color: #E8F0FE;\n",
              "      border: none;\n",
              "      border-radius: 50%;\n",
              "      cursor: pointer;\n",
              "      display: none;\n",
              "      fill: #1967D2;\n",
              "      height: 32px;\n",
              "      padding: 0 0 0 0;\n",
              "      width: 32px;\n",
              "    }\n",
              "\n",
              "    .colab-df-convert:hover {\n",
              "      background-color: #E2EBFA;\n",
              "      box-shadow: 0px 1px 2px rgba(60, 64, 67, 0.3), 0px 1px 3px 1px rgba(60, 64, 67, 0.15);\n",
              "      fill: #174EA6;\n",
              "    }\n",
              "\n",
              "    [theme=dark] .colab-df-convert {\n",
              "      background-color: #3B4455;\n",
              "      fill: #D2E3FC;\n",
              "    }\n",
              "\n",
              "    [theme=dark] .colab-df-convert:hover {\n",
              "      background-color: #434B5C;\n",
              "      box-shadow: 0px 1px 3px 1px rgba(0, 0, 0, 0.15);\n",
              "      filter: drop-shadow(0px 1px 2px rgba(0, 0, 0, 0.3));\n",
              "      fill: #FFFFFF;\n",
              "    }\n",
              "  </style>\n",
              "\n",
              "      <script>\n",
              "        const buttonEl =\n",
              "          document.querySelector('#df-edd78f51-d8ea-444d-8ac6-a23adb35d7a7 button.colab-df-convert');\n",
              "        buttonEl.style.display =\n",
              "          google.colab.kernel.accessAllowed ? 'block' : 'none';\n",
              "\n",
              "        async function convertToInteractive(key) {\n",
              "          const element = document.querySelector('#df-edd78f51-d8ea-444d-8ac6-a23adb35d7a7');\n",
              "          const dataTable =\n",
              "            await google.colab.kernel.invokeFunction('convertToInteractive',\n",
              "                                                     [key], {});\n",
              "          if (!dataTable) return;\n",
              "\n",
              "          const docLinkHtml = 'Like what you see? Visit the ' +\n",
              "            '<a target=\"_blank\" href=https://colab.research.google.com/notebooks/data_table.ipynb>data table notebook</a>'\n",
              "            + ' to learn more about interactive tables.';\n",
              "          element.innerHTML = '';\n",
              "          dataTable['output_type'] = 'display_data';\n",
              "          await google.colab.output.renderOutput(dataTable, element);\n",
              "          const docLink = document.createElement('div');\n",
              "          docLink.innerHTML = docLinkHtml;\n",
              "          element.appendChild(docLink);\n",
              "        }\n",
              "      </script>\n",
              "    </div>\n",
              "  </div>\n"
            ]
          },
          "metadata": {},
          "execution_count": 79
        }
      ]
    },
    {
      "cell_type": "code",
      "source": [
        "features = [\"pitches\", \"n_pbwp\", \"x_pbwp\", \"freq_pbwp_easy\", \"freq_pbwp_medium\", \"freq_pbwp_tough\", \"diff_pbwp_easy\", \"diff_pbwp_medium\", \"diff_pbwp_tough\"]\n",
        "target = \"blocks_above_average\""
      ],
      "metadata": {
        "id": "EgrUEBHO6dPK"
      },
      "execution_count": 80,
      "outputs": []
    },
    {
      "cell_type": "code",
      "source": [
        "X_train, X_test, y_train, y_test = train_test_split(block_all[features], block_all[target], test_size=0.2, random_state=42)"
      ],
      "metadata": {
        "id": "JykzI3Kt7TMI"
      },
      "execution_count": 81,
      "outputs": []
    },
    {
      "cell_type": "code",
      "source": [
        "model = RandomForestRegressor(random_state=42)"
      ],
      "metadata": {
        "id": "4YFXs0cD7kip"
      },
      "execution_count": 82,
      "outputs": []
    },
    {
      "cell_type": "code",
      "source": [
        "model.fit(X_train, y_train)"
      ],
      "metadata": {
        "colab": {
          "base_uri": "https://localhost:8080/",
          "height": 76
        },
        "id": "oeocrj-q7mxk",
        "outputId": "d0fb32ae-74e7-4d3d-b4eb-5638784a3524"
      },
      "execution_count": 83,
      "outputs": [
        {
          "output_type": "execute_result",
          "data": {
            "text/plain": [
              "RandomForestRegressor(random_state=42)"
            ],
            "text/html": [
              "<style>#sk-container-id-4 {color: black;background-color: white;}#sk-container-id-4 pre{padding: 0;}#sk-container-id-4 div.sk-toggleable {background-color: white;}#sk-container-id-4 label.sk-toggleable__label {cursor: pointer;display: block;width: 100%;margin-bottom: 0;padding: 0.3em;box-sizing: border-box;text-align: center;}#sk-container-id-4 label.sk-toggleable__label-arrow:before {content: \"▸\";float: left;margin-right: 0.25em;color: #696969;}#sk-container-id-4 label.sk-toggleable__label-arrow:hover:before {color: black;}#sk-container-id-4 div.sk-estimator:hover label.sk-toggleable__label-arrow:before {color: black;}#sk-container-id-4 div.sk-toggleable__content {max-height: 0;max-width: 0;overflow: hidden;text-align: left;background-color: #f0f8ff;}#sk-container-id-4 div.sk-toggleable__content pre {margin: 0.2em;color: black;border-radius: 0.25em;background-color: #f0f8ff;}#sk-container-id-4 input.sk-toggleable__control:checked~div.sk-toggleable__content {max-height: 200px;max-width: 100%;overflow: auto;}#sk-container-id-4 input.sk-toggleable__control:checked~label.sk-toggleable__label-arrow:before {content: \"▾\";}#sk-container-id-4 div.sk-estimator input.sk-toggleable__control:checked~label.sk-toggleable__label {background-color: #d4ebff;}#sk-container-id-4 div.sk-label input.sk-toggleable__control:checked~label.sk-toggleable__label {background-color: #d4ebff;}#sk-container-id-4 input.sk-hidden--visually {border: 0;clip: rect(1px 1px 1px 1px);clip: rect(1px, 1px, 1px, 1px);height: 1px;margin: -1px;overflow: hidden;padding: 0;position: absolute;width: 1px;}#sk-container-id-4 div.sk-estimator {font-family: monospace;background-color: #f0f8ff;border: 1px dotted black;border-radius: 0.25em;box-sizing: border-box;margin-bottom: 0.5em;}#sk-container-id-4 div.sk-estimator:hover {background-color: #d4ebff;}#sk-container-id-4 div.sk-parallel-item::after {content: \"\";width: 100%;border-bottom: 1px solid gray;flex-grow: 1;}#sk-container-id-4 div.sk-label:hover label.sk-toggleable__label {background-color: #d4ebff;}#sk-container-id-4 div.sk-serial::before {content: \"\";position: absolute;border-left: 1px solid gray;box-sizing: border-box;top: 0;bottom: 0;left: 50%;z-index: 0;}#sk-container-id-4 div.sk-serial {display: flex;flex-direction: column;align-items: center;background-color: white;padding-right: 0.2em;padding-left: 0.2em;position: relative;}#sk-container-id-4 div.sk-item {position: relative;z-index: 1;}#sk-container-id-4 div.sk-parallel {display: flex;align-items: stretch;justify-content: center;background-color: white;position: relative;}#sk-container-id-4 div.sk-item::before, #sk-container-id-4 div.sk-parallel-item::before {content: \"\";position: absolute;border-left: 1px solid gray;box-sizing: border-box;top: 0;bottom: 0;left: 50%;z-index: -1;}#sk-container-id-4 div.sk-parallel-item {display: flex;flex-direction: column;z-index: 1;position: relative;background-color: white;}#sk-container-id-4 div.sk-parallel-item:first-child::after {align-self: flex-end;width: 50%;}#sk-container-id-4 div.sk-parallel-item:last-child::after {align-self: flex-start;width: 50%;}#sk-container-id-4 div.sk-parallel-item:only-child::after {width: 0;}#sk-container-id-4 div.sk-dashed-wrapped {border: 1px dashed gray;margin: 0 0.4em 0.5em 0.4em;box-sizing: border-box;padding-bottom: 0.4em;background-color: white;}#sk-container-id-4 div.sk-label label {font-family: monospace;font-weight: bold;display: inline-block;line-height: 1.2em;}#sk-container-id-4 div.sk-label-container {text-align: center;}#sk-container-id-4 div.sk-container {/* jupyter's `normalize.less` sets `[hidden] { display: none; }` but bootstrap.min.css set `[hidden] { display: none !important; }` so we also need the `!important` here to be able to override the default hidden behavior on the sphinx rendered scikit-learn.org. See: https://github.com/scikit-learn/scikit-learn/issues/21755 */display: inline-block !important;position: relative;}#sk-container-id-4 div.sk-text-repr-fallback {display: none;}</style><div id=\"sk-container-id-4\" class=\"sk-top-container\"><div class=\"sk-text-repr-fallback\"><pre>RandomForestRegressor(random_state=42)</pre><b>In a Jupyter environment, please rerun this cell to show the HTML representation or trust the notebook. <br />On GitHub, the HTML representation is unable to render, please try loading this page with nbviewer.org.</b></div><div class=\"sk-container\" hidden><div class=\"sk-item\"><div class=\"sk-estimator sk-toggleable\"><input class=\"sk-toggleable__control sk-hidden--visually\" id=\"sk-estimator-id-4\" type=\"checkbox\" checked><label for=\"sk-estimator-id-4\" class=\"sk-toggleable__label sk-toggleable__label-arrow\">RandomForestRegressor</label><div class=\"sk-toggleable__content\"><pre>RandomForestRegressor(random_state=42)</pre></div></div></div></div></div>"
            ]
          },
          "metadata": {},
          "execution_count": 83
        }
      ]
    },
    {
      "cell_type": "code",
      "source": [
        "importance_scores = model.feature_importances_"
      ],
      "metadata": {
        "id": "ylter8v-7pYF"
      },
      "execution_count": 84,
      "outputs": []
    },
    {
      "cell_type": "code",
      "source": [
        "feature_importance_df = pd.DataFrame({\"Feature\": features, \"Importance\": importance_scores})"
      ],
      "metadata": {
        "id": "A9BkYWPZ7tyV"
      },
      "execution_count": 85,
      "outputs": []
    },
    {
      "cell_type": "code",
      "source": [
        "feature_importance_df = feature_importance_df.sort_values(by=\"Importance\", ascending=False)"
      ],
      "metadata": {
        "id": "SyhOIx2J7u32"
      },
      "execution_count": 86,
      "outputs": []
    },
    {
      "cell_type": "code",
      "source": [
        "print(feature_importance_df)"
      ],
      "metadata": {
        "colab": {
          "base_uri": "https://localhost:8080/"
        },
        "id": "u_VomrF07xZq",
        "outputId": "a9b6d601-8584-4869-ea21-0077bb3ad501"
      },
      "execution_count": 87,
      "outputs": [
        {
          "output_type": "stream",
          "name": "stdout",
          "text": [
            "            Feature  Importance\n",
            "6    diff_pbwp_easy    0.569345\n",
            "7  diff_pbwp_medium    0.234765\n",
            "2            x_pbwp    0.066677\n",
            "8   diff_pbwp_tough    0.054000\n",
            "5   freq_pbwp_tough    0.022312\n",
            "4  freq_pbwp_medium    0.018361\n",
            "3    freq_pbwp_easy    0.012603\n",
            "0           pitches    0.012202\n",
            "1            n_pbwp    0.009735\n"
          ]
        }
      ]
    },
    {
      "cell_type": "code",
      "source": [
        "y_pred = model.predict(X_test)"
      ],
      "metadata": {
        "id": "hHhErPy575YQ"
      },
      "execution_count": 88,
      "outputs": []
    },
    {
      "cell_type": "code",
      "source": [
        "from sklearn.metrics import mean_squared_error, r2_score\n",
        "\n",
        "# Make predictions on the test data\n",
        "y_pred = model.predict(X_test)\n",
        "\n",
        "# Calculate mean squared error\n",
        "mse = mean_squared_error(y_test, y_pred)\n",
        "\n",
        "# Calculate R-squared\n",
        "r_squared = r2_score(y_test, y_pred)\n",
        "\n",
        "# Print the regression metrics\n",
        "print(\"Mean Squared Error:\", mse)\n",
        "print(\"R-squared:\", r_squared)"
      ],
      "metadata": {
        "colab": {
          "base_uri": "https://localhost:8080/"
        },
        "id": "p0Af8jZR76jN",
        "outputId": "d4b1e4ed-4c0e-4008-ccc2-eb1cdfe69e40"
      },
      "execution_count": 89,
      "outputs": [
        {
          "output_type": "stream",
          "name": "stdout",
          "text": [
            "Mean Squared Error: 32.64475\n",
            "R-squared: 0.6828250136320825\n"
          ]
        }
      ]
    },
    {
      "cell_type": "code",
      "source": [
        "import matplotlib.pyplot as plt"
      ],
      "metadata": {
        "id": "0iSjv11B8DyW"
      },
      "execution_count": 90,
      "outputs": []
    },
    {
      "cell_type": "code",
      "source": [
        "# importance_scores with the variable containing the importance scores from model\n",
        "importance_scores = [0.569345, 0.234765, 0.066677, 0.054000, 0.022312, 0.018361, 0.012603, 0.012202,0.009735]\n",
        "\n",
        "# list of features used in the model\n",
        "features = [\"diff_pbwp_easy\", \" diff_pbwp_medium\",\"x_pbwp\", \"diff_pbwp_tough\", \"freq_pbwp_tough\",\"freq_pbwp_medium\",\"n_pbwp\",\"pitches\",\"freq_pbwp_easy\"]\n",
        "\n",
        "# Create the DataFrame\n",
        "feature_importance_df = pd.DataFrame({\"Feature\": features, \"Importance\": importance_scores})\n",
        "\n",
        "# Sort the DataFrame by Importance in descending order to get the ranking\n",
        "feature_importance_df = feature_importance_df.sort_values(by=\"Importance\", ascending=False)"
      ],
      "metadata": {
        "id": "aYopM1a78GeB"
      },
      "execution_count": 91,
      "outputs": []
    },
    {
      "cell_type": "code",
      "source": [
        "plt.figure(figsize=(10, 6))\n",
        "plt.bar(feature_importance_df['Feature'], feature_importance_df['Importance'])\n",
        "plt.xlabel('Variable')\n",
        "plt.ylabel('Importance Score')\n",
        "plt.title('Most Important Features to CBR')\n",
        "plt.xticks(rotation=45, ha='right')  # Rotates x-axis labels for better readability\n",
        "\n",
        "# Add the importance values as text over the bars\n",
        "for index, value in enumerate(feature_importance_df['Importance']):\n",
        "    plt.text(index, value, f'{value:.4f}', ha='center', va='bottom')\n",
        "\n",
        "plt.tight_layout()\n",
        "plt.show()"
      ],
      "metadata": {
        "colab": {
          "base_uri": "https://localhost:8080/",
          "height": 607
        },
        "id": "Q1y9-j2a_VoU",
        "outputId": "7b86d493-1b1c-46e0-8476-2d21a30a32bc"
      },
      "execution_count": 92,
      "outputs": [
        {
          "output_type": "display_data",
          "data": {
            "text/plain": [
              "<Figure size 1000x600 with 1 Axes>"
            ],
            "image/png": "[encoded data removed]"
          },
          "metadata": {}
        }
      ]
    },
    {
      "cell_type": "code",
      "source": [
        "# Find the minimum and maximum values for each variable\n",
        "min_diff_pbwp_easy = block_all['diff_pbwp_easy'].min()\n",
        "max_diff_pbwp_easy = block_all['diff_pbwp_easy'].max()\n",
        "\n",
        "min_diff_pbwp_medium = block_all['diff_pbwp_medium'].min()\n",
        "max_diff_pbwp_medium = block_all['diff_pbwp_medium'].max()\n",
        "\n",
        "min_x_pbwp = block_all['x_pbwp'].min()\n",
        "max_x_pbwp = block_all['x_pbwp'].max()\n",
        "\n",
        "min_diff_pbwp_tough = block_all['diff_pbwp_tough'].min()\n",
        "max_diff_pbwp_tough = block_all['diff_pbwp_tough'].max()\n",
        "\n",
        "min_freq_pbwp_tough  = block_all['freq_pbwp_tough'].min()\n",
        "max_freq_pbwp_tough  = block_all['freq_pbwp_tough'].max()\n",
        "\n",
        "min_freq_pbwp_medium  = block_all['freq_pbwp_medium'].min()\n",
        "max_freq_pbwp_medium  = block_all['freq_pbwp_medium'].max()\n",
        "\n",
        "min_freq_pbwp_easy  = block_all['freq_pbwp_easy'].min()\n",
        "max_freq_pbwp_easy  = block_all['freq_pbwp_easy'].max()\n",
        "\n",
        "min_pitches = block_all['pitches'].min()\n",
        "max_pitches = block_all['pitches'].max()\n",
        "\n",
        "min_n_pbwp = block_all['n_pbwp'].min()\n",
        "max_n_pbwp = block_all['n_pbwp'].max()\n",
        "\n",
        "# Print the minimum and maximum values\n",
        "print(\"Minimum diff_pbwp_easy:\", min_diff_pbwp_easy)\n",
        "print(\"Maximum diff_pbwp_easy:\", max_diff_pbwp_easy)\n",
        "\n",
        "print(\"Minimum diff_pbwp_medium:\", min_diff_pbwp_medium)\n",
        "print(\"Maximum diff_pbwp_medium:\", max_diff_pbwp_medium)\n",
        "\n",
        "print(\"Minimum x_pbwp:\", min_x_pbwp)\n",
        "print(\"Maximum x_pbwp:\", max_x_pbwp)\n",
        "\n",
        "print(\"Minimum  diff_pbwp_tough :\", min_diff_pbwp_tough )\n",
        "print(\"Maximum  diff_pbwp_tough :\", max_diff_pbwp_tough )\n",
        "\n",
        "print(\"Minimum freq_pbwp_tough:\", max_freq_pbwp_tough)\n",
        "print(\"Maximum freq_pbwp_tough:\", min_freq_pbwp_tough)\n",
        "\n",
        "print(\"Minimum freq_pbwp_medium:\", min_freq_pbwp_medium)\n",
        "print(\"Maximum freq_pbwp_medium:\", max_freq_pbwp_medium)\n",
        "\n",
        "print(\"Minimum freq_pbwp_easy:\", min_freq_pbwp_easy)\n",
        "print(\"Maximum freq_pbwp_easy:\", max_freq_pbwp_easy)\n",
        "\n",
        "print(\"Minimum pitches:\", min_pitches)\n",
        "print(\"Maximum pitches:\", max_pitches)\n",
        "\n",
        "print(\"Minimum n_pbwp:\", min_n_pbwp)\n",
        "print(\"Maximum n_pbwp:\", max_n_pbwp)"
      ],
      "metadata": {
        "colab": {
          "base_uri": "https://localhost:8080/"
        },
        "id": "EZ4cS1q4BX5s",
        "outputId": "b6a48319-dc92-4532-ac52-e8303cedfd3a"
      },
      "execution_count": 93,
      "outputs": [
        {
          "output_type": "stream",
          "name": "stdout",
          "text": [
            "Minimum diff_pbwp_easy: -10.03631816\n",
            "Maximum diff_pbwp_easy: 10.77733156\n",
            "Minimum diff_pbwp_medium: -15.43266491\n",
            "Maximum diff_pbwp_medium: 8.038219804\n",
            "Minimum x_pbwp: 8.541459012\n",
            "Maximum x_pbwp: 50.83412572\n",
            "Minimum  diff_pbwp_tough : -6.212052254\n",
            "Maximum  diff_pbwp_tough : 4.622812912\n",
            "Minimum freq_pbwp_tough: 0.019160584\n",
            "Maximum freq_pbwp_tough: 0.005559968\n",
            "Minimum freq_pbwp_medium: 0.022905759\n",
            "Maximum freq_pbwp_medium: 0.05099278\n",
            "Minimum freq_pbwp_easy: 0.932177616\n",
            "Maximum freq_pbwp_easy: 0.969023034\n",
            "Minimum pitches: 1015\n",
            "Maximum pitches: 5121\n",
            "Minimum n_pbwp: 9\n",
            "Maximum n_pbwp: 54\n"
          ]
        }
      ]
    },
    {
      "cell_type": "code",
      "source": [
        "# Normalize the variables\n",
        "normalized_diff_pbwp_easy = (block_all['diff_pbwp_easy'] - min_diff_pbwp_easy) / (max_diff_pbwp_easy - min_diff_pbwp_easy)\n",
        "\n",
        "normalized_diff_pbwp_medium = (block_all['diff_pbwp_medium'] - min_diff_pbwp_medium) / (max_diff_pbwp_medium - min_diff_pbwp_medium)\n",
        "\n",
        "normalized_x_pbwp = (block_all['x_pbwp'] - min_x_pbwp) / (max_x_pbwp - min_x_pbwp)\n",
        "\n",
        "normalized_diff_pbwp_tough = (block_all['diff_pbwp_tough'] - min_diff_pbwp_tough) / (max_diff_pbwp_tough - min_diff_pbwp_tough)\n",
        "\n",
        "normalized_freq_pbwp_tough = (block_all['freq_pbwp_tough'] - min_freq_pbwp_tough) / (max_freq_pbwp_tough - min_freq_pbwp_tough)\n",
        "\n",
        "normalized_freq_pbwp_medium = (block_all['freq_pbwp_medium'] - min_freq_pbwp_medium) / (max_freq_pbwp_medium - min_freq_pbwp_medium)\n",
        "\n",
        "normalized_freq_pbwp_easy = (block_all['freq_pbwp_easy'] - min_freq_pbwp_easy) / (max_freq_pbwp_easy - min_freq_pbwp_easy)\n",
        "\n",
        "normalized_pitches = (block_all['pitches'] - min_pitches) / (max_pitches - min_pitches)\n",
        "\n",
        "normalized_n_pbwp = (block_all['n_pbwp'] - min_n_pbwp) / (max_n_pbwp - min_n_pbwp)\n",
        "\n",
        "# Display the normalized values\n",
        "block_all['diff_pbwp_easy'] = normalized_diff_pbwp_easy\n",
        "\n",
        "block_all['diff_pbwp_medium'] = normalized_diff_pbwp_medium\n",
        "\n",
        "block_all['x_pbwp'] = normalized_x_pbwp\n",
        "\n",
        "block_all['diff_pbwp_tough'] = normalized_diff_pbwp_tough\n",
        "\n",
        "block_all['freq_pbwp_tough'] = normalized_freq_pbwp_tough\n",
        "\n",
        "block_all['normalized_freq_pbwp_medium'] = normalized_freq_pbwp_medium\n",
        "\n",
        "block_all['normalized_freq_pbwp_easy'] = normalized_freq_pbwp_easy\n",
        "\n",
        "block_all['pitches'] = normalized_pitches\n",
        "\n",
        "block_all['n_pbwp'] = normalized_n_pbwp\n",
        "\n",
        "print(block_all[['diff_pbwp_easy', 'diff_pbwp_medium', 'x_pbwp','diff_pbwp_tough', 'freq_pbwp_tough', 'normalized_freq_pbwp_medium', 'normalized_freq_pbwp_easy', 'pitches', 'n_pbwp']])\n",
        "\n"
      ],
      "metadata": {
        "colab": {
          "base_uri": "https://localhost:8080/"
        },
        "id": "q7Iwe8xyGp7E",
        "outputId": "38271aba-0874-4964-f973-85142ff74f7d"
      },
      "execution_count": 94,
      "outputs": [
        {
          "output_type": "stream",
          "name": "stdout",
          "text": [
            "    diff_pbwp_easy  diff_pbwp_medium    x_pbwp  diff_pbwp_tough  \\\n",
            "0         0.818401          0.915244  0.806946         1.000000   \n",
            "1         0.837441          0.898864  0.711897         0.720190   \n",
            "2         0.977111          0.906081  1.000000         0.361002   \n",
            "3         0.766653          0.777238  0.359316         0.850922   \n",
            "4         1.000000          0.676257  0.880628         0.625814   \n",
            "..             ...               ...       ...              ...   \n",
            "61        0.455895          0.431732  0.001557         0.338389   \n",
            "62        0.312442          0.544121  0.429656         0.287935   \n",
            "63        0.000000          0.788570  0.453786         0.175904   \n",
            "64        0.220602          0.413350  0.376180         0.538903   \n",
            "65        0.019259          0.000000  0.486181         0.589167   \n",
            "\n",
            "    freq_pbwp_tough  normalized_freq_pbwp_medium  normalized_freq_pbwp_easy  \\\n",
            "0          1.000000                     0.917009                   0.000000   \n",
            "1          0.568829                     0.752610                   0.284477   \n",
            "2          0.309085                     0.644492                   0.462773   \n",
            "3          0.171230                     0.588822                   0.556095   \n",
            "4          0.224343                     0.709556                   0.444456   \n",
            "..              ...                          ...                        ...   \n",
            "61         0.325124                     0.250642                   0.757081   \n",
            "62         0.213546                     0.293049                   0.765941   \n",
            "63         0.440596                     0.662601                   0.400424   \n",
            "64         0.290646                     0.349583                   0.694386   \n",
            "65         0.318682                     0.751469                   0.377682   \n",
            "\n",
            "     pitches    n_pbwp  \n",
            "0   0.553580  0.355556  \n",
            "1   0.632002  0.333333  \n",
            "2   1.000000  0.622222  \n",
            "3   0.401120  0.066667  \n",
            "4   0.855821  0.555556  \n",
            "..       ...       ...  \n",
            "61  0.021189  0.177778  \n",
            "62  0.558451  0.600000  \n",
            "63  0.427423  0.666667  \n",
            "64  0.392840  0.600000  \n",
            "65  0.466634  1.000000  \n",
            "\n",
            "[66 rows x 9 columns]\n"
          ]
        }
      ]
    },
    {
      "cell_type": "code",
      "source": [
        "# Importance scores from the importance model\n",
        "importance_scores = {\n",
        "    \"diff_pbwp_easy\": 0.569345,\n",
        "    \"diff_pbwp_medium\": 0.234765,\n",
        "    \"x_pbwp\": 0.066677,\n",
        "    \"diff_pbwp_tough\": 0.054000,\n",
        "    \"freq_pbwp_tough\": 0.022312,\n",
        "    \"freq_pbwp_medium\": 0.018361,\n",
        "    \"freq_pbwp_easy\": 0.012603,\n",
        "    \"pitches\": 0.012202,\n",
        "    \"n_pbwp\": 0.009735,\n",
        "}\n",
        "\n",
        "# Calculate the sum of importance scores\n",
        "total_importance = sum(importance_scores.values())\n",
        "\n",
        "# Normalize and assign weights\n",
        "weights = {}\n",
        "for feature, importance in importance_scores.items():\n",
        "    normalized_importance = importance / total_importance\n",
        "    weights[feature] = normalized_importance\n",
        "\n",
        "# Print the weights\n",
        "print(\"Feature Weights:\")\n",
        "for feature, weight in weights.items():\n",
        "    print(f\"{feature}: {weight}\")\n"
      ],
      "metadata": {
        "colab": {
          "base_uri": "https://localhost:8080/"
        },
        "id": "5DNHqjRPPK0-",
        "outputId": "07e1a549-ac66-4495-c8a8-44a98546096f"
      },
      "execution_count": 95,
      "outputs": [
        {
          "output_type": "stream",
          "name": "stdout",
          "text": [
            "Feature Weights:\n",
            "diff_pbwp_easy: 0.569345\n",
            "diff_pbwp_medium: 0.234765\n",
            "x_pbwp: 0.066677\n",
            "diff_pbwp_tough: 0.054\n",
            "freq_pbwp_tough: 0.022312\n",
            "freq_pbwp_medium: 0.018361\n",
            "freq_pbwp_easy: 0.012603\n",
            "pitches: 0.012202\n",
            "n_pbwp: 0.009735\n"
          ]
        }
      ]
    },
    {
      "cell_type": "code",
      "source": [
        "# Define weights for each variable\n",
        "weight_diff_pbwp_easy = 0.569345\n",
        "weight_diff_pbwp_medium = 0.234765\n",
        "weight_x_pbwp = 0.066677\n",
        "weight_diff_pbwp_tough = 0.054\n",
        "weight_freq_pbwp_tough = 0.022312\n",
        "weight_freq_pbwp_medium = 0.018361\n",
        "weight_freq_pbwp_easy = 0.012603\n",
        "weight_pitches = 0.012202\n",
        "weight_n_pbwp = 0.009735\n",
        "\n",
        "\n",
        "# Normalize the weights to add up to 1.0\n",
        "total_weight_sum = (\n",
        "   weight_diff_pbwp_easy +\n",
        "   weight_diff_pbwp_medium +\n",
        "   weight_x_pbwp +\n",
        "   weight_diff_pbwp_tough +\n",
        "   weight_freq_pbwp_tough +\n",
        "   weight_freq_pbwp_medium +\n",
        "   weight_freq_pbwp_easy +\n",
        "   weight_pitches +\n",
        "   weight_n_pbwp\n",
        ")\n",
        "\n",
        "weight_diff_pbwp_easy /= total_weight_sum\n",
        "weight_diff_pbwp_medium /= total_weight_sum\n",
        "weight_x_pbwp /= total_weight_sum\n",
        "weight_diff_pbwp_tough /= total_weight_sum\n",
        "weight_freq_pbwp_tough  /= total_weight_sum\n",
        "weight_freq_pbwp_medium /= total_weight_sum\n",
        "weight_freq_pbwp_easy /= total_weight_sum\n",
        "weight_pitches /= total_weight_sum\n",
        "weight_n_pbwp/= total_weight_sum\n",
        "\n",
        "# Display the normalized weights\n",
        "print(\"Normalized Weights:\")\n",
        "print(\"diff_pbwp_easy:\", weight_diff_pbwp_easy)\n",
        "print(\"diff_pbwp_medium:\", weight_diff_pbwp_medium)\n",
        "print(\"x_pbwp:\", weight_x_pbwp)\n",
        "print(\"diff_pbwp_tough:\", weight_diff_pbwp_tough)\n",
        "print(\"freq_pbwp_tough:\", weight_freq_pbwp_tough)\n",
        "print(\"freq_pbwp_medium:\", weight_freq_pbwp_medium)\n",
        "print(\"freq_pbwp_easy:\", weight_freq_pbwp_easy)\n",
        "print(\"pitches:\", weight_pitches)\n",
        "print(\"n_pbwp:\", weight_n_pbwp)"
      ],
      "metadata": {
        "colab": {
          "base_uri": "https://localhost:8080/"
        },
        "id": "iGUJY5MkMLGZ",
        "outputId": "14759437-7d1c-4cc0-f2c4-e7b182c26f83"
      },
      "execution_count": 96,
      "outputs": [
        {
          "output_type": "stream",
          "name": "stdout",
          "text": [
            "Normalized Weights:\n",
            "diff_pbwp_easy: 0.569345\n",
            "diff_pbwp_medium: 0.234765\n",
            "x_pbwp: 0.066677\n",
            "diff_pbwp_tough: 0.054\n",
            "freq_pbwp_tough: 0.022312\n",
            "freq_pbwp_medium: 0.018361\n",
            "freq_pbwp_easy: 0.012603\n",
            "pitches: 0.012202\n",
            "n_pbwp: 0.009735\n"
          ]
        }
      ]
    },
    {
      "cell_type": "code",
      "source": [
        "CBR =(0.569345 * normalized_diff_pbwp_easy)+ (0.234765 * normalized_diff_pbwp_medium) +(0.066677 * normalized_x_pbwp) +(0.054 * normalized_diff_pbwp_tough) +(0.022312 * normalized_freq_pbwp_tough) +(0.018361 * normalized_freq_pbwp_medium) +(0.012603 * normalized_freq_pbwp_easy) +(0.012202 * normalized_pitches +(0.009735 * normalized_n_pbwp))"
      ],
      "metadata": {
        "id": "DzIiuaPOSmF6"
      },
      "execution_count": 97,
      "outputs": []
    },
    {
      "cell_type": "code",
      "source": [
        "block_all['CBR'] =  (\n",
        "    weight_diff_pbwp_easy * block_all['diff_pbwp_easy'] +\n",
        "    weight_diff_pbwp_medium * block_all['diff_pbwp_medium'] +\n",
        "    weight_x_pbwp * block_all['x_pbwp'] +\n",
        "    weight_diff_pbwp_tough * block_all['diff_pbwp_tough'] +\n",
        "    weight_freq_pbwp_tough * block_all['freq_pbwp_tough'] +\n",
        "    weight_freq_pbwp_medium * block_all['freq_pbwp_medium'] +\n",
        "    weight_pitches * block_all['freq_pbwp_easy'] +\n",
        "    weight_pitches * block_all['pitches'] +\n",
        "    weight_n_pbwp * block_all['n_pbwp']\n",
        ")"
      ],
      "metadata": {
        "id": "jWPLQrdXUqrV"
      },
      "execution_count": 98,
      "outputs": []
    },
    {
      "cell_type": "code",
      "source": [
        "CBR_scores = block_all['CBR']\n",
        "\n",
        "# Check if there are any missing or NaN values in the 'TDIR_scores'\n",
        "if CBR_scores.isnull().any():\n",
        "    raise ValueError(\"CAR scores contain missing or NaN values\")\n",
        "\n",
        "# Calculate the average TDIR score\n",
        "average_CBR = CBR_scores.mean()\n",
        "\n",
        "print(\"Average CBR:\", average_CBR)"
      ],
      "metadata": {
        "colab": {
          "base_uri": "https://localhost:8080/"
        },
        "id": "x3qTl7mvW56R",
        "outputId": "5f8870c0-2f53-4c66-b346-3895371a695f"
      },
      "execution_count": 99,
      "outputs": [
        {
          "output_type": "stream",
          "name": "stdout",
          "text": [
            "Average CBR: 0.539964996763319\n"
          ]
        }
      ]
    },
    {
      "cell_type": "code",
      "source": [
        "print(block_all[['player_name', 'CBR']])"
      ],
      "metadata": {
        "colab": {
          "base_uri": "https://localhost:8080/"
        },
        "id": "CVrSeMmYXJ30",
        "outputId": "ab4fa839-088c-47a0-8c16-9e0de448fa8f"
      },
      "execution_count": 100,
      "outputs": [
        {
          "output_type": "stream",
          "name": "stdout",
          "text": [
            "         player_name       CBR\n",
            "0   Rutschman, Adley  0.833421\n",
            "1      Trevino, Jose  0.810131\n",
            "2     Realmuto, J.T.  0.892691\n",
            "3    Kirk, Alejandro  0.710579\n",
            "4       Murphy, Sean  0.853835\n",
            "..               ...       ...\n",
            "61      Zunino, Mike  0.400802\n",
            "62        Bart, Joey  0.379535\n",
            "63       Haase, Eric  0.258737\n",
            "64  Grandal, Yasmani  0.306229\n",
            "65      Melendez, MJ  0.110089\n",
            "\n",
            "[66 rows x 2 columns]\n"
          ]
        }
      ]
    }
  ]
}