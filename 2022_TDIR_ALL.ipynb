{
  "nbformat": 4,
  "nbformat_minor": 0,
  "metadata": {
    "colab": {
      "provenance": [],
      "mount_file_id": "1VZNiSpsHpzgmWH6CW1X-01GnuF92mjDh",
      "authorship_tag": "ABX9TyO4i0YmwlA0BDLoeN+AndI7",
      "include_colab_link": true
    },
    "kernelspec": {
      "name": "python3",
      "display_name": "Python 3"
    },
    "language_info": {
      "name": "python"
    }
  },
  "cells": [
    {
      "cell_type": "markdown",
      "metadata": {
        "id": "view-in-github",
        "colab_type": "text"
      },
      "source": [
        "<a href=\"https://colab.research.google.com/github/JColeman1550/BASEBALL.github.io/blob/main/2022_TDIR_ALL.ipynb\" target=\"_parent\"><img src=\"https://colab.research.google.com/assets/colab-badge.svg\" alt=\"Open In Colab\"/></a>"
      ]
    },
    {
      "cell_type": "code",
      "execution_count": 72,
      "metadata": {
        "id": "nC9ne_uOoY-V"
      },
      "outputs": [],
      "source": [
        "# import packages\n",
        "%%capture\n",
        "import os\n",
        "import pandas as pd\n",
        "from sklearn.ensemble import RandomForestRegressor\n",
        "from sklearn.model_selection import train_test_split"
      ]
    },
    {
      "cell_type": "code",
      "source": [
        "catcher_all = pd.read_csv('/content/drive/MyDrive/2022 catcher_throwing .csv')"
      ],
      "metadata": {
        "id": "M95_QK6247et"
      },
      "execution_count": 73,
      "outputs": []
    },
    {
      "cell_type": "code",
      "source": [
        "catcher_all.head()"
      ],
      "metadata": {
        "colab": {
          "base_uri": "https://localhost:8080/",
          "height": 369
        },
        "id": "UjgR2vmKxna6",
        "outputId": "d05fdee3-e9b8-4f82-ebc5-f95f1f63815f"
      },
      "execution_count": 74,
      "outputs": [
        {
          "output_type": "execute_result",
          "data": {
            "text/plain": [
              "   player_id             player_name team_name  start_year  end_year  \\\n",
              "0     592663          Realmuto, J.T.       PHI        2022      2022   \n",
              "1     542194  Bethancourt, Christian        TB        2022      2022   \n",
              "2     595751           Alfaro, Jorge        SD        2022      2022   \n",
              "3     669221            Murphy, Sean       OAK        2022      2022   \n",
              "4     596117         Stubbs, Garrett       PHI        2022      2022   \n",
              "\n",
              "   sb_attempts  catcher_stealing_runs  caught_stealing_above_average  n_cs  \\\n",
              "0           46               9.343040                      14.373907    25   \n",
              "1           18               2.816328                       4.332812     8   \n",
              "2           20              -0.049734                      -0.076514     3   \n",
              "3           37               0.402232                       0.618818     9   \n",
              "4           19               1.230552                       1.893157     6   \n",
              "\n",
              "    rate_cs  ...  pop_time_percentile_rank  exchange_time  \\\n",
              "0  0.543478  ...                      1.00           0.66   \n",
              "1  0.444444  ...                      0.98           0.74   \n",
              "2  0.150000  ...                      0.97           0.74   \n",
              "3  0.243243  ...                      0.95           0.69   \n",
              "4  0.315789  ...                      0.93           0.70   \n",
              "\n",
              "   exchange_time_percentile_rank  arm_strength  n_xcs_with_flight_over_xcs  \\\n",
              "0                           0.93     84.225284                    6.749065   \n",
              "1                           0.41     85.563626                    2.650953   \n",
              "2                           0.44     85.464149                    1.454837   \n",
              "3                           0.78     83.449918                    3.268592   \n",
              "4                           0.75     81.247247                    1.085612   \n",
              "\n",
              "   n_xcs_with_exchange_over_xcs  n_xcs_with_accuracy_over_xcs  \\\n",
              "0                      6.188228                     -1.255653   \n",
              "1                     -0.193548                      1.781209   \n",
              "2                     -0.002714                     -1.029005   \n",
              "3                      1.867679                     -0.716267   \n",
              "4                      1.187185                     -1.592026   \n",
              "\n",
              "   n_xcs_with_ground_other_over_xcs  n_xcs_with_onfly_other_over_xcs  \\\n",
              "0                          1.100857                         1.591410   \n",
              "1                          0.000000                         0.094198   \n",
              "2                         -0.155452                        -0.332985   \n",
              "3                         -0.915161                        -3.643096   \n",
              "4                          1.521255                        -0.308869   \n",
              "\n",
              "   n_xcs_with_untracked_other_over_xcs  \n",
              "0                             0.000000  \n",
              "1                             0.000000  \n",
              "2                            -0.011196  \n",
              "3                             0.757072  \n",
              "4                             0.000000  \n",
              "\n",
              "[5 rows x 25 columns]"
            ],
            "text/html": [
              "\n",
              "\n",
              "  <div id=\"df-659a2deb-6f2f-44be-95f8-5bc808bc3bd5\">\n",
              "    <div class=\"colab-df-container\">\n",
              "      <div>\n",
              "<style scoped>\n",
              "    .dataframe tbody tr th:only-of-type {\n",
              "        vertical-align: middle;\n",
              "    }\n",
              "\n",
              "    .dataframe tbody tr th {\n",
              "        vertical-align: top;\n",
              "    }\n",
              "\n",
              "    .dataframe thead th {\n",
              "        text-align: right;\n",
              "    }\n",
              "</style>\n",
              "<table border=\"1\" class=\"dataframe\">\n",
              "  <thead>\n",
              "    <tr style=\"text-align: right;\">\n",
              "      <th></th>\n",
              "      <th>player_id</th>\n",
              "      <th>player_name</th>\n",
              "      <th>team_name</th>\n",
              "      <th>start_year</th>\n",
              "      <th>end_year</th>\n",
              "      <th>sb_attempts</th>\n",
              "      <th>catcher_stealing_runs</th>\n",
              "      <th>caught_stealing_above_average</th>\n",
              "      <th>n_cs</th>\n",
              "      <th>rate_cs</th>\n",
              "      <th>...</th>\n",
              "      <th>pop_time_percentile_rank</th>\n",
              "      <th>exchange_time</th>\n",
              "      <th>exchange_time_percentile_rank</th>\n",
              "      <th>arm_strength</th>\n",
              "      <th>n_xcs_with_flight_over_xcs</th>\n",
              "      <th>n_xcs_with_exchange_over_xcs</th>\n",
              "      <th>n_xcs_with_accuracy_over_xcs</th>\n",
              "      <th>n_xcs_with_ground_other_over_xcs</th>\n",
              "      <th>n_xcs_with_onfly_other_over_xcs</th>\n",
              "      <th>n_xcs_with_untracked_other_over_xcs</th>\n",
              "    </tr>\n",
              "  </thead>\n",
              "  <tbody>\n",
              "    <tr>\n",
              "      <th>0</th>\n",
              "      <td>592663</td>\n",
              "      <td>Realmuto, J.T.</td>\n",
              "      <td>PHI</td>\n",
              "      <td>2022</td>\n",
              "      <td>2022</td>\n",
              "      <td>46</td>\n",
              "      <td>9.343040</td>\n",
              "      <td>14.373907</td>\n",
              "      <td>25</td>\n",
              "      <td>0.543478</td>\n",
              "      <td>...</td>\n",
              "      <td>1.00</td>\n",
              "      <td>0.66</td>\n",
              "      <td>0.93</td>\n",
              "      <td>84.225284</td>\n",
              "      <td>6.749065</td>\n",
              "      <td>6.188228</td>\n",
              "      <td>-1.255653</td>\n",
              "      <td>1.100857</td>\n",
              "      <td>1.591410</td>\n",
              "      <td>0.000000</td>\n",
              "    </tr>\n",
              "    <tr>\n",
              "      <th>1</th>\n",
              "      <td>542194</td>\n",
              "      <td>Bethancourt, Christian</td>\n",
              "      <td>TB</td>\n",
              "      <td>2022</td>\n",
              "      <td>2022</td>\n",
              "      <td>18</td>\n",
              "      <td>2.816328</td>\n",
              "      <td>4.332812</td>\n",
              "      <td>8</td>\n",
              "      <td>0.444444</td>\n",
              "      <td>...</td>\n",
              "      <td>0.98</td>\n",
              "      <td>0.74</td>\n",
              "      <td>0.41</td>\n",
              "      <td>85.563626</td>\n",
              "      <td>2.650953</td>\n",
              "      <td>-0.193548</td>\n",
              "      <td>1.781209</td>\n",
              "      <td>0.000000</td>\n",
              "      <td>0.094198</td>\n",
              "      <td>0.000000</td>\n",
              "    </tr>\n",
              "    <tr>\n",
              "      <th>2</th>\n",
              "      <td>595751</td>\n",
              "      <td>Alfaro, Jorge</td>\n",
              "      <td>SD</td>\n",
              "      <td>2022</td>\n",
              "      <td>2022</td>\n",
              "      <td>20</td>\n",
              "      <td>-0.049734</td>\n",
              "      <td>-0.076514</td>\n",
              "      <td>3</td>\n",
              "      <td>0.150000</td>\n",
              "      <td>...</td>\n",
              "      <td>0.97</td>\n",
              "      <td>0.74</td>\n",
              "      <td>0.44</td>\n",
              "      <td>85.464149</td>\n",
              "      <td>1.454837</td>\n",
              "      <td>-0.002714</td>\n",
              "      <td>-1.029005</td>\n",
              "      <td>-0.155452</td>\n",
              "      <td>-0.332985</td>\n",
              "      <td>-0.011196</td>\n",
              "    </tr>\n",
              "    <tr>\n",
              "      <th>3</th>\n",
              "      <td>669221</td>\n",
              "      <td>Murphy, Sean</td>\n",
              "      <td>OAK</td>\n",
              "      <td>2022</td>\n",
              "      <td>2022</td>\n",
              "      <td>37</td>\n",
              "      <td>0.402232</td>\n",
              "      <td>0.618818</td>\n",
              "      <td>9</td>\n",
              "      <td>0.243243</td>\n",
              "      <td>...</td>\n",
              "      <td>0.95</td>\n",
              "      <td>0.69</td>\n",
              "      <td>0.78</td>\n",
              "      <td>83.449918</td>\n",
              "      <td>3.268592</td>\n",
              "      <td>1.867679</td>\n",
              "      <td>-0.716267</td>\n",
              "      <td>-0.915161</td>\n",
              "      <td>-3.643096</td>\n",
              "      <td>0.757072</td>\n",
              "    </tr>\n",
              "    <tr>\n",
              "      <th>4</th>\n",
              "      <td>596117</td>\n",
              "      <td>Stubbs, Garrett</td>\n",
              "      <td>PHI</td>\n",
              "      <td>2022</td>\n",
              "      <td>2022</td>\n",
              "      <td>19</td>\n",
              "      <td>1.230552</td>\n",
              "      <td>1.893157</td>\n",
              "      <td>6</td>\n",
              "      <td>0.315789</td>\n",
              "      <td>...</td>\n",
              "      <td>0.93</td>\n",
              "      <td>0.70</td>\n",
              "      <td>0.75</td>\n",
              "      <td>81.247247</td>\n",
              "      <td>1.085612</td>\n",
              "      <td>1.187185</td>\n",
              "      <td>-1.592026</td>\n",
              "      <td>1.521255</td>\n",
              "      <td>-0.308869</td>\n",
              "      <td>0.000000</td>\n",
              "    </tr>\n",
              "  </tbody>\n",
              "</table>\n",
              "<p>5 rows × 25 columns</p>\n",
              "</div>\n",
              "      <button class=\"colab-df-convert\" onclick=\"convertToInteractive('df-659a2deb-6f2f-44be-95f8-5bc808bc3bd5')\"\n",
              "              title=\"Convert this dataframe to an interactive table.\"\n",
              "              style=\"display:none;\">\n",
              "\n",
              "  <svg xmlns=\"http://www.w3.org/2000/svg\" height=\"24px\"viewBox=\"0 0 24 24\"\n",
              "       width=\"24px\">\n",
              "    <path d=\"M0 0h24v24H0V0z\" fill=\"none\"/>\n",
              "    <path d=\"M18.56 5.44l.94 2.06.94-2.06 2.06-.94-2.06-.94-.94-2.06-.94 2.06-2.06.94zm-11 1L8.5 8.5l.94-2.06 2.06-.94-2.06-.94L8.5 2.5l-.94 2.06-2.06.94zm10 10l.94 2.06.94-2.06 2.06-.94-2.06-.94-.94-2.06-.94 2.06-2.06.94z\"/><path d=\"M17.41 7.96l-1.37-1.37c-.4-.4-.92-.59-1.43-.59-.52 0-1.04.2-1.43.59L10.3 9.45l-7.72 7.72c-.78.78-.78 2.05 0 2.83L4 21.41c.39.39.9.59 1.41.59.51 0 1.02-.2 1.41-.59l7.78-7.78 2.81-2.81c.8-.78.8-2.07 0-2.86zM5.41 20L4 18.59l7.72-7.72 1.47 1.35L5.41 20z\"/>\n",
              "  </svg>\n",
              "      </button>\n",
              "\n",
              "\n",
              "\n",
              "    <div id=\"df-12e19ba0-e163-4070-9a94-efa1c7a1c790\">\n",
              "      <button class=\"colab-df-quickchart\" onclick=\"quickchart('df-12e19ba0-e163-4070-9a94-efa1c7a1c790')\"\n",
              "              title=\"Suggest charts.\"\n",
              "              style=\"display:none;\">\n",
              "\n",
              "<svg xmlns=\"http://www.w3.org/2000/svg\" height=\"24px\"viewBox=\"0 0 24 24\"\n",
              "     width=\"24px\">\n",
              "    <g>\n",
              "        <path d=\"M19 3H5c-1.1 0-2 .9-2 2v14c0 1.1.9 2 2 2h14c1.1 0 2-.9 2-2V5c0-1.1-.9-2-2-2zM9 17H7v-7h2v7zm4 0h-2V7h2v10zm4 0h-2v-4h2v4z\"/>\n",
              "    </g>\n",
              "</svg>\n",
              "      </button>\n",
              "    </div>\n",
              "\n",
              "<style>\n",
              "  .colab-df-quickchart {\n",
              "    background-color: #E8F0FE;\n",
              "    border: none;\n",
              "    border-radius: 50%;\n",
              "    cursor: pointer;\n",
              "    display: none;\n",
              "    fill: #1967D2;\n",
              "    height: 32px;\n",
              "    padding: 0 0 0 0;\n",
              "    width: 32px;\n",
              "  }\n",
              "\n",
              "  .colab-df-quickchart:hover {\n",
              "    background-color: #E2EBFA;\n",
              "    box-shadow: 0px 1px 2px rgba(60, 64, 67, 0.3), 0px 1px 3px 1px rgba(60, 64, 67, 0.15);\n",
              "    fill: #174EA6;\n",
              "  }\n",
              "\n",
              "  [theme=dark] .colab-df-quickchart {\n",
              "    background-color: #3B4455;\n",
              "    fill: #D2E3FC;\n",
              "  }\n",
              "\n",
              "  [theme=dark] .colab-df-quickchart:hover {\n",
              "    background-color: #434B5C;\n",
              "    box-shadow: 0px 1px 3px 1px rgba(0, 0, 0, 0.15);\n",
              "    filter: drop-shadow(0px 1px 2px rgba(0, 0, 0, 0.3));\n",
              "    fill: #FFFFFF;\n",
              "  }\n",
              "</style>\n",
              "\n",
              "    <script>\n",
              "      async function quickchart(key) {\n",
              "        const containerElement = document.querySelector('#' + key);\n",
              "        const charts = await google.colab.kernel.invokeFunction(\n",
              "            'suggestCharts', [key], {});\n",
              "      }\n",
              "    </script>\n",
              "\n",
              "      <script>\n",
              "\n",
              "function displayQuickchartButton(domScope) {\n",
              "  let quickchartButtonEl =\n",
              "    domScope.querySelector('#df-12e19ba0-e163-4070-9a94-efa1c7a1c790 button.colab-df-quickchart');\n",
              "  quickchartButtonEl.style.display =\n",
              "    google.colab.kernel.accessAllowed ? 'block' : 'none';\n",
              "}\n",
              "\n",
              "        displayQuickchartButton(document);\n",
              "      </script>\n",
              "      <style>\n",
              "    .colab-df-container {\n",
              "      display:flex;\n",
              "      flex-wrap:wrap;\n",
              "      gap: 12px;\n",
              "    }\n",
              "\n",
              "    .colab-df-convert {\n",
              "      background-color: #E8F0FE;\n",
              "      border: none;\n",
              "      border-radius: 50%;\n",
              "      cursor: pointer;\n",
              "      display: none;\n",
              "      fill: #1967D2;\n",
              "      height: 32px;\n",
              "      padding: 0 0 0 0;\n",
              "      width: 32px;\n",
              "    }\n",
              "\n",
              "    .colab-df-convert:hover {\n",
              "      background-color: #E2EBFA;\n",
              "      box-shadow: 0px 1px 2px rgba(60, 64, 67, 0.3), 0px 1px 3px 1px rgba(60, 64, 67, 0.15);\n",
              "      fill: #174EA6;\n",
              "    }\n",
              "\n",
              "    [theme=dark] .colab-df-convert {\n",
              "      background-color: #3B4455;\n",
              "      fill: #D2E3FC;\n",
              "    }\n",
              "\n",
              "    [theme=dark] .colab-df-convert:hover {\n",
              "      background-color: #434B5C;\n",
              "      box-shadow: 0px 1px 3px 1px rgba(0, 0, 0, 0.15);\n",
              "      filter: drop-shadow(0px 1px 2px rgba(0, 0, 0, 0.3));\n",
              "      fill: #FFFFFF;\n",
              "    }\n",
              "  </style>\n",
              "\n",
              "      <script>\n",
              "        const buttonEl =\n",
              "          document.querySelector('#df-659a2deb-6f2f-44be-95f8-5bc808bc3bd5 button.colab-df-convert');\n",
              "        buttonEl.style.display =\n",
              "          google.colab.kernel.accessAllowed ? 'block' : 'none';\n",
              "\n",
              "        async function convertToInteractive(key) {\n",
              "          const element = document.querySelector('#df-659a2deb-6f2f-44be-95f8-5bc808bc3bd5');\n",
              "          const dataTable =\n",
              "            await google.colab.kernel.invokeFunction('convertToInteractive',\n",
              "                                                     [key], {});\n",
              "          if (!dataTable) return;\n",
              "\n",
              "          const docLinkHtml = 'Like what you see? Visit the ' +\n",
              "            '<a target=\"_blank\" href=https://colab.research.google.com/notebooks/data_table.ipynb>data table notebook</a>'\n",
              "            + ' to learn more about interactive tables.';\n",
              "          element.innerHTML = '';\n",
              "          dataTable['output_type'] = 'display_data';\n",
              "          await google.colab.output.renderOutput(dataTable, element);\n",
              "          const docLink = document.createElement('div');\n",
              "          docLink.innerHTML = docLinkHtml;\n",
              "          element.appendChild(docLink);\n",
              "        }\n",
              "      </script>\n",
              "    </div>\n",
              "  </div>\n"
            ]
          },
          "metadata": {},
          "execution_count": 74
        }
      ]
    },
    {
      "cell_type": "code",
      "source": [
        "features = [\"sb_attempts\", \"catcher_stealing_runs\", \"n_cs\", \"rate_cs\", \"est_cs_pct\", \"cs_aa_per_throw\", \"seasonal_runner_speed\", \"runner_distance_from_second\", \"pop_time_percentile_rank\", \"exchange_time_percentile_rank\", \"arm_strength\", \"n_xcs_with_flight_over_xcs\", \"n_xcs_with_exchange_over_xcs\", \"n_xcs_with_accuracy_over_xcs\", \"n_xcs_with_ground_other_over_xcs\", \"n_xcs_with_onfly_other_over_xcs\", \"n_xcs_with_untracked_other_over_xcs\"]\n",
        "target = \"caught_stealing_above_average\""
      ],
      "metadata": {
        "id": "sh-n3QvYxw4l"
      },
      "execution_count": 75,
      "outputs": []
    },
    {
      "cell_type": "code",
      "source": [
        "X_train, X_test, y_train, y_test = train_test_split(catcher_all[features], catcher_all[target], test_size=0.2, random_state=42)"
      ],
      "metadata": {
        "id": "A76kWXHEx7FY"
      },
      "execution_count": 76,
      "outputs": []
    },
    {
      "cell_type": "code",
      "source": [
        "model = RandomForestRegressor(random_state=42)"
      ],
      "metadata": {
        "id": "D0emDL9TyuAr"
      },
      "execution_count": 77,
      "outputs": []
    },
    {
      "cell_type": "code",
      "source": [
        "model.fit(X_train, y_train)"
      ],
      "metadata": {
        "colab": {
          "base_uri": "https://localhost:8080/",
          "height": 76
        },
        "id": "YSbVYczvywYd",
        "outputId": "c3d08660-f182-4551-d927-3744380f575c"
      },
      "execution_count": 78,
      "outputs": [
        {
          "output_type": "execute_result",
          "data": {
            "text/plain": [
              "RandomForestRegressor(random_state=42)"
            ],
            "text/html": [
              "<style>#sk-container-id-4 {color: black;background-color: white;}#sk-container-id-4 pre{padding: 0;}#sk-container-id-4 div.sk-toggleable {background-color: white;}#sk-container-id-4 label.sk-toggleable__label {cursor: pointer;display: block;width: 100%;margin-bottom: 0;padding: 0.3em;box-sizing: border-box;text-align: center;}#sk-container-id-4 label.sk-toggleable__label-arrow:before {content: \"▸\";float: left;margin-right: 0.25em;color: #696969;}#sk-container-id-4 label.sk-toggleable__label-arrow:hover:before {color: black;}#sk-container-id-4 div.sk-estimator:hover label.sk-toggleable__label-arrow:before {color: black;}#sk-container-id-4 div.sk-toggleable__content {max-height: 0;max-width: 0;overflow: hidden;text-align: left;background-color: #f0f8ff;}#sk-container-id-4 div.sk-toggleable__content pre {margin: 0.2em;color: black;border-radius: 0.25em;background-color: #f0f8ff;}#sk-container-id-4 input.sk-toggleable__control:checked~div.sk-toggleable__content {max-height: 200px;max-width: 100%;overflow: auto;}#sk-container-id-4 input.sk-toggleable__control:checked~label.sk-toggleable__label-arrow:before {content: \"▾\";}#sk-container-id-4 div.sk-estimator input.sk-toggleable__control:checked~label.sk-toggleable__label {background-color: #d4ebff;}#sk-container-id-4 div.sk-label input.sk-toggleable__control:checked~label.sk-toggleable__label {background-color: #d4ebff;}#sk-container-id-4 input.sk-hidden--visually {border: 0;clip: rect(1px 1px 1px 1px);clip: rect(1px, 1px, 1px, 1px);height: 1px;margin: -1px;overflow: hidden;padding: 0;position: absolute;width: 1px;}#sk-container-id-4 div.sk-estimator {font-family: monospace;background-color: #f0f8ff;border: 1px dotted black;border-radius: 0.25em;box-sizing: border-box;margin-bottom: 0.5em;}#sk-container-id-4 div.sk-estimator:hover {background-color: #d4ebff;}#sk-container-id-4 div.sk-parallel-item::after {content: \"\";width: 100%;border-bottom: 1px solid gray;flex-grow: 1;}#sk-container-id-4 div.sk-label:hover label.sk-toggleable__label {background-color: #d4ebff;}#sk-container-id-4 div.sk-serial::before {content: \"\";position: absolute;border-left: 1px solid gray;box-sizing: border-box;top: 0;bottom: 0;left: 50%;z-index: 0;}#sk-container-id-4 div.sk-serial {display: flex;flex-direction: column;align-items: center;background-color: white;padding-right: 0.2em;padding-left: 0.2em;position: relative;}#sk-container-id-4 div.sk-item {position: relative;z-index: 1;}#sk-container-id-4 div.sk-parallel {display: flex;align-items: stretch;justify-content: center;background-color: white;position: relative;}#sk-container-id-4 div.sk-item::before, #sk-container-id-4 div.sk-parallel-item::before {content: \"\";position: absolute;border-left: 1px solid gray;box-sizing: border-box;top: 0;bottom: 0;left: 50%;z-index: -1;}#sk-container-id-4 div.sk-parallel-item {display: flex;flex-direction: column;z-index: 1;position: relative;background-color: white;}#sk-container-id-4 div.sk-parallel-item:first-child::after {align-self: flex-end;width: 50%;}#sk-container-id-4 div.sk-parallel-item:last-child::after {align-self: flex-start;width: 50%;}#sk-container-id-4 div.sk-parallel-item:only-child::after {width: 0;}#sk-container-id-4 div.sk-dashed-wrapped {border: 1px dashed gray;margin: 0 0.4em 0.5em 0.4em;box-sizing: border-box;padding-bottom: 0.4em;background-color: white;}#sk-container-id-4 div.sk-label label {font-family: monospace;font-weight: bold;display: inline-block;line-height: 1.2em;}#sk-container-id-4 div.sk-label-container {text-align: center;}#sk-container-id-4 div.sk-container {/* jupyter's `normalize.less` sets `[hidden] { display: none; }` but bootstrap.min.css set `[hidden] { display: none !important; }` so we also need the `!important` here to be able to override the default hidden behavior on the sphinx rendered scikit-learn.org. See: https://github.com/scikit-learn/scikit-learn/issues/21755 */display: inline-block !important;position: relative;}#sk-container-id-4 div.sk-text-repr-fallback {display: none;}</style><div id=\"sk-container-id-4\" class=\"sk-top-container\"><div class=\"sk-text-repr-fallback\"><pre>RandomForestRegressor(random_state=42)</pre><b>In a Jupyter environment, please rerun this cell to show the HTML representation or trust the notebook. <br />On GitHub, the HTML representation is unable to render, please try loading this page with nbviewer.org.</b></div><div class=\"sk-container\" hidden><div class=\"sk-item\"><div class=\"sk-estimator sk-toggleable\"><input class=\"sk-toggleable__control sk-hidden--visually\" id=\"sk-estimator-id-4\" type=\"checkbox\" checked><label for=\"sk-estimator-id-4\" class=\"sk-toggleable__label sk-toggleable__label-arrow\">RandomForestRegressor</label><div class=\"sk-toggleable__content\"><pre>RandomForestRegressor(random_state=42)</pre></div></div></div></div></div>"
            ]
          },
          "metadata": {},
          "execution_count": 78
        }
      ]
    },
    {
      "cell_type": "code",
      "source": [
        "importance_scores = model.feature_importances_"
      ],
      "metadata": {
        "id": "4q2j4KSGyy8N"
      },
      "execution_count": 79,
      "outputs": []
    },
    {
      "cell_type": "code",
      "source": [
        "feature_importance_df = pd.DataFrame({\"Feature\": features, \"Importance\": importance_scores})"
      ],
      "metadata": {
        "id": "v2A3R8I7y2FT"
      },
      "execution_count": 80,
      "outputs": []
    },
    {
      "cell_type": "code",
      "source": [
        "feature_importance_df = feature_importance_df.sort_values(by=\"Importance\", ascending=False)"
      ],
      "metadata": {
        "id": "g3AbUTXpy4yq"
      },
      "execution_count": 81,
      "outputs": []
    },
    {
      "cell_type": "code",
      "source": [
        "print(feature_importance_df)"
      ],
      "metadata": {
        "colab": {
          "base_uri": "https://localhost:8080/"
        },
        "id": "2zuVFkXwy7_c",
        "outputId": "3beca4a4-4385-44f9-fcad-5048580c8eca"
      },
      "execution_count": 82,
      "outputs": [
        {
          "output_type": "stream",
          "name": "stdout",
          "text": [
            "                                Feature  Importance\n",
            "1                 catcher_stealing_runs    0.542712\n",
            "5                       cs_aa_per_throw    0.401098\n",
            "3                               rate_cs    0.027224\n",
            "15      n_xcs_with_onfly_other_over_xcs    0.004671\n",
            "4                            est_cs_pct    0.003964\n",
            "14     n_xcs_with_ground_other_over_xcs    0.003079\n",
            "13         n_xcs_with_accuracy_over_xcs    0.002772\n",
            "11           n_xcs_with_flight_over_xcs    0.002466\n",
            "8              pop_time_percentile_rank    0.002457\n",
            "10                         arm_strength    0.002018\n",
            "7           runner_distance_from_second    0.001743\n",
            "12         n_xcs_with_exchange_over_xcs    0.001655\n",
            "0                           sb_attempts    0.000974\n",
            "16  n_xcs_with_untracked_other_over_xcs    0.000940\n",
            "9         exchange_time_percentile_rank    0.000805\n",
            "6                 seasonal_runner_speed    0.000763\n",
            "2                                  n_cs    0.000658\n"
          ]
        }
      ]
    },
    {
      "cell_type": "code",
      "source": [
        "y_pred = model.predict(X_test)"
      ],
      "metadata": {
        "id": "jVpCwB7Tj9cz"
      },
      "execution_count": 83,
      "outputs": []
    },
    {
      "cell_type": "code",
      "source": [
        "from sklearn.metrics import mean_squared_error, r2_score\n",
        "\n",
        "# Make predictions on the test data\n",
        "y_pred = model.predict(X_test)\n",
        "\n",
        "# Calculate mean squared error\n",
        "mse = mean_squared_error(y_test, y_pred)\n",
        "\n",
        "# Calculate R-squared\n",
        "r_squared = r2_score(y_test, y_pred)\n",
        "\n",
        "# Print the regression metrics\n",
        "print(\"Mean Squared Error:\", mse)\n",
        "print(\"R-squared:\", r_squared)"
      ],
      "metadata": {
        "colab": {
          "base_uri": "https://localhost:8080/"
        },
        "id": "--oZU_I3j2iP",
        "outputId": "5681ce8d-ab2a-463d-8979-8672a52aefd4"
      },
      "execution_count": 84,
      "outputs": [
        {
          "output_type": "stream",
          "name": "stdout",
          "text": [
            "Mean Squared Error: 10.272438205130559\n",
            "R-squared: 0.5480643758420165\n"
          ]
        }
      ]
    },
    {
      "cell_type": "code",
      "source": [
        "import matplotlib.pyplot as plt"
      ],
      "metadata": {
        "id": "m5xiE0pBbu8n"
      },
      "execution_count": 85,
      "outputs": []
    },
    {
      "cell_type": "code",
      "source": [
        "# importance_scores with the variable containing the importance scores from model\n",
        "importance_scores = [0.542712, 0.401098, 0.027224, 0.004671, 0.003964, 0.003079, 0.002772, 0.002466,0.002457,0.002018,0.001743,0.001655,0.000974,0.000940,0.000805,0.000763,0.000658]\n",
        "\n",
        "# features with the list of features used in the model\n",
        "features = [\"catcher_stealing_runs\", \"cs_aa_per_throw\", \"rate_cs\",\"n_xcs_with_onfly_other_over_xcs\",\"est_cs_pct\", \"n_xcs_with_ground_other_over_xcs\",\"n_xcs_with_accuracy_over_xcs\",\"n_xcs_with_flight_over_xcs\",\"pop_time_percentile_rank\",\"arm_strength\", \"runner_distance_from_second\",\"n_xcs_with_exchange_over_xcs\", \"sb_attempts\",\"n_xcs_with_untracked_other_over_xcs\",\"exchange_time_percentile_rank\",\"seasonal_runner_speed\",\"n_cs\"]\n",
        "\n",
        "# Create the DataFrame\n",
        "feature_importance_df = pd.DataFrame({\"Feature\": features, \"Importance\": importance_scores})\n",
        "\n",
        "# Sort the DataFrame by Importance in descending order to get the ranking\n",
        "feature_importance_df = feature_importance_df.sort_values(by=\"Importance\", ascending=False)\n"
      ],
      "metadata": {
        "id": "yRczPqRSbx9s"
      },
      "execution_count": 86,
      "outputs": []
    },
    {
      "cell_type": "code",
      "source": [
        "plt.figure(figsize=(10, 6))\n",
        "plt.bar(feature_importance_df['Feature'], feature_importance_df['Importance'])\n",
        "plt.xlabel('Variables')\n",
        "plt.ylabel('Importance Score')\n",
        "plt.title('Most Important Features to CAR')\n",
        "plt.xticks(rotation=45, ha='right')  # Rotates x-axis labels for better readability\n",
        "\n",
        "# Add the importance values as text over the bars\n",
        "for index, value in enumerate(feature_importance_df['Importance']):\n",
        "    plt.text(index, value, f'{value:.4f}', ha='center', va='bottom')\n",
        "\n",
        "plt.tight_layout()\n",
        "plt.show()"
      ],
      "metadata": {
        "colab": {
          "base_uri": "https://localhost:8080/",
          "height": 607
        },
        "id": "kIqSzkgZeA9Z",
        "outputId": "5defe8be-51bd-42dd-b1b5-3f2e5daa331e"
      },
      "execution_count": 87,
      "outputs": [
        {
          "output_type": "display_data",
          "data": {
            "text/plain": [
              "<Figure size 1000x600 with 1 Axes>"
            ],
            "image/png": "[encoded data removed]"
          },
          "metadata": {}
        }
      ]
    },
    {
      "cell_type": "code",
      "source": [
        "# Find the minimum and maximum values for each variable\n",
        "min_catcher_stealing_runs = catcher_all['catcher_stealing_runs'].min()\n",
        "max_catcher_stealing_runs = catcher_all['catcher_stealing_runs'].max()\n",
        "\n",
        "min_cs_aa_per_throw = catcher_all['cs_aa_per_throw'].min()\n",
        "max_cs_aa_per_throw = catcher_all['cs_aa_per_throw'].max()\n",
        "\n",
        "min_rate_cs = catcher_all['rate_cs'].min()\n",
        "max_rate_cs = catcher_all['rate_cs'].max()\n",
        "\n",
        "min_n_xcs_with_onfly_other_over_xcs = catcher_all['n_xcs_with_onfly_other_over_xcs'].min()\n",
        "max_n_xcs_with_onfly_other_over_xcs = catcher_all['n_xcs_with_onfly_other_over_xcs'].max()\n",
        "\n",
        "min_est_cs_pct  = catcher_all['est_cs_pct'].min()\n",
        "max_est_cs_pct  = catcher_all['est_cs_pct'].max()\n",
        "\n",
        "min_n_xcs_with_ground_other_over_xcs  = catcher_all['n_xcs_with_ground_other_over_xcs'].min()\n",
        "max_n_xcs_with_ground_other_over_xcs  = catcher_all['n_xcs_with_ground_other_over_xcs'].max()\n",
        "\n",
        "min_n_xcs_with_accuracy_over_xcs  = catcher_all['n_xcs_with_accuracy_over_xcs'].min()\n",
        "max_n_xcs_with_accuracy_over_xcs  = catcher_all['n_xcs_with_accuracy_over_xcs'].max()\n",
        "\n",
        "min_n_xcs_with_flight_over_xcs   = catcher_all['n_xcs_with_flight_over_xcs'].min()\n",
        "max_n_xcs_with_flight_over_xcs   = catcher_all['n_xcs_with_flight_over_xcs'].max()\n",
        "\n",
        "# Print the minimum and maximum values\n",
        "print(\"Minimum catcher_stealing_runs:\", min_catcher_stealing_runs)\n",
        "print(\"Maximum catcher_stealing_runs:\", max_catcher_stealing_runs)\n",
        "\n",
        "print(\"Minimum cs_aa_per_throw:\", min_cs_aa_per_throw)\n",
        "print(\"Maximum cs_aa_per_throw:\", max_cs_aa_per_throw)\n",
        "\n",
        "print(\"Minimum rate_cs:\", min_rate_cs)\n",
        "print(\"Maximum rate_cs:\", max_rate_cs)\n",
        "\n",
        "print(\"Minimum n_xcs_with_onfly_other_over_xcs:\", min_n_xcs_with_onfly_other_over_xcs)\n",
        "print(\"Maximum n_xcs_with_onfly_other_over_xcs:\", max_n_xcs_with_onfly_other_over_xcs)\n",
        "\n",
        "print(\"Minimum est_cs_pct:\", max_est_cs_pct)\n",
        "print(\"Maximum est_cs_pct:\", min_est_cs_pct)\n",
        "\n",
        "print(\"Minimum n_xcs_with_ground_other_over_xcs:\", min_n_xcs_with_ground_other_over_xcs)\n",
        "print(\"Maximum n_xcs_with_ground_other_over_xcs:\", max_n_xcs_with_ground_other_over_xcs)\n",
        "\n",
        "print(\"Minimum n_xcs_with_accuracy_over_xcs:\", min_n_xcs_with_accuracy_over_xcs)\n",
        "print(\"Maximum n_xcs_with_accuracy_over_xcs:\", max_n_xcs_with_accuracy_over_xcs)\n",
        "\n",
        "print(\"Minimum n_xcs_with_flight_over_xcs:\", min_n_xcs_with_flight_over_xcs)\n",
        "print(\"Maximum n_xcs_with_flight_over_xcs:\", max_n_xcs_with_flight_over_xcs)"
      ],
      "metadata": {
        "colab": {
          "base_uri": "https://localhost:8080/"
        },
        "id": "ulAae-kgzDGd",
        "outputId": "46f909a1-f157-49b7-b70e-cc41859aacc4"
      },
      "execution_count": 88,
      "outputs": [
        {
          "output_type": "stream",
          "name": "stdout",
          "text": [
            "Minimum catcher_stealing_runs: -4.196790375\n",
            "Maximum catcher_stealing_runs: 9.34303956\n",
            "Minimum cs_aa_per_throw: -0.226884381\n",
            "Maximum cs_aa_per_throw: 0.312476239\n",
            "Minimum rate_cs: 0.041666667\n",
            "Maximum rate_cs: 0.543478261\n",
            "Minimum n_xcs_with_onfly_other_over_xcs: -4.399191\n",
            "Maximum n_xcs_with_onfly_other_over_xcs: 2.428313879\n",
            "Minimum est_cs_pct: 0.366799959\n",
            "Maximum est_cs_pct: 0.153825707\n",
            "Minimum n_xcs_with_ground_other_over_xcs: -0.954927784\n",
            "Maximum n_xcs_with_ground_other_over_xcs: 1.935963428\n",
            "Minimum n_xcs_with_accuracy_over_xcs: -2.802301672\n",
            "Maximum n_xcs_with_accuracy_over_xcs: 2.71353211\n",
            "Minimum n_xcs_with_flight_over_xcs: -5.038184396\n",
            "Maximum n_xcs_with_flight_over_xcs: 6.749065472\n"
          ]
        }
      ]
    },
    {
      "cell_type": "code",
      "source": [
        "# Normalize the variables\n",
        "normalized_catcher_stealing_runs = (catcher_all['catcher_stealing_runs'] - min_catcher_stealing_runs) / (max_catcher_stealing_runs - min_catcher_stealing_runs)\n",
        "\n",
        "normalized_cs_aa_per_throw = (catcher_all['cs_aa_per_throw'] - min_cs_aa_per_throw) / (max_cs_aa_per_throw - min_cs_aa_per_throw)\n",
        "\n",
        "normalized_rate_cs = (catcher_all['rate_cs'] - min_rate_cs) / (max_rate_cs - min_rate_cs)\n",
        "\n",
        "normalized_n_xcs_with_onfly_other_over_xcs = (catcher_all['n_xcs_with_onfly_other_over_xcs'] - min_n_xcs_with_onfly_other_over_xcs) / (max_n_xcs_with_onfly_other_over_xcs - min_n_xcs_with_onfly_other_over_xcs)\n",
        "\n",
        "normalized_est_cs_pct = (catcher_all['est_cs_pct'] - min_est_cs_pct) / (max_est_cs_pct - min_est_cs_pct)\n",
        "\n",
        "normalized_n_xcs_with_ground_other_over_xcs = (catcher_all['n_xcs_with_ground_other_over_xcs'] - min_n_xcs_with_ground_other_over_xcs) / (max_n_xcs_with_ground_other_over_xcs - min_n_xcs_with_ground_other_over_xcs)\n",
        "\n",
        "normalized_n_xcs_with_accuracy_over_xcs = (catcher_all['n_xcs_with_accuracy_over_xcs'] - min_n_xcs_with_accuracy_over_xcs) / (max_n_xcs_with_accuracy_over_xcs - min_n_xcs_with_accuracy_over_xcs)\n",
        "\n",
        "normalized_n_xcs_with_flight_over_xcs = (catcher_all['n_xcs_with_flight_over_xcs'] - min_n_xcs_with_flight_over_xcs) / (max_n_xcs_with_flight_over_xcs - min_n_xcs_with_flight_over_xcs)\n",
        "\n",
        "# Display the normalized values\n",
        "catcher_all['normalized_catcher_stealing_runs'] = normalized_catcher_stealing_runs\n",
        "\n",
        "catcher_all['normalized_cs_aa_per_throw'] = normalized_cs_aa_per_throw\n",
        "\n",
        "catcher_all['normalized_rate_cs'] = normalized_rate_cs\n",
        "\n",
        "catcher_all['normalized_n_xcs_with_onfly_other_over_xcs'] = normalized_n_xcs_with_onfly_other_over_xcs\n",
        "\n",
        "catcher_all['normalized_est_cs_pct'] = normalized_est_cs_pct\n",
        "\n",
        "catcher_all['normalized_n_xcs_with_ground_other_over_xcs'] = normalized_n_xcs_with_ground_other_over_xcs\n",
        "\n",
        "catcher_all['normalized_n_xcs_with_accuracy_over_xcs'] = normalized_n_xcs_with_accuracy_over_xcs\n",
        "\n",
        "catcher_all['normalized_n_xcs_with_flight_over_xcs'] = normalized_n_xcs_with_flight_over_xcs\n",
        "\n",
        "print(catcher_all[['player_name', 'normalized_catcher_stealing_runs', 'normalized_cs_aa_per_throw', 'normalized_rate_cs', 'normalized_n_xcs_with_onfly_other_over_xcs', 'normalized_est_cs_pct', 'normalized_n_xcs_with_ground_other_over_xcs', 'normalized_n_xcs_with_accuracy_over_xcs', 'normalized_n_xcs_with_flight_over_xcs']])\n",
        "\n",
        "\n",
        "\n"
      ],
      "metadata": {
        "id": "hN0cpHhj0AQ1",
        "colab": {
          "base_uri": "https://localhost:8080/"
        },
        "outputId": "d627eb77-7359-4aa6-b940-fdc1150884fe"
      },
      "execution_count": 89,
      "outputs": [
        {
          "output_type": "stream",
          "name": "stdout",
          "text": [
            "               player_name  normalized_catcher_stealing_runs  \\\n",
            "0           Realmuto, J.T.                          1.000000   \n",
            "1   Bethancourt, Christian                          0.517962   \n",
            "2            Alfaro, Jorge                          0.306286   \n",
            "3             Murphy, Sean                          0.339666   \n",
            "4          Stubbs, Garrett                          0.400843   \n",
            "5        Maldonado, Martin                          0.537513   \n",
            "6       Contreras, Willson                          0.451908   \n",
            "7         Rutschman, Adley                          0.419608   \n",
            "8              Smith, Will                          0.149168   \n",
            "9            Sanchez, Gary                          0.411300   \n",
            "10            Fortes, Nick                          0.392858   \n",
            "11      Vazquez, Christian                          0.259012   \n",
            "12         Heineman, Tyler                          0.447143   \n",
            "13       Stephenson, Tyler                          0.324621   \n",
            "14             Diaz, Elias                          0.349026   \n",
            "15             Haase, Eric                          0.391864   \n",
            "16             Maile, Luke                          0.314594   \n",
            "17        Higashioka, Kyle                          0.463724   \n",
            "18            Adams, Riley                          0.258113   \n",
            "19         Mejia Francisco                          0.390076   \n",
            "20             Nido, Tomas                          0.395249   \n",
            "21            Melendez, MJ                          0.394456   \n",
            "22          McGuire, Reese                          0.430399   \n",
            "23              Gomes, Yan                          0.481934   \n",
            "24      Contreras, William                          0.119635   \n",
            "25           Jansen, Danny                          0.360709   \n",
            "26             Leon, Sandy                          0.179734   \n",
            "27           Jeffers, Ryan                          0.127470   \n",
            "28            Raleigh, Cal                          0.270073   \n",
            "29          Hedges, Austin                          0.097001   \n",
            "30        Barnhart, Tucker                          0.409126   \n",
            "31          Garcia, Aramis                          0.274079   \n",
            "32           Trevino, Jose                          0.396539   \n",
            "33         Perez, Salvador                          0.405095   \n",
            "34         Kirk, Alejandro                          0.330774   \n",
            "35           Kelly, Carson                          0.290992   \n",
            "36           Torrens, Luis                          0.358769   \n",
            "37           Serven, Brian                          0.262387   \n",
            "38        Stallings, Jacob                          0.153256   \n",
            "39           Narvaez, Omar                          0.315124   \n",
            "40              Bart, Joey                          0.211662   \n",
            "41        Caratini, Victor                          0.403416   \n",
            "42             Heim, Jonah                          0.272734   \n",
            "43            Casali, Curt                          0.240498   \n",
            "44        d'Arnaud, Travis                          0.184951   \n",
            "45            Nola, Austin                          0.085889   \n",
            "46            Delay, Jason                          0.306456   \n",
            "47           McCann, James                          0.355299   \n",
            "48            Zavala, Seby                          0.433297   \n",
            "49             Stassi, Max                          0.163105   \n",
            "50           Ruiz, Keibert                          0.308227   \n",
            "51         Knizner, Andrew                          0.270034   \n",
            "52          Molina, Yadier                          0.267694   \n",
            "53          Barnes, Austin                          0.209380   \n",
            "54      Chirinos, Robinson                          0.241002   \n",
            "55            Suzuki, Kurt                          0.143517   \n",
            "56      Papierski, Michael                          0.089366   \n",
            "57        Grandal, Yasmani                          0.077315   \n",
            "58         Plawecki, Kevin                          0.000000   \n",
            "59          Romine, Austin                          0.070336   \n",
            "\n",
            "    normalized_cs_aa_per_throw  normalized_rate_cs  \\\n",
            "0                     1.000000            1.000000   \n",
            "1                     0.866945            0.802647   \n",
            "2                     0.413561            0.215884   \n",
            "3                     0.451663            0.401698   \n",
            "4                     0.605391            0.546266   \n",
            "5                     0.620389            0.551034   \n",
            "6                     0.659010            0.610108   \n",
            "7                     0.604772            0.696751   \n",
            "8                     0.257237            0.179175   \n",
            "9                     0.523651            0.493825   \n",
            "10                    0.566183            0.460453   \n",
            "11                    0.378790            0.340963   \n",
            "12                    0.609875            0.628675   \n",
            "13                    0.439529            0.514801   \n",
            "14                    0.466376            0.400066   \n",
            "15                    0.519506            0.601986   \n",
            "16                    0.425920            0.444468   \n",
            "17                    0.668093            0.664260   \n",
            "18                    0.320538            0.116245   \n",
            "19                    0.531161            0.415162   \n",
            "20                    0.499082            0.391439   \n",
            "21                    0.568988            0.732196   \n",
            "22                    0.543062            0.598708   \n",
            "23                    0.610420            0.714079   \n",
            "24                    0.175639            0.049819   \n",
            "25                    0.493247            0.507421   \n",
            "26                    0.141245            0.138387   \n",
            "27                    0.177625            0.191834   \n",
            "28                    0.390450            0.424931   \n",
            "29                    0.259388            0.229560   \n",
            "30                    0.505764            0.536943   \n",
            "31                    0.343670            0.359807   \n",
            "32                    0.528518            0.495516   \n",
            "33                    0.604365            0.614440   \n",
            "34                    0.448375            0.604133   \n",
            "35                    0.402788            0.354407   \n",
            "36                    0.510421            0.486333   \n",
            "37                    0.364980            0.339678   \n",
            "38                    0.304270            0.223549   \n",
            "39                    0.428633            0.395235   \n",
            "40                    0.315201            0.249097   \n",
            "41                    0.523780            0.543270   \n",
            "42                    0.390703            0.332130   \n",
            "43                    0.262854            0.268635   \n",
            "44                    0.305705            0.296545   \n",
            "45                    0.219404            0.102342   \n",
            "46                    0.416998            0.401698   \n",
            "47                    0.496787            0.436823   \n",
            "48                    0.700856            0.620302   \n",
            "49                    0.275229            0.274646   \n",
            "50                    0.419343            0.464005   \n",
            "51                    0.329953            0.503079   \n",
            "52                    0.342926            0.486333   \n",
            "53                    0.226433            0.116245   \n",
            "54                    0.304865            0.523466   \n",
            "55                    0.152816            0.166065   \n",
            "56                    0.065677            0.000000   \n",
            "57                    0.171075            0.193742   \n",
            "58                    0.057902            0.098129   \n",
            "59                    0.000000            0.007548   \n",
            "\n",
            "    normalized_n_xcs_with_onfly_other_over_xcs  normalized_est_cs_pct  \\\n",
            "0                                     0.877422               0.362374   \n",
            "1                                     0.658131               0.234333   \n",
            "2                                     0.595562               0.000000   \n",
            "3                                     0.110742               0.341322   \n",
            "4                                     0.599095               0.292636   \n",
            "5                                     0.565533               0.265888   \n",
            "6                                     0.581435               0.307270   \n",
            "7                                     0.600518               0.648776   \n",
            "8                                     0.000000               0.309399   \n",
            "9                                     0.773650               0.376081   \n",
            "10                                    0.653094               0.189738   \n",
            "11                                    0.782234               0.382769   \n",
            "12                                    0.585196               0.475453   \n",
            "13                                    0.652966               0.638546   \n",
            "14                                    0.620039               0.300215   \n",
            "15                                    0.623619               0.641428   \n",
            "16                                    0.573079               0.507292   \n",
            "17                                    0.617692               0.411860   \n",
            "18                                    0.453352               0.000814   \n",
            "19                                    0.555149               0.171717   \n",
            "20                                    0.791498               0.197061   \n",
            "21                                    0.660754               0.822915   \n",
            "22                                    0.521101               0.574050   \n",
            "23                                    0.959847               0.675303   \n",
            "24                                    0.382591               0.211259   \n",
            "25                                    0.788687               0.485115   \n",
            "26                                    0.370929               0.507046   \n",
            "27                                    0.462923               0.540843   \n",
            "28                                    0.570805               0.551087   \n",
            "29                                    0.423069               0.422671   \n",
            "30                                    0.700320               0.522977   \n",
            "31                                    0.582446               0.516113   \n",
            "32                                    0.595174               0.367741   \n",
            "33                                    0.698951               0.455867   \n",
            "34                                    0.500629               0.826628   \n",
            "35                                    0.438018               0.353672   \n",
            "36                                    0.605907               0.391936   \n",
            "37                                    0.777270               0.414718   \n",
            "38                                    0.184751               0.294840   \n",
            "39                                    0.693763               0.384416   \n",
            "40                                    0.873920               0.327355   \n",
            "41                                    1.000000               0.492258   \n",
            "42                                    0.383048               0.331787   \n",
            "43                                    0.674573               0.505960   \n",
            "44                                    0.577769               0.463201   \n",
            "45                                    0.400956               0.224177   \n",
            "46                                    0.695756               0.429111   \n",
            "47                                    0.491547               0.309806   \n",
            "48                                    0.968134               0.225313   \n",
            "49                                    0.459306               0.488783   \n",
            "50                                    0.611519               0.569981   \n",
            "51                                    0.613137               0.888431   \n",
            "52                                    0.810247               0.816117   \n",
            "53                                    0.683095               0.239136   \n",
            "54                                    0.760392               1.000000   \n",
            "55                                    0.603603               0.542955   \n",
            "56                                    0.327176               0.372355   \n",
            "57                                    0.636293               0.561930   \n",
            "58                                    0.513934               0.623258   \n",
            "59                                    0.454970               0.556467   \n",
            "\n",
            "    normalized_n_xcs_with_ground_other_over_xcs  \\\n",
            "0                                      0.711125   \n",
            "1                                      0.330323   \n",
            "2                                      0.276550   \n",
            "3                                      0.013756   \n",
            "4                                      0.856547   \n",
            "5                                      0.509093   \n",
            "6                                      0.529148   \n",
            "7                                      0.995632   \n",
            "8                                      0.580705   \n",
            "9                                      0.859079   \n",
            "10                                     0.550149   \n",
            "11                                     0.165826   \n",
            "12                                     0.572014   \n",
            "13                                     0.498426   \n",
            "14                                     0.262006   \n",
            "15                                     0.604023   \n",
            "16                                     0.537280   \n",
            "17                                     0.632146   \n",
            "18                                     0.440507   \n",
            "19                                     0.228757   \n",
            "20                                     0.364803   \n",
            "21                                     0.330323   \n",
            "22                                     0.501928   \n",
            "23                                     0.305260   \n",
            "24                                     0.030534   \n",
            "25                                     0.407979   \n",
            "26                                     0.144222   \n",
            "27                                     0.563570   \n",
            "28                                     0.714712   \n",
            "29                                     0.323883   \n",
            "30                                     0.791757   \n",
            "31                                     0.234832   \n",
            "32                                     0.260888   \n",
            "33                                     0.017990   \n",
            "34                                     0.330323   \n",
            "35                                     0.765005   \n",
            "36                                     0.507153   \n",
            "37                                     0.308192   \n",
            "38                                     0.433324   \n",
            "39                                     0.651974   \n",
            "40                                     0.380559   \n",
            "41                                     0.471790   \n",
            "42                                     0.323407   \n",
            "43                                     0.314462   \n",
            "44                                     0.738378   \n",
            "45                                     0.000000   \n",
            "46                                     0.234947   \n",
            "47                                     0.523842   \n",
            "48                                     0.292950   \n",
            "49                                     1.000000   \n",
            "50                                     0.372707   \n",
            "51                                     0.453018   \n",
            "52                                     0.296288   \n",
            "53                                     0.330323   \n",
            "54                                     0.724122   \n",
            "55                                     0.754371   \n",
            "56                                     0.339056   \n",
            "57                                     0.369746   \n",
            "58                                     0.332475   \n",
            "59                                     0.352393   \n",
            "\n",
            "    normalized_n_xcs_with_accuracy_over_xcs  \\\n",
            "0                                  0.280402   \n",
            "1                                  0.830973   \n",
            "2                                  0.321492   \n",
            "3                                  0.378190   \n",
            "4                                  0.219418   \n",
            "5                                  0.673570   \n",
            "6                                  0.606429   \n",
            "7                                  0.199526   \n",
            "8                                  0.333492   \n",
            "9                                  0.245890   \n",
            "10                                 0.352765   \n",
            "11                                 0.191093   \n",
            "12                                 0.409028   \n",
            "13                                 0.412428   \n",
            "14                                 0.445207   \n",
            "15                                 0.288107   \n",
            "16                                 0.255693   \n",
            "17                                 0.801167   \n",
            "18                                 0.489861   \n",
            "19                                 0.794182   \n",
            "20                                 0.385914   \n",
            "21                                 0.524133   \n",
            "22                                 0.587152   \n",
            "23                                 0.348089   \n",
            "24                                 0.459695   \n",
            "25                                 0.496739   \n",
            "26                                 0.395417   \n",
            "27                                 0.194943   \n",
            "28                                 0.085567   \n",
            "29                                 0.000000   \n",
            "30                                 0.599183   \n",
            "31                                 0.503365   \n",
            "32                                 0.560282   \n",
            "33                                 0.795481   \n",
            "34                                 0.957592   \n",
            "35                                 0.544872   \n",
            "36                                 0.537865   \n",
            "37                                 0.553889   \n",
            "38                                 0.670283   \n",
            "39                                 0.519254   \n",
            "40                                 0.298048   \n",
            "41                                 0.443374   \n",
            "42                                 1.000000   \n",
            "43                                 0.509938   \n",
            "44                                 0.119491   \n",
            "45                                 0.499500   \n",
            "46                                 0.567387   \n",
            "47                                 0.560854   \n",
            "48                                 0.649588   \n",
            "49                                 0.223136   \n",
            "50                                 0.749333   \n",
            "51                                 0.684235   \n",
            "52                                 0.549224   \n",
            "53                                 0.261626   \n",
            "54                                 0.630684   \n",
            "55                                 0.368651   \n",
            "56                                 0.698240   \n",
            "57                                 0.502648   \n",
            "58                                 0.639888   \n",
            "59                                 0.506993   \n",
            "\n",
            "    normalized_n_xcs_with_flight_over_xcs  \n",
            "0                                1.000000  \n",
            "1                                0.652327  \n",
            "2                                0.550851  \n",
            "3                                0.704726  \n",
            "4                                0.519527  \n",
            "5                                0.768133  \n",
            "6                                0.547357  \n",
            "7                                0.691457  \n",
            "8                                0.501176  \n",
            "9                                0.730284  \n",
            "10                               0.417109  \n",
            "11                               0.337604  \n",
            "12                               0.175058  \n",
            "13                               0.554165  \n",
            "14                               0.598958  \n",
            "15                               0.629041  \n",
            "16                               0.576672  \n",
            "17                               0.329983  \n",
            "18                               0.512999  \n",
            "19                               0.679752  \n",
            "20                               0.212433  \n",
            "21                               0.505319  \n",
            "22                               0.261210  \n",
            "23                               0.278962  \n",
            "24                               0.445233  \n",
            "25                               0.410621  \n",
            "26                               0.321060  \n",
            "27                               0.496088  \n",
            "28                               0.712134  \n",
            "29                               0.472128  \n",
            "30                               0.156801  \n",
            "31                               0.520279  \n",
            "32                               0.190595  \n",
            "33                               0.429013  \n",
            "34                               0.336105  \n",
            "35                               0.450345  \n",
            "36                               0.493949  \n",
            "37                               0.441220  \n",
            "38                               0.428390  \n",
            "39                               0.329307  \n",
            "40                               0.484935  \n",
            "41                               0.334751  \n",
            "42                               0.598417  \n",
            "43                               0.381813  \n",
            "44                               0.495063  \n",
            "45                               0.378563  \n",
            "46                               0.253018  \n",
            "47                               0.381851  \n",
            "48                               0.438048  \n",
            "49                               0.259487  \n",
            "50                               0.146191  \n",
            "51                               0.420632  \n",
            "52                               0.336458  \n",
            "53                               0.239114  \n",
            "54                               0.278475  \n",
            "55                               0.358313  \n",
            "56                               0.265961  \n",
            "57                               0.116987  \n",
            "58                               0.000000  \n",
            "59                               0.415275  \n"
          ]
        }
      ]
    },
    {
      "cell_type": "code",
      "source": [
        "# Define weights for each variable\n",
        "weight_catcher_stealing_runs = 0.542712\n",
        "weight_cs_aa_per_throw = 0.401098\n",
        "weight_rate_cs = 0.027224\n",
        "weight_n_xcs_with_onfly_other_over_xcs = 0.004671\n",
        "weight_est_cs_pct = 0.003964\n",
        "weight_n_xcs_with_ground_other_over_xcs = 0.003079\n",
        "weight_n_xcs_with_accuracy_over_xcs = 0.002772\n",
        "weight_n_xcs_with_flight_over_xcs = 0.002466\n",
        "\n",
        "# Normalize the weights to add up to 1.0\n",
        "total_weight_sum = (\n",
        "    weight_catcher_stealing_runs +\n",
        "    weight_cs_aa_per_throw +\n",
        "    weight_rate_cs +\n",
        "    weight_n_xcs_with_onfly_other_over_xcs +\n",
        "    weight_est_cs_pct +\n",
        "    weight_n_xcs_with_ground_other_over_xcs +\n",
        "    weight_n_xcs_with_accuracy_over_xcs +\n",
        "    weight_n_xcs_with_flight_over_xcs\n",
        ")\n",
        "\n",
        "weight_catcher_stealing_runs /= total_weight_sum\n",
        "weight_cs_aa_per_throw /= total_weight_sum\n",
        "weight_rate_cs /= total_weight_sum\n",
        "weight_n_xcs_with_onfly_other_over_xcs /= total_weight_sum\n",
        "weight_est_cs_pct /= total_weight_sum\n",
        "weight_n_xcs_with_ground_other_over_xcs /= total_weight_sum\n",
        "weight_n_xcs_with_accuracy_over_xcs /= total_weight_sum\n",
        "weight_n_xcs_with_flight_over_xcs /= total_weight_sum\n",
        "\n",
        "# Display the normalized weights\n",
        "print(\"Normalized Weights:\")\n",
        "print(\"catcher_stealing_runs:\", weight_catcher_stealing_runs)\n",
        "print(\"cs_aa_per_throw:\", weight_cs_aa_per_throw)\n",
        "print(\"rate_cs:\", weight_rate_cs)\n",
        "print(\"n_xcs_with_onfly_other_over_xcs:\", weight_n_xcs_with_onfly_other_over_xcs)\n",
        "print(\"est_cs_pct:\", weight_est_cs_pct)\n",
        "print(\"n_xcs_with_ground_other_over_xcs:\", weight_n_xcs_with_ground_other_over_xcs)\n",
        "print(\"n_xcs_with_accuracy_over_xcs:\", weight_n_xcs_with_accuracy_over_xcs)\n",
        "print(\"n_xcs_with_flight_over_xcs:\", weight_n_xcs_with_flight_over_xcs)\n"
      ],
      "metadata": {
        "colab": {
          "base_uri": "https://localhost:8080/"
        },
        "id": "JJOG0S_gD7Xn",
        "outputId": "a02f26b2-4802-4736-f830-fb5e8c959af6"
      },
      "execution_count": 90,
      "outputs": [
        {
          "output_type": "stream",
          "name": "stdout",
          "text": [
            "Normalized Weights:\n",
            "catcher_stealing_runs: 0.5493114274898632\n",
            "cs_aa_per_throw: 0.40597538831521907\n",
            "rate_cs: 0.02755504632656738\n",
            "n_xcs_with_onfly_other_over_xcs: 0.004727799786636652\n",
            "est_cs_pct: 0.0040122026020611625\n",
            "n_xcs_with_ground_other_over_xcs: 0.0031164409212276287\n",
            "n_xcs_with_accuracy_over_xcs: 0.0028057077731870697\n",
            "n_xcs_with_flight_over_xcs: 0.0024959867852378474\n"
          ]
        }
      ]
    },
    {
      "cell_type": "code",
      "source": [
        "normalized_catcher_stealing_runs = catcher_all['normalized_catcher_stealing_runs']\n",
        "normalized_cs_aa_per_throw = catcher_all['normalized_cs_aa_per_throw']\n",
        "normalized_rate_cs = catcher_all['normalized_rate_cs']\n",
        "normalized_n_xcs_with_onfly_other_over_xcs = catcher_all['normalized_n_xcs_with_onfly_other_over_xcs']\n",
        "normalized_est_cs_pct = catcher_all['normalized_est_cs_pct']\n",
        "normalized_n_xcs_with_ground_other_over_xcs = catcher_all['normalized_n_xcs_with_ground_other_over_xcs']\n",
        "normalized_n_xcs_with_accuracy_over_xcs = catcher_all['normalized_n_xcs_with_accuracy_over_xcs']\n",
        "normalized_n_xcs_with_flight_over_xcs = catcher_all['normalized_n_xcs_with_flight_over_xcs']\n",
        "\n"
      ],
      "metadata": {
        "id": "xkZI8j58FvUt"
      },
      "execution_count": 91,
      "outputs": []
    },
    {
      "cell_type": "code",
      "source": [
        "CAR =(0.543 * normalized_catcher_stealing_runs)+ (0.401 * normalized_cs_aa_per_throw) +(0.027 * normalized_rate_cs) +(0.005 * normalized_n_xcs_with_onfly_other_over_xcs) +(0.004 * normalized_est_cs_pct) +(0.003 * normalized_n_xcs_with_ground_other_over_xcs) +(0.003 * normalized_n_xcs_with_accuracy_over_xcs) +(0.002 * normalized_n_xcs_with_flight_over_xcs)"
      ],
      "metadata": {
        "id": "JhoHcyUFEXGM"
      },
      "execution_count": 92,
      "outputs": []
    },
    {
      "cell_type": "code",
      "source": [
        "catcher_all['CAR'] = (\n",
        "    weight_catcher_stealing_runs * catcher_all['normalized_catcher_stealing_runs'] +\n",
        "    weight_cs_aa_per_throw * catcher_all['normalized_cs_aa_per_throw'] +\n",
        "    weight_rate_cs * catcher_all['normalized_rate_cs'] +\n",
        "    weight_n_xcs_with_onfly_other_over_xcs * catcher_all['normalized_n_xcs_with_onfly_other_over_xcs'] +\n",
        "    weight_est_cs_pct * catcher_all['normalized_est_cs_pct'] +\n",
        "    weight_n_xcs_with_ground_other_over_xcs * catcher_all['normalized_n_xcs_with_ground_other_over_xcs'] +\n",
        "    weight_n_xcs_with_accuracy_over_xcs * catcher_all['normalized_n_xcs_with_accuracy_over_xcs'] +\n",
        "    weight_n_xcs_with_flight_over_xcs * catcher_all['normalized_n_xcs_with_flight_over_xcs']\n",
        ")"
      ],
      "metadata": {
        "id": "sZ57wVn3GR0f"
      },
      "execution_count": 93,
      "outputs": []
    },
    {
      "cell_type": "code",
      "source": [
        "CAR_scores = catcher_all['CAR']\n",
        "\n",
        "# Check if there are any missing or NaN values in the 'TDIR_scores'\n",
        "if CAR_scores.isnull().any():\n",
        "    raise ValueError(\"CAR scores contain missing or NaN values\")\n",
        "\n",
        "# Calculate the average TDIR score\n",
        "average_CAR = CAR_scores.mean()\n",
        "\n",
        "print(\"Average CAR:\", average_CAR)"
      ],
      "metadata": {
        "colab": {
          "base_uri": "https://localhost:8080/"
        },
        "id": "wPHb7YBJGiSJ",
        "outputId": "442f547d-dcbd-42bb-d685-701bc9de864a"
      },
      "execution_count": 94,
      "outputs": [
        {
          "output_type": "stream",
          "name": "stdout",
          "text": [
            "Average CAR: 0.35971324164898244\n"
          ]
        }
      ]
    },
    {
      "cell_type": "code",
      "source": [
        "print(catcher_all[['player_name', 'CAR']])"
      ],
      "metadata": {
        "colab": {
          "base_uri": "https://localhost:8080/"
        },
        "id": "nDqbwM3OJ0WQ",
        "outputId": "a795fbe0-2871-4881-8195-d7677b39a081"
      },
      "execution_count": 95,
      "outputs": [
        {
          "output_type": "stream",
          "name": "stdout",
          "text": [
            "               player_name       CAR\n",
            "0           Realmuto, J.T.  0.993943\n",
            "1   Bethancourt, Christian  0.667639\n",
            "2            Alfaro, Jorge  0.348045\n",
            "3             Murphy, Sean  0.385771\n",
            "4          Stubbs, Garrett  0.489602\n",
            "5        Maldonado, Martin  0.571442\n",
            "6       Contreras, Willson  0.541290\n",
            "7         Rutschman, Adley  0.506048\n",
            "8              Smith, Will  0.196547\n",
            "9            Sanchez, Gary  0.462485\n",
            "10            Fortes, Nick  0.465940\n",
            "11      Vazquez, Christian  0.312583\n",
            "12         Heineman, Tyler  0.518580\n",
            "13       Stephenson, Tyler  0.380684\n",
            "14             Diaz, Elias  0.399782\n",
            "15             Haase, Eric  0.452533\n",
            "16             Maile, Luke  0.366547\n",
            "17        Higashioka, Kyle  0.553876\n",
            "18            Adams, Riley  0.281292\n",
            "19         Mejia Francisco  0.449303\n",
            "20             Nido, Tomas  0.437798\n",
            "21            Melendez, MJ  0.478037\n",
            "22          McGuire, Reese  0.482021\n",
            "23              Gomes, Yan  0.542095\n",
            "24      Contreras, William  0.143547\n",
            "25           Jansen, Danny  0.421735\n",
            "26             Leon, Sandy  0.166034\n",
            "27           Jeffers, Ryan  0.155319\n",
            "28            Raleigh, Cal  0.327731\n",
            "29          Hedges, Austin  0.170798\n",
            "30        Barnhart, Tucker  0.454810\n",
            "31          Garcia, Aramis  0.308258\n",
            "32           Trevino, Jose  0.453193\n",
            "33         Perez, Salvador  0.493304\n",
            "34         Kirk, Alejandro  0.390613\n",
            "35           Kelly, Carson  0.341660\n",
            "36           Torrens, Luis  0.426455\n",
            "37           Serven, Brian  0.310619\n",
            "38        Stallings, Jacob  0.220228\n",
            "39           Narvaez, Omar  0.367139\n",
            "40              Bart, Joey  0.259774\n",
            "41        Caratini, Victor  0.459465\n",
            "42             Heim, Jonah  0.326033\n",
            "43            Casali, Curt  0.254806\n",
            "44        d'Arnaud, Travis  0.242338\n",
            "45            Nola, Austin  0.144214\n",
            "46            Delay, Jason  0.356666\n",
            "47           McCann, James  0.416616\n",
            "48            Zavala, Seby  0.548948\n",
            "49             Stassi, Max  0.217422\n",
            "50           Ruiz, Keibert  0.361148\n",
            "51         Knizner, Andrew  0.306993\n",
            "52          Molina, Yadier  0.310077\n",
            "53          Barnes, Austin  0.216693\n",
            "54      Chirinos, Robinson  0.282906\n",
            "55            Suzuki, Kurt  0.154763\n",
            "56      Papierski, Michael  0.082473\n",
            "57        Grandal, Yasmani  0.125378\n",
            "58         Plawecki, Kevin  0.033972\n",
            "59          Romine, Austin  0.046785\n"
          ]
        }
      ]
    },
    {
      "cell_type": "code",
      "source": [
        "block_all = pd.read_csv('/content/drive/MyDrive/TDIR/2022 catcher_blocking .csv')"
      ],
      "metadata": {
        "id": "MflhDpa_LWWQ"
      },
      "execution_count": 96,
      "outputs": []
    },
    {
      "cell_type": "code",
      "source": [
        "features = [\"pitches\", \"n_pbwp\", \"x_pbwp\", \"freq_pbwp_easy\", \"freq_pbwp_medium\", \"freq_pbwp_tough\", \"diff_pbwp_easy\", \"diff_pbwp_medium\", \"diff_pbwp_tough\"]\n",
        "target = \"blocks_above_average\""
      ],
      "metadata": {
        "id": "PSD9V1aYMGqV"
      },
      "execution_count": 97,
      "outputs": []
    },
    {
      "cell_type": "code",
      "source": [
        "X_train, X_test, y_train, y_test = train_test_split(block_all[features], block_all[target], test_size=0.2, random_state=42)"
      ],
      "metadata": {
        "id": "Mu9-qQ8QMHxe"
      },
      "execution_count": 98,
      "outputs": []
    },
    {
      "cell_type": "code",
      "source": [
        "model = RandomForestRegressor(random_state=42)"
      ],
      "metadata": {
        "id": "GaihZnVrMMQ7"
      },
      "execution_count": 99,
      "outputs": []
    },
    {
      "cell_type": "code",
      "source": [
        "model.fit(X_train, y_train)"
      ],
      "metadata": {
        "colab": {
          "base_uri": "https://localhost:8080/",
          "height": 76
        },
        "id": "fE0B9bRWMOo8",
        "outputId": "3cb5e47c-29a9-49dd-e43c-caa3bffe6de5"
      },
      "execution_count": 100,
      "outputs": [
        {
          "output_type": "execute_result",
          "data": {
            "text/plain": [
              "RandomForestRegressor(random_state=42)"
            ],
            "text/html": [
              "<style>#sk-container-id-5 {color: black;background-color: white;}#sk-container-id-5 pre{padding: 0;}#sk-container-id-5 div.sk-toggleable {background-color: white;}#sk-container-id-5 label.sk-toggleable__label {cursor: pointer;display: block;width: 100%;margin-bottom: 0;padding: 0.3em;box-sizing: border-box;text-align: center;}#sk-container-id-5 label.sk-toggleable__label-arrow:before {content: \"▸\";float: left;margin-right: 0.25em;color: #696969;}#sk-container-id-5 label.sk-toggleable__label-arrow:hover:before {color: black;}#sk-container-id-5 div.sk-estimator:hover label.sk-toggleable__label-arrow:before {color: black;}#sk-container-id-5 div.sk-toggleable__content {max-height: 0;max-width: 0;overflow: hidden;text-align: left;background-color: #f0f8ff;}#sk-container-id-5 div.sk-toggleable__content pre {margin: 0.2em;color: black;border-radius: 0.25em;background-color: #f0f8ff;}#sk-container-id-5 input.sk-toggleable__control:checked~div.sk-toggleable__content {max-height: 200px;max-width: 100%;overflow: auto;}#sk-container-id-5 input.sk-toggleable__control:checked~label.sk-toggleable__label-arrow:before {content: \"▾\";}#sk-container-id-5 div.sk-estimator input.sk-toggleable__control:checked~label.sk-toggleable__label {background-color: #d4ebff;}#sk-container-id-5 div.sk-label input.sk-toggleable__control:checked~label.sk-toggleable__label {background-color: #d4ebff;}#sk-container-id-5 input.sk-hidden--visually {border: 0;clip: rect(1px 1px 1px 1px);clip: rect(1px, 1px, 1px, 1px);height: 1px;margin: -1px;overflow: hidden;padding: 0;position: absolute;width: 1px;}#sk-container-id-5 div.sk-estimator {font-family: monospace;background-color: #f0f8ff;border: 1px dotted black;border-radius: 0.25em;box-sizing: border-box;margin-bottom: 0.5em;}#sk-container-id-5 div.sk-estimator:hover {background-color: #d4ebff;}#sk-container-id-5 div.sk-parallel-item::after {content: \"\";width: 100%;border-bottom: 1px solid gray;flex-grow: 1;}#sk-container-id-5 div.sk-label:hover label.sk-toggleable__label {background-color: #d4ebff;}#sk-container-id-5 div.sk-serial::before {content: \"\";position: absolute;border-left: 1px solid gray;box-sizing: border-box;top: 0;bottom: 0;left: 50%;z-index: 0;}#sk-container-id-5 div.sk-serial {display: flex;flex-direction: column;align-items: center;background-color: white;padding-right: 0.2em;padding-left: 0.2em;position: relative;}#sk-container-id-5 div.sk-item {position: relative;z-index: 1;}#sk-container-id-5 div.sk-parallel {display: flex;align-items: stretch;justify-content: center;background-color: white;position: relative;}#sk-container-id-5 div.sk-item::before, #sk-container-id-5 div.sk-parallel-item::before {content: \"\";position: absolute;border-left: 1px solid gray;box-sizing: border-box;top: 0;bottom: 0;left: 50%;z-index: -1;}#sk-container-id-5 div.sk-parallel-item {display: flex;flex-direction: column;z-index: 1;position: relative;background-color: white;}#sk-container-id-5 div.sk-parallel-item:first-child::after {align-self: flex-end;width: 50%;}#sk-container-id-5 div.sk-parallel-item:last-child::after {align-self: flex-start;width: 50%;}#sk-container-id-5 div.sk-parallel-item:only-child::after {width: 0;}#sk-container-id-5 div.sk-dashed-wrapped {border: 1px dashed gray;margin: 0 0.4em 0.5em 0.4em;box-sizing: border-box;padding-bottom: 0.4em;background-color: white;}#sk-container-id-5 div.sk-label label {font-family: monospace;font-weight: bold;display: inline-block;line-height: 1.2em;}#sk-container-id-5 div.sk-label-container {text-align: center;}#sk-container-id-5 div.sk-container {/* jupyter's `normalize.less` sets `[hidden] { display: none; }` but bootstrap.min.css set `[hidden] { display: none !important; }` so we also need the `!important` here to be able to override the default hidden behavior on the sphinx rendered scikit-learn.org. See: https://github.com/scikit-learn/scikit-learn/issues/21755 */display: inline-block !important;position: relative;}#sk-container-id-5 div.sk-text-repr-fallback {display: none;}</style><div id=\"sk-container-id-5\" class=\"sk-top-container\"><div class=\"sk-text-repr-fallback\"><pre>RandomForestRegressor(random_state=42)</pre><b>In a Jupyter environment, please rerun this cell to show the HTML representation or trust the notebook. <br />On GitHub, the HTML representation is unable to render, please try loading this page with nbviewer.org.</b></div><div class=\"sk-container\" hidden><div class=\"sk-item\"><div class=\"sk-estimator sk-toggleable\"><input class=\"sk-toggleable__control sk-hidden--visually\" id=\"sk-estimator-id-5\" type=\"checkbox\" checked><label for=\"sk-estimator-id-5\" class=\"sk-toggleable__label sk-toggleable__label-arrow\">RandomForestRegressor</label><div class=\"sk-toggleable__content\"><pre>RandomForestRegressor(random_state=42)</pre></div></div></div></div></div>"
            ]
          },
          "metadata": {},
          "execution_count": 100
        }
      ]
    },
    {
      "cell_type": "code",
      "source": [
        "importance_scores = model.feature_importances_"
      ],
      "metadata": {
        "id": "IbtKpZRDMd8N"
      },
      "execution_count": 101,
      "outputs": []
    },
    {
      "cell_type": "code",
      "source": [
        "feature_importance_df = pd.DataFrame({\"Feature\": features, \"Importance\": importance_scores})"
      ],
      "metadata": {
        "id": "QNZSxO4ZMgvJ"
      },
      "execution_count": 102,
      "outputs": []
    },
    {
      "cell_type": "code",
      "source": [
        "feature_importance_df = feature_importance_df.sort_values(by=\"Importance\", ascending=False)"
      ],
      "metadata": {
        "id": "XPYdXNsKMh2k"
      },
      "execution_count": 103,
      "outputs": []
    },
    {
      "cell_type": "code",
      "source": [
        "print(feature_importance_df)"
      ],
      "metadata": {
        "colab": {
          "base_uri": "https://localhost:8080/"
        },
        "id": "zgVRhkwxMkZq",
        "outputId": "12edebf9-7818-4f7d-a415-35fdf56e8e89"
      },
      "execution_count": 104,
      "outputs": [
        {
          "output_type": "stream",
          "name": "stdout",
          "text": [
            "            Feature  Importance\n",
            "6    diff_pbwp_easy    0.569345\n",
            "7  diff_pbwp_medium    0.234765\n",
            "2            x_pbwp    0.066677\n",
            "8   diff_pbwp_tough    0.054000\n",
            "5   freq_pbwp_tough    0.022312\n",
            "4  freq_pbwp_medium    0.018361\n",
            "3    freq_pbwp_easy    0.012603\n",
            "0           pitches    0.012202\n",
            "1            n_pbwp    0.009735\n"
          ]
        }
      ]
    },
    {
      "cell_type": "code",
      "source": [
        "y_pred = model.predict(X_test)"
      ],
      "metadata": {
        "id": "9p3u1SO1MwDK"
      },
      "execution_count": 105,
      "outputs": []
    },
    {
      "cell_type": "code",
      "source": [
        "from sklearn.metrics import mean_squared_error, r2_score\n",
        "\n",
        "# Make predictions on the test data\n",
        "y_pred = model.predict(X_test)\n",
        "\n",
        "# Calculate mean squared error\n",
        "mse = mean_squared_error(y_test, y_pred)\n",
        "\n",
        "# Calculate R-squared\n",
        "r_squared = r2_score(y_test, y_pred)\n",
        "\n",
        "# Print the regression metrics\n",
        "print(\"Mean Squared Error:\", mse)\n",
        "print(\"R-squared:\", r_squared)"
      ],
      "metadata": {
        "colab": {
          "base_uri": "https://localhost:8080/"
        },
        "id": "a-ZhiWtiMxKe",
        "outputId": "926bbdff-bf4c-4b65-9e51-c3c32c63cbd9"
      },
      "execution_count": 106,
      "outputs": [
        {
          "output_type": "stream",
          "name": "stdout",
          "text": [
            "Mean Squared Error: 32.64475\n",
            "R-squared: 0.6828250136320825\n"
          ]
        }
      ]
    },
    {
      "cell_type": "code",
      "source": [
        "import matplotlib.pyplot as plt"
      ],
      "metadata": {
        "id": "BzAbhuZtM3AY"
      },
      "execution_count": 107,
      "outputs": []
    },
    {
      "cell_type": "code",
      "source": [
        "# importance_scores with the variable containing the importance scores from model\n",
        "importance_scores = [0.569345, 0.234765, 0.066677, 0.054000, 0.022312, 0.018361, 0.012603, 0.012202,0.009735]\n",
        "\n",
        "# list of features used in the model\n",
        "features = [\"diff_pbwp_easy\", \" diff_pbwp_medium\",\"x_pbwp\", \"diff_pbwp_tough\", \"freq_pbwp_tough\",\"freq_pbwp_medium\",\"n_pbwp\",\"pitches\",\"freq_pbwp_easy\"]\n",
        "\n",
        "# Create the DataFrame\n",
        "feature_importance_df = pd.DataFrame({\"Feature\": features, \"Importance\": importance_scores})\n",
        "\n",
        "# Sort the DataFrame by Importance in descending order to get the ranking\n",
        "feature_importance_df = feature_importance_df.sort_values(by=\"Importance\", ascending=False)"
      ],
      "metadata": {
        "id": "Bf_FDSs7M51O"
      },
      "execution_count": 108,
      "outputs": []
    },
    {
      "cell_type": "code",
      "source": [
        "# Find the minimum and maximum values for each variable\n",
        "min_diff_pbwp_easy = block_all['diff_pbwp_easy'].min()\n",
        "max_diff_pbwp_easy = block_all['diff_pbwp_easy'].max()\n",
        "\n",
        "min_diff_pbwp_medium = block_all['diff_pbwp_medium'].min()\n",
        "max_diff_pbwp_medium = block_all['diff_pbwp_medium'].max()\n",
        "\n",
        "min_x_pbwp = block_all['x_pbwp'].min()\n",
        "max_x_pbwp = block_all['x_pbwp'].max()\n",
        "\n",
        "min_diff_pbwp_tough = block_all['diff_pbwp_tough'].min()\n",
        "max_diff_pbwp_tough = block_all['diff_pbwp_tough'].max()\n",
        "\n",
        "min_freq_pbwp_tough  = block_all['freq_pbwp_tough'].min()\n",
        "max_freq_pbwp_tough  = block_all['freq_pbwp_tough'].max()\n",
        "\n",
        "min_freq_pbwp_medium  = block_all['freq_pbwp_medium'].min()\n",
        "max_freq_pbwp_medium  = block_all['freq_pbwp_medium'].max()\n",
        "\n",
        "min_freq_pbwp_easy  = block_all['freq_pbwp_easy'].min()\n",
        "max_freq_pbwp_easy  = block_all['freq_pbwp_easy'].max()\n",
        "\n",
        "min_pitches = block_all['pitches'].min()\n",
        "max_pitches = block_all['pitches'].max()\n",
        "\n",
        "min_n_pbwp = block_all['n_pbwp'].min()\n",
        "max_n_pbwp = block_all['n_pbwp'].max()\n",
        "\n",
        "# Print the minimum and maximum values\n",
        "print(\"Minimum diff_pbwp_easy:\", min_diff_pbwp_easy)\n",
        "print(\"Maximum diff_pbwp_easy:\", max_diff_pbwp_easy)\n",
        "\n",
        "print(\"Minimum diff_pbwp_medium:\", min_diff_pbwp_medium)\n",
        "print(\"Maximum diff_pbwp_medium:\", max_diff_pbwp_medium)\n",
        "\n",
        "print(\"Minimum x_pbwp:\", min_x_pbwp)\n",
        "print(\"Maximum x_pbwp:\", max_x_pbwp)\n",
        "\n",
        "print(\"Minimum  diff_pbwp_tough :\", min_diff_pbwp_tough )\n",
        "print(\"Maximum  diff_pbwp_tough :\", max_diff_pbwp_tough )\n",
        "\n",
        "print(\"Minimum freq_pbwp_tough:\", max_freq_pbwp_tough)\n",
        "print(\"Maximum freq_pbwp_tough:\", min_freq_pbwp_tough)\n",
        "\n",
        "print(\"Minimum freq_pbwp_medium:\", min_freq_pbwp_medium)\n",
        "print(\"Maximum freq_pbwp_medium:\", max_freq_pbwp_medium)\n",
        "\n",
        "print(\"Minimum freq_pbwp_easy:\", min_freq_pbwp_easy)\n",
        "print(\"Maximum freq_pbwp_easy:\", max_freq_pbwp_easy)\n",
        "\n",
        "print(\"Minimum pitches:\", min_pitches)\n",
        "print(\"Maximum pitches:\", max_pitches)\n",
        "\n",
        "print(\"Minimum n_pbwp:\", min_n_pbwp)\n",
        "print(\"Maximum n_pbwp:\", max_n_pbwp)"
      ],
      "metadata": {
        "colab": {
          "base_uri": "https://localhost:8080/"
        },
        "id": "ZFVUNyRyM-MR",
        "outputId": "732a1377-1bc3-4d9a-bc5c-4db82bd9a43b"
      },
      "execution_count": 109,
      "outputs": [
        {
          "output_type": "stream",
          "name": "stdout",
          "text": [
            "Minimum diff_pbwp_easy: -10.03631816\n",
            "Maximum diff_pbwp_easy: 10.77733156\n",
            "Minimum diff_pbwp_medium: -15.43266491\n",
            "Maximum diff_pbwp_medium: 8.038219804\n",
            "Minimum x_pbwp: 8.541459012\n",
            "Maximum x_pbwp: 50.83412572\n",
            "Minimum  diff_pbwp_tough : -6.212052254\n",
            "Maximum  diff_pbwp_tough : 4.622812912\n",
            "Minimum freq_pbwp_tough: 0.019160584\n",
            "Maximum freq_pbwp_tough: 0.005559968\n",
            "Minimum freq_pbwp_medium: 0.022905759\n",
            "Maximum freq_pbwp_medium: 0.05099278\n",
            "Minimum freq_pbwp_easy: 0.932177616\n",
            "Maximum freq_pbwp_easy: 0.969023034\n",
            "Minimum pitches: 1015\n",
            "Maximum pitches: 5121\n",
            "Minimum n_pbwp: 9\n",
            "Maximum n_pbwp: 54\n"
          ]
        }
      ]
    },
    {
      "cell_type": "code",
      "source": [
        "# Normalize the variables\n",
        "normalized_diff_pbwp_easy = (block_all['diff_pbwp_easy'] - min_diff_pbwp_easy) / (max_diff_pbwp_easy - min_diff_pbwp_easy)\n",
        "\n",
        "normalized_diff_pbwp_medium = (block_all['diff_pbwp_medium'] - min_diff_pbwp_medium) / (max_diff_pbwp_medium - min_diff_pbwp_medium)\n",
        "\n",
        "normalized_x_pbwp = (block_all['x_pbwp'] - min_x_pbwp) / (max_x_pbwp - min_x_pbwp)\n",
        "\n",
        "normalized_diff_pbwp_tough = (block_all['diff_pbwp_tough'] - min_diff_pbwp_tough) / (max_diff_pbwp_tough - min_diff_pbwp_tough)\n",
        "\n",
        "normalized_freq_pbwp_tough = (block_all['freq_pbwp_tough'] - min_freq_pbwp_tough) / (max_freq_pbwp_tough - min_freq_pbwp_tough)\n",
        "\n",
        "normalized_freq_pbwp_medium = (block_all['freq_pbwp_medium'] - min_freq_pbwp_medium) / (max_freq_pbwp_medium - min_freq_pbwp_medium)\n",
        "\n",
        "normalized_freq_pbwp_easy = (block_all['freq_pbwp_easy'] - min_freq_pbwp_easy) / (max_freq_pbwp_easy - min_freq_pbwp_easy)\n",
        "\n",
        "normalized_pitches = (block_all['pitches'] - min_pitches) / (max_pitches - min_pitches)\n",
        "\n",
        "normalized_n_pbwp = (block_all['n_pbwp'] - min_n_pbwp) / (max_n_pbwp - min_n_pbwp)\n",
        "\n",
        "# Display the normalized values\n",
        "block_all['diff_pbwp_easy'] = normalized_diff_pbwp_easy\n",
        "\n",
        "block_all['diff_pbwp_medium'] = normalized_diff_pbwp_medium\n",
        "\n",
        "block_all['x_pbwp'] = normalized_x_pbwp\n",
        "\n",
        "block_all['diff_pbwp_tough'] = normalized_diff_pbwp_tough\n",
        "\n",
        "block_all['freq_pbwp_tough'] = normalized_freq_pbwp_tough\n",
        "\n",
        "block_all['normalized_freq_pbwp_medium'] = normalized_freq_pbwp_medium\n",
        "\n",
        "block_all['normalized_freq_pbwp_easy'] = normalized_freq_pbwp_easy\n",
        "\n",
        "block_all['pitches'] = normalized_pitches\n",
        "\n",
        "block_all['n_pbwp'] = normalized_n_pbwp\n",
        "\n",
        "print(block_all[['diff_pbwp_easy', 'diff_pbwp_medium', 'x_pbwp','diff_pbwp_tough', 'freq_pbwp_tough', 'normalized_freq_pbwp_medium', 'normalized_freq_pbwp_easy', 'pitches', 'n_pbwp']])"
      ],
      "metadata": {
        "colab": {
          "base_uri": "https://localhost:8080/"
        },
        "id": "2novFExVNKBW",
        "outputId": "f38e6052-0e82-4ad5-e4a0-3e36d4ac05d6"
      },
      "execution_count": 110,
      "outputs": [
        {
          "output_type": "stream",
          "name": "stdout",
          "text": [
            "    diff_pbwp_easy  diff_pbwp_medium    x_pbwp  diff_pbwp_tough  \\\n",
            "0         0.818401          0.915244  0.806946         1.000000   \n",
            "1         0.837441          0.898864  0.711897         0.720190   \n",
            "2         0.977111          0.906081  1.000000         0.361002   \n",
            "3         0.766653          0.777238  0.359316         0.850922   \n",
            "4         1.000000          0.676257  0.880628         0.625814   \n",
            "..             ...               ...       ...              ...   \n",
            "61        0.455895          0.431732  0.001557         0.338389   \n",
            "62        0.312442          0.544121  0.429656         0.287935   \n",
            "63        0.000000          0.788570  0.453786         0.175904   \n",
            "64        0.220602          0.413350  0.376180         0.538903   \n",
            "65        0.019259          0.000000  0.486181         0.589167   \n",
            "\n",
            "    freq_pbwp_tough  normalized_freq_pbwp_medium  normalized_freq_pbwp_easy  \\\n",
            "0          1.000000                     0.917009                   0.000000   \n",
            "1          0.568829                     0.752610                   0.284477   \n",
            "2          0.309085                     0.644492                   0.462773   \n",
            "3          0.171230                     0.588822                   0.556095   \n",
            "4          0.224343                     0.709556                   0.444456   \n",
            "..              ...                          ...                        ...   \n",
            "61         0.325124                     0.250642                   0.757081   \n",
            "62         0.213546                     0.293049                   0.765941   \n",
            "63         0.440596                     0.662601                   0.400424   \n",
            "64         0.290646                     0.349583                   0.694386   \n",
            "65         0.318682                     0.751469                   0.377682   \n",
            "\n",
            "     pitches    n_pbwp  \n",
            "0   0.553580  0.355556  \n",
            "1   0.632002  0.333333  \n",
            "2   1.000000  0.622222  \n",
            "3   0.401120  0.066667  \n",
            "4   0.855821  0.555556  \n",
            "..       ...       ...  \n",
            "61  0.021189  0.177778  \n",
            "62  0.558451  0.600000  \n",
            "63  0.427423  0.666667  \n",
            "64  0.392840  0.600000  \n",
            "65  0.466634  1.000000  \n",
            "\n",
            "[66 rows x 9 columns]\n"
          ]
        }
      ]
    },
    {
      "cell_type": "code",
      "source": [
        "# Importance scores from the importance model\n",
        "importance_scores = {\n",
        "    \"diff_pbwp_easy\": 0.569345,\n",
        "    \"diff_pbwp_medium\": 0.234765,\n",
        "    \"x_pbwp\": 0.066677,\n",
        "    \"diff_pbwp_tough\": 0.054000,\n",
        "    \"freq_pbwp_tough\": 0.022312,\n",
        "    \"freq_pbwp_medium\": 0.018361,\n",
        "    \"freq_pbwp_easy\": 0.012603,\n",
        "    \"pitches\": 0.012202,\n",
        "    \"n_pbwp\": 0.009735,\n",
        "}\n",
        "\n",
        "# Calculate the sum of importance scores\n",
        "total_importance = sum(importance_scores.values())\n",
        "\n",
        "# Normalize and assign weights\n",
        "weights = {}\n",
        "for feature, importance in importance_scores.items():\n",
        "    normalized_importance = importance / total_importance\n",
        "    weights[feature] = normalized_importance\n",
        "\n",
        "# Print the weights\n",
        "print(\"Feature Weights:\")\n",
        "for feature, weight in weights.items():\n",
        "    print(f\"{feature}: {weight}\")"
      ],
      "metadata": {
        "colab": {
          "base_uri": "https://localhost:8080/"
        },
        "id": "CNWBGkbnNQDc",
        "outputId": "65d7a4d6-332b-470f-a89f-c3526f8872cd"
      },
      "execution_count": 111,
      "outputs": [
        {
          "output_type": "stream",
          "name": "stdout",
          "text": [
            "Feature Weights:\n",
            "diff_pbwp_easy: 0.569345\n",
            "diff_pbwp_medium: 0.234765\n",
            "x_pbwp: 0.066677\n",
            "diff_pbwp_tough: 0.054\n",
            "freq_pbwp_tough: 0.022312\n",
            "freq_pbwp_medium: 0.018361\n",
            "freq_pbwp_easy: 0.012603\n",
            "pitches: 0.012202\n",
            "n_pbwp: 0.009735\n"
          ]
        }
      ]
    },
    {
      "cell_type": "code",
      "source": [
        "# Define weights for each variable\n",
        "weight_diff_pbwp_easy = 0.569345\n",
        "weight_diff_pbwp_medium = 0.234765\n",
        "weight_x_pbwp = 0.066677\n",
        "weight_diff_pbwp_tough = 0.054\n",
        "weight_freq_pbwp_tough = 0.022312\n",
        "weight_freq_pbwp_medium = 0.018361\n",
        "weight_freq_pbwp_easy = 0.012603\n",
        "weight_pitches = 0.012202\n",
        "weight_n_pbwp = 0.009735\n",
        "\n",
        "\n",
        "# Normalize the weights to add up to 1.0\n",
        "total_weight_sum = (\n",
        "   weight_diff_pbwp_easy +\n",
        "   weight_diff_pbwp_medium +\n",
        "   weight_x_pbwp +\n",
        "   weight_diff_pbwp_tough +\n",
        "   weight_freq_pbwp_tough +\n",
        "   weight_freq_pbwp_medium +\n",
        "   weight_freq_pbwp_easy +\n",
        "   weight_pitches +\n",
        "   weight_n_pbwp\n",
        ")\n",
        "\n",
        "weight_diff_pbwp_easy /= total_weight_sum\n",
        "weight_diff_pbwp_medium /= total_weight_sum\n",
        "weight_x_pbwp /= total_weight_sum\n",
        "weight_diff_pbwp_tough /= total_weight_sum\n",
        "weight_freq_pbwp_tough  /= total_weight_sum\n",
        "weight_freq_pbwp_medium /= total_weight_sum\n",
        "weight_freq_pbwp_easy /= total_weight_sum\n",
        "weight_pitches /= total_weight_sum\n",
        "weight_n_pbwp/= total_weight_sum\n",
        "\n",
        "# Display the normalized weights\n",
        "print(\"Normalized Weights:\")\n",
        "print(\"diff_pbwp_easy:\", weight_diff_pbwp_easy)\n",
        "print(\"diff_pbwp_medium:\", weight_diff_pbwp_medium)\n",
        "print(\"x_pbwp:\", weight_x_pbwp)\n",
        "print(\"diff_pbwp_tough:\", weight_diff_pbwp_tough)\n",
        "print(\"freq_pbwp_tough:\", weight_freq_pbwp_tough)\n",
        "print(\"freq_pbwp_medium:\", weight_freq_pbwp_medium)\n",
        "print(\"freq_pbwp_easy:\", weight_freq_pbwp_easy)\n",
        "print(\"pitches:\", weight_pitches)\n",
        "print(\"n_pbwp:\", weight_n_pbwp)"
      ],
      "metadata": {
        "colab": {
          "base_uri": "https://localhost:8080/"
        },
        "id": "NLzEmFMWNV7S",
        "outputId": "2a59e7db-4672-47af-c99c-d57d7784ea71"
      },
      "execution_count": 112,
      "outputs": [
        {
          "output_type": "stream",
          "name": "stdout",
          "text": [
            "Normalized Weights:\n",
            "diff_pbwp_easy: 0.569345\n",
            "diff_pbwp_medium: 0.234765\n",
            "x_pbwp: 0.066677\n",
            "diff_pbwp_tough: 0.054\n",
            "freq_pbwp_tough: 0.022312\n",
            "freq_pbwp_medium: 0.018361\n",
            "freq_pbwp_easy: 0.012603\n",
            "pitches: 0.012202\n",
            "n_pbwp: 0.009735\n"
          ]
        }
      ]
    },
    {
      "cell_type": "code",
      "source": [
        "CBR =(0.569345 * normalized_diff_pbwp_easy)+ (0.234765 * normalized_diff_pbwp_medium) +(0.066677 * normalized_x_pbwp) +(0.054 * normalized_diff_pbwp_tough) +(0.022312 * normalized_freq_pbwp_tough) +(0.018361 * normalized_freq_pbwp_medium) +(0.012603 * normalized_freq_pbwp_easy) +(0.012202 * normalized_pitches +(0.009735 * normalized_n_pbwp))"
      ],
      "metadata": {
        "id": "qVu57-gIN4IY"
      },
      "execution_count": 113,
      "outputs": []
    },
    {
      "cell_type": "code",
      "source": [
        "block_all['CBR'] =  (\n",
        "    weight_diff_pbwp_easy * block_all['diff_pbwp_easy'] +\n",
        "    weight_diff_pbwp_medium * block_all['diff_pbwp_medium'] +\n",
        "    weight_x_pbwp * block_all['x_pbwp'] +\n",
        "    weight_diff_pbwp_tough * block_all['diff_pbwp_tough'] +\n",
        "    weight_freq_pbwp_tough * block_all['freq_pbwp_tough'] +\n",
        "    weight_freq_pbwp_medium * block_all['freq_pbwp_medium'] +\n",
        "    weight_pitches * block_all['freq_pbwp_easy'] +\n",
        "    weight_pitches * block_all['pitches'] +\n",
        "    weight_n_pbwp * block_all['n_pbwp']\n",
        ")"
      ],
      "metadata": {
        "id": "fkvL6p9_N4eK"
      },
      "execution_count": 114,
      "outputs": []
    },
    {
      "cell_type": "code",
      "source": [
        "print(block_all[['player_name', 'CBR']])"
      ],
      "metadata": {
        "colab": {
          "base_uri": "https://localhost:8080/"
        },
        "id": "7mLG8GX6N8ni",
        "outputId": "3fda7512-aa69-45aa-d107-fe11015d97c6"
      },
      "execution_count": 115,
      "outputs": [
        {
          "output_type": "stream",
          "name": "stdout",
          "text": [
            "         player_name       CBR\n",
            "0   Rutschman, Adley  0.833421\n",
            "1      Trevino, Jose  0.810131\n",
            "2     Realmuto, J.T.  0.892691\n",
            "3    Kirk, Alejandro  0.710579\n",
            "4       Murphy, Sean  0.853835\n",
            "..               ...       ...\n",
            "61      Zunino, Mike  0.400802\n",
            "62        Bart, Joey  0.379535\n",
            "63       Haase, Eric  0.258737\n",
            "64  Grandal, Yasmani  0.306229\n",
            "65      Melendez, MJ  0.110089\n",
            "\n",
            "[66 rows x 2 columns]\n"
          ]
        }
      ]
    },
    {
      "cell_type": "code",
      "source": [
        "frame_all = pd.read_csv('/content/drive/MyDrive/TDIR/2022 catcher_framing .csv')"
      ],
      "metadata": {
        "id": "q-QPgDh-OXG4"
      },
      "execution_count": 116,
      "outputs": []
    },
    {
      "cell_type": "code",
      "source": [
        "features = [\"strike_rate_11\", \"strike_rate_12\", \"strike_rate_13\", \"strike_rate_14\", \"strike_rate_16\", \"strike_rate_17\", \"strike_rate_18\",\"strike_rate_19\"]\n",
        "target = \"runs_extra_strikes\""
      ],
      "metadata": {
        "id": "uWG-GCKdOaWR"
      },
      "execution_count": 117,
      "outputs": []
    },
    {
      "cell_type": "code",
      "source": [
        "X_train, X_test, y_train, y_test = train_test_split(frame_all[features], frame_all[target], test_size=0.2, random_state=42)"
      ],
      "metadata": {
        "id": "M-6q4p5vOcQh"
      },
      "execution_count": 118,
      "outputs": []
    },
    {
      "cell_type": "code",
      "source": [
        "model = RandomForestRegressor(random_state=42)"
      ],
      "metadata": {
        "id": "aNcMUIyyOkH6"
      },
      "execution_count": 119,
      "outputs": []
    },
    {
      "cell_type": "code",
      "source": [
        "model.fit(X_train, y_train)"
      ],
      "metadata": {
        "colab": {
          "base_uri": "https://localhost:8080/",
          "height": 76
        },
        "id": "QaruHpyWOqqc",
        "outputId": "c6ee3d77-fa21-434a-b64f-dc548684c7d8"
      },
      "execution_count": 120,
      "outputs": [
        {
          "output_type": "execute_result",
          "data": {
            "text/plain": [
              "RandomForestRegressor(random_state=42)"
            ],
            "text/html": [
              "<style>#sk-container-id-6 {color: black;background-color: white;}#sk-container-id-6 pre{padding: 0;}#sk-container-id-6 div.sk-toggleable {background-color: white;}#sk-container-id-6 label.sk-toggleable__label {cursor: pointer;display: block;width: 100%;margin-bottom: 0;padding: 0.3em;box-sizing: border-box;text-align: center;}#sk-container-id-6 label.sk-toggleable__label-arrow:before {content: \"▸\";float: left;margin-right: 0.25em;color: #696969;}#sk-container-id-6 label.sk-toggleable__label-arrow:hover:before {color: black;}#sk-container-id-6 div.sk-estimator:hover label.sk-toggleable__label-arrow:before {color: black;}#sk-container-id-6 div.sk-toggleable__content {max-height: 0;max-width: 0;overflow: hidden;text-align: left;background-color: #f0f8ff;}#sk-container-id-6 div.sk-toggleable__content pre {margin: 0.2em;color: black;border-radius: 0.25em;background-color: #f0f8ff;}#sk-container-id-6 input.sk-toggleable__control:checked~div.sk-toggleable__content {max-height: 200px;max-width: 100%;overflow: auto;}#sk-container-id-6 input.sk-toggleable__control:checked~label.sk-toggleable__label-arrow:before {content: \"▾\";}#sk-container-id-6 div.sk-estimator input.sk-toggleable__control:checked~label.sk-toggleable__label {background-color: #d4ebff;}#sk-container-id-6 div.sk-label input.sk-toggleable__control:checked~label.sk-toggleable__label {background-color: #d4ebff;}#sk-container-id-6 input.sk-hidden--visually {border: 0;clip: rect(1px 1px 1px 1px);clip: rect(1px, 1px, 1px, 1px);height: 1px;margin: -1px;overflow: hidden;padding: 0;position: absolute;width: 1px;}#sk-container-id-6 div.sk-estimator {font-family: monospace;background-color: #f0f8ff;border: 1px dotted black;border-radius: 0.25em;box-sizing: border-box;margin-bottom: 0.5em;}#sk-container-id-6 div.sk-estimator:hover {background-color: #d4ebff;}#sk-container-id-6 div.sk-parallel-item::after {content: \"\";width: 100%;border-bottom: 1px solid gray;flex-grow: 1;}#sk-container-id-6 div.sk-label:hover label.sk-toggleable__label {background-color: #d4ebff;}#sk-container-id-6 div.sk-serial::before {content: \"\";position: absolute;border-left: 1px solid gray;box-sizing: border-box;top: 0;bottom: 0;left: 50%;z-index: 0;}#sk-container-id-6 div.sk-serial {display: flex;flex-direction: column;align-items: center;background-color: white;padding-right: 0.2em;padding-left: 0.2em;position: relative;}#sk-container-id-6 div.sk-item {position: relative;z-index: 1;}#sk-container-id-6 div.sk-parallel {display: flex;align-items: stretch;justify-content: center;background-color: white;position: relative;}#sk-container-id-6 div.sk-item::before, #sk-container-id-6 div.sk-parallel-item::before {content: \"\";position: absolute;border-left: 1px solid gray;box-sizing: border-box;top: 0;bottom: 0;left: 50%;z-index: -1;}#sk-container-id-6 div.sk-parallel-item {display: flex;flex-direction: column;z-index: 1;position: relative;background-color: white;}#sk-container-id-6 div.sk-parallel-item:first-child::after {align-self: flex-end;width: 50%;}#sk-container-id-6 div.sk-parallel-item:last-child::after {align-self: flex-start;width: 50%;}#sk-container-id-6 div.sk-parallel-item:only-child::after {width: 0;}#sk-container-id-6 div.sk-dashed-wrapped {border: 1px dashed gray;margin: 0 0.4em 0.5em 0.4em;box-sizing: border-box;padding-bottom: 0.4em;background-color: white;}#sk-container-id-6 div.sk-label label {font-family: monospace;font-weight: bold;display: inline-block;line-height: 1.2em;}#sk-container-id-6 div.sk-label-container {text-align: center;}#sk-container-id-6 div.sk-container {/* jupyter's `normalize.less` sets `[hidden] { display: none; }` but bootstrap.min.css set `[hidden] { display: none !important; }` so we also need the `!important` here to be able to override the default hidden behavior on the sphinx rendered scikit-learn.org. See: https://github.com/scikit-learn/scikit-learn/issues/21755 */display: inline-block !important;position: relative;}#sk-container-id-6 div.sk-text-repr-fallback {display: none;}</style><div id=\"sk-container-id-6\" class=\"sk-top-container\"><div class=\"sk-text-repr-fallback\"><pre>RandomForestRegressor(random_state=42)</pre><b>In a Jupyter environment, please rerun this cell to show the HTML representation or trust the notebook. <br />On GitHub, the HTML representation is unable to render, please try loading this page with nbviewer.org.</b></div><div class=\"sk-container\" hidden><div class=\"sk-item\"><div class=\"sk-estimator sk-toggleable\"><input class=\"sk-toggleable__control sk-hidden--visually\" id=\"sk-estimator-id-6\" type=\"checkbox\" checked><label for=\"sk-estimator-id-6\" class=\"sk-toggleable__label sk-toggleable__label-arrow\">RandomForestRegressor</label><div class=\"sk-toggleable__content\"><pre>RandomForestRegressor(random_state=42)</pre></div></div></div></div></div>"
            ]
          },
          "metadata": {},
          "execution_count": 120
        }
      ]
    },
    {
      "cell_type": "code",
      "source": [
        "importance_scores = model.feature_importances_"
      ],
      "metadata": {
        "id": "5Os6bPEUOtcR"
      },
      "execution_count": 121,
      "outputs": []
    },
    {
      "cell_type": "code",
      "source": [
        "feature_importance_df = pd.DataFrame({\"Feature\": features, \"Importance\": importance_scores})"
      ],
      "metadata": {
        "id": "xPuIi2-9Oue8"
      },
      "execution_count": 122,
      "outputs": []
    },
    {
      "cell_type": "code",
      "source": [
        "feature_importance_df = feature_importance_df.sort_values(by=\"Importance\", ascending=False)"
      ],
      "metadata": {
        "id": "8-q9o-EWOzRL"
      },
      "execution_count": 123,
      "outputs": []
    },
    {
      "cell_type": "code",
      "source": [
        "y_pred = model.predict(X_test)"
      ],
      "metadata": {
        "id": "AdOfJLCMO0Sh"
      },
      "execution_count": 124,
      "outputs": []
    },
    {
      "cell_type": "code",
      "source": [
        "from sklearn.metrics import mean_squared_error, r2_score\n",
        "\n",
        "# Make predictions on the test data\n",
        "y_pred = model.predict(X_test)\n",
        "\n",
        "# Calculate mean squared error\n",
        "mse = mean_squared_error(y_test, y_pred)\n",
        "\n",
        "# Calculate R-squared\n",
        "r_squared = r2_score(y_test, y_pred)\n",
        "\n",
        "# Print the regression metrics\n",
        "print(\"Mean Squared Error:\", mse)\n",
        "print(\"R-squared:\", r_squared)"
      ],
      "metadata": {
        "colab": {
          "base_uri": "https://localhost:8080/"
        },
        "id": "cxV1dnPKO6oD",
        "outputId": "7df3ca8f-9f99-4230-f220-5ae5550d1d0f"
      },
      "execution_count": 125,
      "outputs": [
        {
          "output_type": "stream",
          "name": "stdout",
          "text": [
            "Mean Squared Error: 25.258391666666665\n",
            "R-squared: 0.48276331058020483\n"
          ]
        }
      ]
    },
    {
      "cell_type": "code",
      "source": [
        "import matplotlib.pyplot as plt"
      ],
      "metadata": {
        "id": "iqXLzX18PAh9"
      },
      "execution_count": 126,
      "outputs": []
    },
    {
      "cell_type": "code",
      "source": [
        "# importance_scores with the variable containing the importance scores from your model\n",
        "importance_scores = [0.231703, 0.194125, 0.147339, 0.119125, 0.103561,0.100373, 0.060099,0.043674]\n",
        "\n",
        "# list of features used in the model\n",
        "features = [\"strike_rate_19\", \" strike_rate_18\",\"strike_rate_12\", \"strike_rate_17\", \"strike_rate_11\",\"strike_rate_16\",\"strike_rate_14 \",\"strike_rate_13\"]\n",
        "\n",
        "# Create the DataFrame\n",
        "feature_importance_df = pd.DataFrame({\"Feature\": features, \"Importance\": importance_scores})\n",
        "\n",
        "# Sort the DataFrame by Importance in descending order to get the ranking\n",
        "feature_importance_df = feature_importance_df.sort_values(by=\"Importance\", ascending=False)"
      ],
      "metadata": {
        "id": "-DKToBUyPEd7"
      },
      "execution_count": 127,
      "outputs": []
    },
    {
      "cell_type": "code",
      "source": [
        "# Find the minimum and maximum values for each variable\n",
        "min_strike_rate_19 = frame_all['strike_rate_19'].min()\n",
        "max_strike_rate_19 = frame_all['strike_rate_19'].max()\n",
        "\n",
        "min_strike_rate_18 = frame_all['strike_rate_18'].min()\n",
        "max_strike_rate_18 = frame_all['strike_rate_18'].max()\n",
        "\n",
        "min_strike_rate_12 = frame_all['strike_rate_12'].min()\n",
        "max_strike_rate_12 = frame_all['strike_rate_12'].max()\n",
        "\n",
        "min_strike_rate_17 = frame_all['strike_rate_17'].min()\n",
        "max_strike_rate_17 = frame_all['strike_rate_17'].max()\n",
        "\n",
        "min_strike_rate_11  = frame_all['strike_rate_11'].min()\n",
        "max_strike_rate_11  = frame_all['strike_rate_11'].max()\n",
        "\n",
        "min_strike_rate_16  = frame_all['strike_rate_16'].min()\n",
        "max_strike_rate_16  = frame_all['strike_rate_16'].max()\n",
        "\n",
        "min_strike_rate_14  = frame_all['strike_rate_14'].min()\n",
        "max_strike_rate_14  = frame_all['strike_rate_14'].max()\n",
        "\n",
        "min_strike_rate_13 = frame_all['strike_rate_13'].min()\n",
        "max_strike_rate_13 = frame_all['strike_rate_13'].max()\n",
        "\n",
        "\n",
        "# Print the minimum and maximum values\n",
        "print(\"Minimum strike_rate_19:\", min_strike_rate_19)\n",
        "print(\"Maximum strike_rate_19:\", max_strike_rate_19)\n",
        "\n",
        "print(\"Minimum strike_rate_18:\", min_strike_rate_18)\n",
        "print(\"Maximum strike_rate_18:\", max_strike_rate_18)\n",
        "\n",
        "print(\"Minimum strike_rate_12:\", min_strike_rate_12)\n",
        "print(\"Maximum strike_rate_12:\", max_strike_rate_12)\n",
        "\n",
        "print(\"Minimum  strike_rate_17 :\", min_strike_rate_17 )\n",
        "print(\"Maximum  strike_rate_17 :\", max_strike_rate_17 )\n",
        "\n",
        "print(\"Minimum strike_rate_11:\", max_strike_rate_11)\n",
        "print(\"Maximum strike_rate_11:\", min_strike_rate_11)\n",
        "\n",
        "print(\"Minimum strike_rate_16:\", min_strike_rate_16)\n",
        "print(\"Maximum strike_rate_16:\", max_strike_rate_16)\n",
        "\n",
        "print(\"Minimum strike_rate_14:\", min_strike_rate_14)\n",
        "print(\"Maximum strike_rate_14:\", max_strike_rate_14)\n",
        "\n",
        "print(\"Minimum strike_rate_13:\", min_strike_rate_13)\n",
        "print(\"Maximum strike_rate_13:\", max_strike_rate_13)"
      ],
      "metadata": {
        "colab": {
          "base_uri": "https://localhost:8080/"
        },
        "id": "KL6R82gCPKaY",
        "outputId": "4b089284-cb7d-4ecb-b5b4-142d744c91be"
      },
      "execution_count": 128,
      "outputs": [
        {
          "output_type": "stream",
          "name": "stdout",
          "text": [
            "Minimum strike_rate_19: 12.8\n",
            "Maximum strike_rate_19: 35.3\n",
            "Minimum strike_rate_18: 36.9\n",
            "Maximum strike_rate_18: 67.1\n",
            "Minimum strike_rate_12: 36.4\n",
            "Maximum strike_rate_12: 60.6\n",
            "Minimum  strike_rate_17 : 17.7\n",
            "Maximum  strike_rate_17 : 46.2\n",
            "Minimum strike_rate_11: 32.4\n",
            "Maximum strike_rate_11: 11.5\n",
            "Minimum strike_rate_16: 51.0\n",
            "Maximum strike_rate_16: 71.9\n",
            "Minimum strike_rate_14: 48.8\n",
            "Maximum strike_rate_14: 71.4\n",
            "Minimum strike_rate_13: 11.6\n",
            "Maximum strike_rate_13: 37.1\n"
          ]
        }
      ]
    },
    {
      "cell_type": "code",
      "source": [
        "# Normalize the variables\n",
        "normalized_strike_rate_19 = (frame_all['strike_rate_19'] - min_strike_rate_19) / (max_strike_rate_19 - min_strike_rate_19)\n",
        "\n",
        "normalized_strike_rate_18 = (frame_all['strike_rate_18'] - min_strike_rate_18) / (max_strike_rate_18 - min_strike_rate_18)\n",
        "\n",
        "normalized_strike_rate_12 = (frame_all['strike_rate_12'] - min_strike_rate_12) / (max_strike_rate_12 - min_strike_rate_12)\n",
        "\n",
        "normalized_strike_rate_17 = (frame_all['strike_rate_17'] - min_strike_rate_17) / (max_strike_rate_17 - min_strike_rate_17)\n",
        "\n",
        "normalized_strike_rate_11 = (frame_all['strike_rate_11'] - min_strike_rate_11) / (max_strike_rate_11 - min_strike_rate_11)\n",
        "\n",
        "normalized_strike_rate_16 = (frame_all['strike_rate_16'] - min_strike_rate_16) / (max_strike_rate_16 - min_strike_rate_16)\n",
        "\n",
        "normalized_strike_rate_14 = (frame_all['strike_rate_14'] - min_strike_rate_14) / (max_strike_rate_14 - min_strike_rate_14)\n",
        "\n",
        "normalized_strike_rate_13 = (frame_all['strike_rate_13'] - min_strike_rate_13) / (max_strike_rate_13 - min_strike_rate_13)\n",
        "\n",
        "# Display the normalized values\n",
        "frame_all['strike_rate_19'] = normalized_strike_rate_19\n",
        "\n",
        "frame_all['strike_rate_18'] = normalized_strike_rate_18\n",
        "\n",
        "frame_all['strike_rate_17'] = normalized_strike_rate_17\n",
        "\n",
        "frame_all['strike_rate_12'] = normalized_strike_rate_12\n",
        "\n",
        "frame_all['strike_rate_11'] = normalized_strike_rate_11\n",
        "\n",
        "frame_all['strike_rate_16'] = normalized_strike_rate_16\n",
        "\n",
        "frame_all['strike_rate_14'] = normalized_strike_rate_14\n",
        "\n",
        "frame_all['strike_rate_13'] = normalized_strike_rate_13\n",
        "\n",
        "print(frame_all[['strike_rate_19', 'strike_rate_18', 'strike_rate_17','strike_rate_12', 'strike_rate_11', 'strike_rate_16', 'strike_rate_14', 'strike_rate_13']])"
      ],
      "metadata": {
        "colab": {
          "base_uri": "https://localhost:8080/"
        },
        "id": "pARWlYC1PXZ-",
        "outputId": "489e8717-6181-4660-cdc4-2d70f76ac50d"
      },
      "execution_count": 129,
      "outputs": [
        {
          "output_type": "stream",
          "name": "stdout",
          "text": [
            "    strike_rate_19  strike_rate_18  strike_rate_17  strike_rate_12  \\\n",
            "0         0.804444        0.841060        0.800000        0.351240   \n",
            "1         0.626667        0.377483        0.649123        0.925620   \n",
            "2         0.537778        0.668874        0.698246        0.272727   \n",
            "3         0.351111        0.715232        0.856140        0.438017   \n",
            "4         0.648889        0.675497        0.315789        0.747934   \n",
            "5         0.813333        0.576159        0.424561        0.487603   \n",
            "6         0.515556        0.605960        0.687719        0.438017   \n",
            "7         0.893333        0.592715        0.480702        0.561983   \n",
            "8         0.435556        0.211921        0.428070        1.000000   \n",
            "9         0.604444        0.456954        0.582456        0.983471   \n",
            "10        0.746667        0.745033        0.807018        0.301653   \n",
            "11        0.422222        0.324503        0.087719        0.946281   \n",
            "12        0.257778        0.605960        0.800000        0.673554   \n",
            "13        0.640000        0.605960        0.649123        0.793388   \n",
            "14        0.480000        0.533113        0.635088        0.607438   \n",
            "15        0.617778        0.658940        0.628070        0.338843   \n",
            "16        0.337778        0.291391        0.192982        0.756198   \n",
            "17        0.617778        0.609272        0.392982        0.537190   \n",
            "18        0.484444        0.384106        1.000000        0.545455   \n",
            "19        0.662222        0.599338        0.270175        0.723140   \n",
            "20        0.697778        0.278146        0.322807        0.842975   \n",
            "21        1.000000        1.000000        0.698246        0.194215   \n",
            "22        0.680000        0.619205        0.603509        0.417355   \n",
            "23        0.488889        0.572848        0.361404        0.603306   \n",
            "24        0.448889        0.450331        0.421053        0.805785   \n",
            "25        0.271111        0.337748        0.407018        0.838843   \n",
            "26        0.875556        0.529801        0.505263        0.553719   \n",
            "27        0.133333        0.423841        0.491228        0.809917   \n",
            "28        0.408889        0.367550        0.000000        0.747934   \n",
            "29        0.502222        0.122517        0.438596        0.115702   \n",
            "30        0.320000        0.592715        0.414035        0.409091   \n",
            "31        0.377778        0.473510        0.326316        0.413223   \n",
            "32        0.413333        0.198675        0.477193        0.917355   \n",
            "33        0.360000        0.062914        0.217544        0.619835   \n",
            "34        0.462222        0.546358        0.364912        0.586777   \n",
            "35        0.608889        0.397351        0.357895        0.752066   \n",
            "36        0.337778        0.387417        0.459649        0.710744   \n",
            "37        0.284444        0.377483        0.642105        0.595041   \n",
            "38        0.480000        0.496689        0.540351        0.297521   \n",
            "39        0.613333        0.503311        0.119298        0.347107   \n",
            "40        0.573333        0.509934        0.168421        0.268595   \n",
            "41        0.595556        0.254967        0.428070        0.318182   \n",
            "42        0.413333        0.367550        0.087719        0.462810   \n",
            "43        0.071111        0.208609        0.463158        0.727273   \n",
            "44        0.333333        0.221854        0.287719        0.545455   \n",
            "45        0.640000        0.509934        0.256140        0.243802   \n",
            "46        0.480000        0.509934        0.638596        0.508264   \n",
            "47        0.395556        0.506623        0.505263        0.376033   \n",
            "48        0.320000        0.370861        0.242105        0.409091   \n",
            "49        0.124444        0.185430        0.582456        0.599174   \n",
            "50        0.342222        0.506623        0.428070        0.000000   \n",
            "51        0.000000        0.129139        0.477193        0.392562   \n",
            "52        0.408889        0.132450        0.147368        0.516529   \n",
            "53        0.164444        0.433775        0.498246        0.318182   \n",
            "54        0.604444        0.566225        0.410526        0.309917   \n",
            "55        0.182222        0.125828        0.354386        0.731405   \n",
            "56        0.115556        0.000000        0.266667        0.702479   \n",
            "57        0.417778        0.420530        0.400000        0.355372   \n",
            "58        0.368889        0.281457        0.350877        0.078512   \n",
            "59        0.182222        0.447020        0.522807        0.190083   \n",
            "\n",
            "    strike_rate_11  strike_rate_16  strike_rate_14  strike_rate_13  \n",
            "0         0.435407        0.866029        0.986726        0.317647  \n",
            "1         0.933014        0.952153        0.756637        0.388235  \n",
            "2         0.483254        0.444976        0.738938        0.525490  \n",
            "3         0.602871        0.468900        0.982301        0.113725  \n",
            "4         0.497608        0.550239        0.721239        0.498039  \n",
            "5         0.660287        0.818182        0.553097        0.521569  \n",
            "6         0.263158        0.789474        0.668142        0.384314  \n",
            "7         0.277512        0.990431        0.420354        0.701961  \n",
            "8         0.813397        0.708134        0.663717        0.937255  \n",
            "9         0.162679        0.813397        0.460177        1.000000  \n",
            "10        0.000000        0.363636        0.955752        0.094118  \n",
            "11        0.210526        0.631579        0.606195        0.886275  \n",
            "12        0.808612        0.555024        0.858407        0.776471  \n",
            "13        0.358852        0.832536        0.818584        0.725490  \n",
            "14        0.373206        0.354067        0.544248        0.301961  \n",
            "15        0.177033        0.669856        0.544248        0.380392  \n",
            "16        1.000000        0.440191        0.871681        0.498039  \n",
            "17        0.803828        0.794258        0.305310        0.850980  \n",
            "18        0.287081        0.612440        1.000000        0.392157  \n",
            "19        0.210526        0.952153        0.000000        0.364706  \n",
            "20        0.583732        0.755981        0.685841        0.243137  \n",
            "21        0.014354        0.674641        0.389381        0.117647  \n",
            "22        0.239234        0.727273        0.783186        0.498039  \n",
            "23        0.555024        0.693780        0.513274        0.407843  \n",
            "24        0.535885        0.607656        0.623894        0.584314  \n",
            "25        0.511962        0.727273        0.597345        0.839216  \n",
            "26        0.177033        0.894737        0.345133        0.349020  \n",
            "27        0.727273        0.191388        0.792035        0.156863  \n",
            "28        0.162679        0.679426        0.637168        0.764706  \n",
            "29        0.732057        0.909091        0.570796        0.537255  \n",
            "30        0.645933        0.354067        0.690265        0.360784  \n",
            "31        0.177033        0.784689        0.575221        0.439216  \n",
            "32        0.421053        0.215311        0.743363        0.423529  \n",
            "33        0.425837        0.555024        0.601770        0.380392  \n",
            "34        0.521531        0.674641        0.584071        0.756863  \n",
            "35        0.320574        0.822967        0.380531        0.145098  \n",
            "36        0.674641        0.473684        0.756637        0.600000  \n",
            "37        0.239234        0.411483        0.840708        0.015686  \n",
            "38        0.483254        0.598086        0.778761        0.466667  \n",
            "39        0.377990        0.808612        0.566372        0.388235  \n",
            "40        0.368421        0.535885        0.477876        0.282353  \n",
            "41        0.253589        0.617225        0.592920        0.380392  \n",
            "42        0.258373        1.000000        0.221239        0.882353  \n",
            "43        0.354067        0.617225        0.415929        0.384314  \n",
            "44        0.349282        0.645933        0.473451        0.478431  \n",
            "45        0.248804        0.736842        0.584071        0.368627  \n",
            "46        0.377990        0.502392        0.460177        0.329412  \n",
            "47        0.521531        0.301435        0.265487        0.211765  \n",
            "48        0.258373        0.100478        0.663717        0.003922  \n",
            "49        0.588517        0.325359        0.858407        0.517647  \n",
            "50        0.205742        0.057416        0.557522        0.247059  \n",
            "51        0.406699        0.387560        0.539823        0.537255  \n",
            "52        0.263158        0.779904        0.323009        0.462745  \n",
            "53        0.220096        0.253589        0.685841        0.513725  \n",
            "54        0.229665        0.363636        0.433628        0.270588  \n",
            "55        0.732057        0.000000        0.747788        0.149020  \n",
            "56        0.588517        0.315789        0.681416        0.200000  \n",
            "57        0.569378        0.645933        0.477876        0.376471  \n",
            "58        0.090909        0.421053        0.314159        0.000000  \n",
            "59        0.004785        0.157895        0.088496        0.290196  \n"
          ]
        }
      ]
    },
    {
      "cell_type": "code",
      "source": [
        "CBR_scores = block_all['CBR']\n",
        "\n",
        "# Check if there are any missing or NaN values in the 'TDIR_scores'\n",
        "if CBR_scores.isnull().any():\n",
        "    raise ValueError(\"CAR scores contain missing or NaN values\")\n",
        "\n",
        "# Calculate the average TDIR score\n",
        "average_CBR = CBR_scores.mean()\n",
        "\n",
        "print(\"Average CBR:\", average_CBR)"
      ],
      "metadata": {
        "colab": {
          "base_uri": "https://localhost:8080/"
        },
        "id": "jQLWdby5SV-q",
        "outputId": "3e7dd2a0-b0ca-43b3-9812-4018c15f5039"
      },
      "execution_count": 130,
      "outputs": [
        {
          "output_type": "stream",
          "name": "stdout",
          "text": [
            "Average CBR: 0.539964996763319\n"
          ]
        }
      ]
    },
    {
      "cell_type": "code",
      "source": [
        "# Importance scores from the importance model\n",
        "importance_scores = {\n",
        "   \"strike_rate_19\": 0.231703,\n",
        "   \"strike_rate_18\": 0.194125,\n",
        "   \"strike_rate_12\": 0.147339,\n",
        "   \"strike_rate_17\": 0.119125,\n",
        "   \"strike_rate_11\": 0.103561,\n",
        "   \"strike_rate_16\": 0.100373,\n",
        "   \"strike_rate_14\": 0.060099,\n",
        "   \"strike_rate_13\": 0.043674\n",
        "}\n",
        "\n",
        "# Calculate the sum of importance scores\n",
        "total_importance = sum(importance_scores.values())\n",
        "\n",
        "# Normalize and assign weights\n",
        "weights = {}\n",
        "for feature, importance in importance_scores.items():\n",
        "    normalized_importance = importance / total_importance\n",
        "    weights[feature] = normalized_importance\n",
        "\n",
        "# Print the weights\n",
        "print(\"Feature Weights:\")\n",
        "for feature, weight in weights.items():\n",
        "    print(f\"{feature}: {weight}\")"
      ],
      "metadata": {
        "colab": {
          "base_uri": "https://localhost:8080/"
        },
        "id": "SZsk-QqFPc0Q",
        "outputId": "b274ca7b-5f28-450a-a301-fea0aad260e1"
      },
      "execution_count": 131,
      "outputs": [
        {
          "output_type": "stream",
          "name": "stdout",
          "text": [
            "Feature Weights:\n",
            "strike_rate_19: 0.23170323170323168\n",
            "strike_rate_18: 0.1941251941251941\n",
            "strike_rate_12: 0.14733914733914732\n",
            "strike_rate_17: 0.11912511912511911\n",
            "strike_rate_11: 0.10356110356110355\n",
            "strike_rate_16: 0.10037310037310036\n",
            "strike_rate_14: 0.060099060099060096\n",
            "strike_rate_13: 0.04367404367404367\n"
          ]
        }
      ]
    },
    {
      "cell_type": "code",
      "source": [
        "# Define weights for each variable\n",
        "weight_strike_rate_19 =  0.23170323170323168\n",
        "weight_strike_rate_18 = 0.1941251941251941\n",
        "weight_strike_rate_12 = 0.14733914733914732\n",
        "weight_strike_rate_17 = 0.11912511912511911\n",
        "weight_strike_rate_11 = 0.10356110356110355\n",
        "weight_strike_rate_16 = 0.10037310037310036\n",
        "weight_strike_rate_14 = 0.060099060099060096\n",
        "weight_strike_rate_13 = 0.04367404367404367\n",
        "\n",
        "\n",
        "# Normalize the weights to add up to 1.0\n",
        "total_weight_sum = (\n",
        "weight_strike_rate_19 +\n",
        "weight_strike_rate_18 +\n",
        "weight_strike_rate_12 +\n",
        "weight_strike_rate_17 +\n",
        "weight_strike_rate_11 +\n",
        "weight_strike_rate_16 +\n",
        "weight_strike_rate_14 +\n",
        "weight_strike_rate_13\n",
        ")\n",
        "\n",
        "weight_strike_rate_19 /= total_weight_sum\n",
        "weight_strike_rate_18 /= total_weight_sum\n",
        "weight_strike_rate_12 /= total_weight_sum\n",
        "weight_strike_rate_17 /= total_weight_sum\n",
        "weight_strike_rate_11  /= total_weight_sum\n",
        "weight_strike_rate_16 /= total_weight_sum\n",
        "weight_strike_rate_14 /= total_weight_sum\n",
        "weight_strike_rate_13 /= total_weight_sum\n",
        "\n",
        "# Display the normalized weights\n",
        "print(\"Normalized Weights:\")\n",
        "print(\"strike_rate_19:\", weight_strike_rate_19)\n",
        "print(\"strike_rate_18:\", weight_strike_rate_18)\n",
        "print(\"strike_rate_12:\", weight_strike_rate_12)\n",
        "print(\"strike_rate_17:\", weight_strike_rate_17)\n",
        "print(\"strike_rate_11:\", weight_strike_rate_11)\n",
        "print(\"strike_rate_16:\", weight_strike_rate_16)\n",
        "print(\"strike_rate_14:\", weight_strike_rate_14)\n",
        "print(\"strike_rate_13:\", weight_strike_rate_13)"
      ],
      "metadata": {
        "colab": {
          "base_uri": "https://localhost:8080/"
        },
        "id": "ROV5xkTVPhAR",
        "outputId": "3ff771d9-032d-4473-ce70-0575a02c8d0c"
      },
      "execution_count": 132,
      "outputs": [
        {
          "output_type": "stream",
          "name": "stdout",
          "text": [
            "Normalized Weights:\n",
            "strike_rate_19: 0.23170323170323168\n",
            "strike_rate_18: 0.1941251941251941\n",
            "strike_rate_12: 0.14733914733914732\n",
            "strike_rate_17: 0.11912511912511911\n",
            "strike_rate_11: 0.10356110356110355\n",
            "strike_rate_16: 0.10037310037310036\n",
            "strike_rate_14: 0.060099060099060096\n",
            "strike_rate_13: 0.04367404367404367\n"
          ]
        }
      ]
    },
    {
      "cell_type": "code",
      "source": [
        "CFR =(0.23170323170323168 * normalized_strike_rate_19)+ (0.1941251941251941 * normalized_strike_rate_18) +(0.14733914733914732 * normalized_strike_rate_12) +(0.11912511912511911 * normalized_strike_rate_17) +(0.10356110356110355 * normalized_strike_rate_11) +(0.10037310037310036 * normalized_strike_rate_16) +(0.060099060099060096 * normalized_strike_rate_14) +(0.04367404367404367 * normalized_strike_rate_13 )"
      ],
      "metadata": {
        "id": "EyFG4FfgPk2-"
      },
      "execution_count": 133,
      "outputs": []
    },
    {
      "cell_type": "code",
      "source": [
        "frame_all['CFR'] =  (\n",
        "    weight_strike_rate_19 * frame_all['strike_rate_19'] +\n",
        "    weight_strike_rate_18 * frame_all['strike_rate_18'] +\n",
        "    weight_strike_rate_12 * frame_all['strike_rate_12'] +\n",
        "    weight_strike_rate_17 * frame_all['strike_rate_17'] +\n",
        "    weight_strike_rate_11 * frame_all['strike_rate_11'] +\n",
        "    weight_strike_rate_16 * frame_all['strike_rate_16'] +\n",
        "    weight_strike_rate_14 * frame_all['strike_rate_14'] +\n",
        "    weight_strike_rate_13 * frame_all['strike_rate_13']\n",
        "\n",
        ")"
      ],
      "metadata": {
        "id": "47DZYGckPrpW"
      },
      "execution_count": 134,
      "outputs": []
    },
    {
      "cell_type": "code",
      "source": [
        "CFR_scores = frame_all['CFR']\n",
        "\n",
        "# Check if there are any missing or NaN values in the 'TDIR_scores'\n",
        "if CFR_scores.isnull().any():\n",
        "    raise ValueError(\"CFR scores contain missing or NaN values\")\n",
        "\n",
        "# Calculate the average TDIR score\n",
        "average_CFR = CFR_scores.mean()\n",
        "\n",
        "print(\"Average CFR:\", average_CFR)"
      ],
      "metadata": {
        "colab": {
          "base_uri": "https://localhost:8080/"
        },
        "id": "HeMWWmBuRCi1",
        "outputId": "a292f8b1-ea42-4da1-cbe8-684084ad68c5"
      },
      "execution_count": 135,
      "outputs": [
        {
          "output_type": "stream",
          "name": "stdout",
          "text": [
            "Average CFR: 0.48232410462989406\n"
          ]
        }
      ]
    },
    {
      "cell_type": "code",
      "source": [
        "print(frame_all[['player_name', 'CFR']])"
      ],
      "metadata": {
        "colab": {
          "base_uri": "https://localhost:8080/"
        },
        "id": "kOJrCg6ePvjK",
        "outputId": "32c7842e-3fd4-4ce8-ce6e-ccc4e09bb374"
      },
      "execution_count": 136,
      "outputs": [
        {
          "output_type": "stream",
          "name": "stdout",
          "text": [
            "               player_name       CFR\n",
            "0            Trevino, Jose  0.701906\n",
            "1              Heim, Jonah  0.686810\n",
            "2         d'Arnaud, Travis  0.539882\n",
            "3          Kirk, Alejandro  0.560224\n",
            "4             Raleigh, Cal  0.601158\n",
            "5             Murphy, Sean  0.629241\n",
            "6            Narváez, Omar  0.546984\n",
            "7              Nido, Tomás  0.646187\n",
            "8           Molina, Yadier  0.576528\n",
            "9            Serven, Brian  0.612868\n",
            "10        Higashioka, Kyle  0.556266\n",
            "11        Grandal, Yasmani  0.471033\n",
            "12        Rutschman, Adley  0.596852\n",
            "13            Zavala, Seby  0.661755\n",
            "14           Kelly, Carson  0.499947\n",
            "15         Heineman, Tyler  0.530693\n",
            "16          McGuire, Reese  0.491120\n",
            "17            Delay, Jason  0.605861\n",
            "18          Garcia, Aramis  0.554733\n",
            "19           McCann, James  0.541818\n",
            "20           Jeffers, Ryan  0.566499\n",
            "21          Barnes, Austin  0.635364\n",
            "22          Hedges, Austin  0.577742\n",
            "23           Sánchez, Gary  0.532199\n",
            "24      Vázquez, Christian  0.539815\n",
            "25         Plawecki, Kevin  0.499033\n",
            "26        Caratini, Victor  0.591617\n",
            "27              Gomes, Yan  0.440001\n",
            "28           Wynns, Austin  0.433026\n",
            "29           Herrera, Jose  0.434275\n",
            "30             Stassi, Max  0.458477\n",
            "31  Bethancourt, Christian  0.430057\n",
            "32      Contreras, Willson  0.454735\n",
            "33             Maile, Luke  0.365456\n",
            "34            Fortes, Nick  0.532969\n",
            "35              Bart, Joey  0.516670\n",
            "36       Maldonado, Martín  0.502037\n",
            "37           Jansen, Danny  0.420638\n",
            "38          Realmuto, J.T.  0.493105\n",
            "39             Smith, Will  0.476473\n",
            "40            Casali, Curt  0.424466\n",
            "41       Stephenson, Tyler  0.425824\n",
            "42           Alfaro, Jorge  0.424724\n",
            "43          Romine, Austin  0.359704\n",
            "44      Contreras, William  0.385299\n",
            "45        Barnhart, Tucker  0.464642\n",
            "46        Mejía, Francisco  0.492783\n",
            "47          Perez, Michael  0.415064\n",
            "48            Suzuki, Kurt  0.312157\n",
            "49           Ruiz, Keibert  0.390300\n",
            "50         Stubbs, Garrett  0.300003\n",
            "51            Adams, Riley  0.276680\n",
            "52         Knizner, Andrew  0.359270\n",
            "53             Haase, Eric  0.340445\n",
            "54        Stallings, Jacob  0.442699\n",
            "55             Díaz, Elias  0.343891\n",
            "56         Perez, Salvador  0.304375\n",
            "57            Nola, Austin  0.447408\n",
            "58            Melendez, MJ  0.264035\n",
            "59      Chirinos, Robinson  0.253622\n"
          ]
        }
      ]
    },
    {
      "cell_type": "code",
      "source": [
        "frame_all['TDIR'] = catcher_all['CAR'] + block_all['CBR'] + frame_all['CFR']"
      ],
      "metadata": {
        "id": "Mp18xLPMWOsJ"
      },
      "execution_count": 137,
      "outputs": []
    },
    {
      "cell_type": "code",
      "source": [
        "average_TDIR = (catcher_all['CAR'] + block_all['CBR'] + frame_all['CFR']).mean()"
      ],
      "metadata": {
        "id": "nwfGU2BSW2E5"
      },
      "execution_count": 138,
      "outputs": []
    },
    {
      "cell_type": "code",
      "source": [
        "average_TDIR"
      ],
      "metadata": {
        "colab": {
          "base_uri": "https://localhost:8080/"
        },
        "id": "0XDjuXuCWty7",
        "outputId": "1ffeaaf0-076f-4eea-8c57-1e790a7d97c7"
      },
      "execution_count": 139,
      "outputs": [
        {
          "output_type": "execute_result",
          "data": {
            "text/plain": [
              "1.4048513243645444"
            ]
          },
          "metadata": {},
          "execution_count": 139
        }
      ]
    },
    {
      "cell_type": "code",
      "source": [
        "frame_all['TDIR_Plus'] = (( catcher_all['CAR'] +  block_all['CBR'] + frame_all['CFR']/3)) / average_TDIR * 100"
      ],
      "metadata": {
        "id": "_S0L1q-tXKax"
      },
      "execution_count": 140,
      "outputs": []
    },
    {
      "cell_type": "code",
      "source": [
        "print(frame_all[['player_name', 'TDIR_Plus']])"
      ],
      "metadata": {
        "colab": {
          "base_uri": "https://localhost:8080/"
        },
        "id": "keT-acDgeyYu",
        "outputId": "63d6a971-7f07-4934-b915-076148afa785"
      },
      "execution_count": 141,
      "outputs": [
        {
          "output_type": "stream",
          "name": "stdout",
          "text": [
            "               player_name   TDIR_Plus\n",
            "0            Trevino, Jose  146.729583\n",
            "1              Heim, Jonah  121.486656\n",
            "2         d'Arnaud, Travis  101.127924\n",
            "3          Kirk, Alejandro   91.332898\n",
            "4             Raleigh, Cal  109.892309\n",
            "5             Murphy, Sean  107.652273\n",
            "6            Narváez, Omar  107.977201\n",
            "7              Nido, Tomás   95.428817\n",
            "8           Molina, Yadier   75.324615\n",
            "9            Serven, Brian  101.979193\n",
            "10        Higashioka, Kyle   92.279073\n",
            "11        Grandal, Yasmani   76.727082\n",
            "12        Rutschman, Adley   90.650198\n",
            "13            Zavala, Seby   94.199280\n",
            "14           Kelly, Carson   84.809927\n",
            "15         Heineman, Tyler   90.203821\n",
            "16          McGuire, Reese   81.806372\n",
            "17            Delay, Jason   96.074802\n",
            "18          Garcia, Aramis   81.542034\n",
            "19           McCann, James   85.408219\n",
            "20           Jeffers, Ryan   83.304195\n",
            "21          Barnes, Austin   87.946940\n",
            "22          Hedges, Austin   88.012383\n",
            "23           Sánchez, Gary   93.938398\n",
            "24      Vázquez, Christian   60.560770\n",
            "25         Plawecki, Kevin   79.151148\n",
            "26        Caratini, Victor   64.476296\n",
            "27              Gomes, Yan   59.446123\n",
            "28           Wynns, Austin   75.597597\n",
            "29           Herrera, Jose   65.315157\n",
            "30             Stassi, Max   84.604647\n",
            "31  Bethancourt, Christian   67.303204\n",
            "32      Contreras, Willson   76.516160\n",
            "33             Maile, Luke   92.228973\n",
            "34            Fortes, Nick   78.263113\n",
            "35              Bart, Joey   68.641674\n",
            "36       Maldonado, Martín   73.618382\n",
            "37           Jansen, Danny   67.581305\n",
            "38          Realmuto, J.T.   62.337352\n",
            "39             Smith, Will   74.092484\n",
            "40            Casali, Curt   65.282048\n",
            "41       Stephenson, Tyler   77.257822\n",
            "42           Alfaro, Jorge   65.728316\n",
            "43          Romine, Austin   67.099566\n",
            "44      Contreras, William   57.105955\n",
            "45        Barnhart, Tucker   55.390500\n",
            "46        Mejía, Francisco   66.287083\n",
            "47          Perez, Michael   77.244590\n",
            "48            Suzuki, Kurt   79.104375\n",
            "49           Ruiz, Keibert   59.639667\n",
            "50         Stubbs, Garrett   69.915202\n",
            "51            Adams, Riley   61.760771\n",
            "52         Knizner, Andrew   58.473858\n",
            "53             Haase, Eric   52.494250\n",
            "54        Stallings, Jacob   66.812475\n",
            "55             Díaz, Elias   46.962775\n",
            "56         Perez, Salvador   39.906337\n",
            "57            Nola, Austin   47.149828\n",
            "58            Melendez, MJ   42.703021\n",
            "59      Chirinos, Robinson   34.802950\n"
          ]
        }
      ]
    }
  ]
}