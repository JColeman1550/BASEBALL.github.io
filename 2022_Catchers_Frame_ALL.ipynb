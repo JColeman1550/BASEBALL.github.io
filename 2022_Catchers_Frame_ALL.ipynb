{
  "nbformat": 4,
  "nbformat_minor": 0,
  "metadata": {
    "colab": {
      "provenance": [],
      "authorship_tag": "ABX9TyP7U76GLLQKSJe2GyVYawjp",
      "include_colab_link": true
    },
    "kernelspec": {
      "name": "python3",
      "display_name": "Python 3"
    },
    "language_info": {
      "name": "python"
    }
  },
  "cells": [
    {
      "cell_type": "markdown",
      "metadata": {
        "id": "view-in-github",
        "colab_type": "text"
      },
      "source": [
        "<a href=\"https://colab.research.google.com/github/JColeman1550/BASEBALL.github.io/blob/main/2022_Catchers_Frame_ALL.ipynb\" target=\"_parent\"><img src=\"https://colab.research.google.com/assets/colab-badge.svg\" alt=\"Open In Colab\"/></a>"
      ]
    },
    {
      "cell_type": "code",
      "execution_count": 55,
      "metadata": {
        "id": "BZ3V0eadZc0V"
      },
      "outputs": [],
      "source": [
        "# import packages\n",
        "%%capture\n",
        "import os\n",
        "import pandas as pd\n",
        "from sklearn.ensemble import RandomForestRegressor\n",
        "from sklearn.model_selection import train_test_split"
      ]
    },
    {
      "cell_type": "code",
      "source": [
        "from google.colab import drive\n",
        "drive.mount('/content/drive')"
      ],
      "metadata": {
        "colab": {
          "base_uri": "https://localhost:8080/"
        },
        "id": "RtXh5DLPaBe-",
        "outputId": "641abd9c-b951-454f-8b9d-73f3dbf9c6aa"
      },
      "execution_count": 56,
      "outputs": [
        {
          "output_type": "stream",
          "name": "stdout",
          "text": [
            "Drive already mounted at /content/drive; to attempt to forcibly remount, call drive.mount(\"/content/drive\", force_remount=True).\n"
          ]
        }
      ]
    },
    {
      "cell_type": "code",
      "source": [
        "frame_all = pd.read_csv('/content/drive/MyDrive/TDIR/2022 catcher_framing .csv')"
      ],
      "metadata": {
        "id": "p5QeNQbfaM5o"
      },
      "execution_count": 57,
      "outputs": []
    },
    {
      "cell_type": "code",
      "source": [
        "frame_all.head()"
      ],
      "metadata": {
        "colab": {
          "base_uri": "https://localhost:8080/",
          "height": 206
        },
        "id": "xV4by7MYaohx",
        "outputId": "81deb0f1-7461-4d12-bf98-8a959013b760"
      },
      "execution_count": 58,
      "outputs": [
        {
          "output_type": "execute_result",
          "data": {
            "text/plain": [
              "  last_name first_name       player_name  player_id  n_called_pitches  \\\n",
              "0   Trevino       Jose     Trevino, Jose     624431              2719   \n",
              "1      Heim      Jonah       Heim, Jonah     641680              2921   \n",
              "2  d'Arnaud     Travis  d'Arnaud, Travis     518595              2813   \n",
              "3      Kirk  Alejandro   Kirk, Alejandro     672386              1978   \n",
              "4   Raleigh        Cal      Raleigh, Cal     663728              2777   \n",
              "\n",
              "   runs_extra_strikes  strike_rate  strike_rate_11  strike_rate_12  \\\n",
              "0                  17         53.8            20.6            44.9   \n",
              "1                  12         51.6            31.0            58.8   \n",
              "2                  10         48.9            21.6            43.0   \n",
              "3                   9         50.8            24.1            47.0   \n",
              "4                   9         49.2            21.9            54.5   \n",
              "\n",
              "   strike_rate_13  strike_rate_14  strike_rate_16  strike_rate_17  \\\n",
              "0            19.7            71.1            69.1            40.5   \n",
              "1            21.5            65.9            70.9            36.2   \n",
              "2            25.0            65.5            60.3            37.6   \n",
              "3            14.5            71.0            60.8            42.1   \n",
              "4            24.3            65.1            62.5            26.7   \n",
              "\n",
              "   strike_rate_18  strike_rate_19  \n",
              "0            62.3            30.9  \n",
              "1            48.3            26.9  \n",
              "2            57.1            24.9  \n",
              "3            58.5            20.7  \n",
              "4            57.3            27.4  "
            ],
            "text/html": [
              "\n",
              "\n",
              "  <div id=\"df-8a100e92-2d96-42d6-9cb0-a7645d99b949\">\n",
              "    <div class=\"colab-df-container\">\n",
              "      <div>\n",
              "<style scoped>\n",
              "    .dataframe tbody tr th:only-of-type {\n",
              "        vertical-align: middle;\n",
              "    }\n",
              "\n",
              "    .dataframe tbody tr th {\n",
              "        vertical-align: top;\n",
              "    }\n",
              "\n",
              "    .dataframe thead th {\n",
              "        text-align: right;\n",
              "    }\n",
              "</style>\n",
              "<table border=\"1\" class=\"dataframe\">\n",
              "  <thead>\n",
              "    <tr style=\"text-align: right;\">\n",
              "      <th></th>\n",
              "      <th>last_name</th>\n",
              "      <th>first_name</th>\n",
              "      <th>player_name</th>\n",
              "      <th>player_id</th>\n",
              "      <th>n_called_pitches</th>\n",
              "      <th>runs_extra_strikes</th>\n",
              "      <th>strike_rate</th>\n",
              "      <th>strike_rate_11</th>\n",
              "      <th>strike_rate_12</th>\n",
              "      <th>strike_rate_13</th>\n",
              "      <th>strike_rate_14</th>\n",
              "      <th>strike_rate_16</th>\n",
              "      <th>strike_rate_17</th>\n",
              "      <th>strike_rate_18</th>\n",
              "      <th>strike_rate_19</th>\n",
              "    </tr>\n",
              "  </thead>\n",
              "  <tbody>\n",
              "    <tr>\n",
              "      <th>0</th>\n",
              "      <td>Trevino</td>\n",
              "      <td>Jose</td>\n",
              "      <td>Trevino, Jose</td>\n",
              "      <td>624431</td>\n",
              "      <td>2719</td>\n",
              "      <td>17</td>\n",
              "      <td>53.8</td>\n",
              "      <td>20.6</td>\n",
              "      <td>44.9</td>\n",
              "      <td>19.7</td>\n",
              "      <td>71.1</td>\n",
              "      <td>69.1</td>\n",
              "      <td>40.5</td>\n",
              "      <td>62.3</td>\n",
              "      <td>30.9</td>\n",
              "    </tr>\n",
              "    <tr>\n",
              "      <th>1</th>\n",
              "      <td>Heim</td>\n",
              "      <td>Jonah</td>\n",
              "      <td>Heim, Jonah</td>\n",
              "      <td>641680</td>\n",
              "      <td>2921</td>\n",
              "      <td>12</td>\n",
              "      <td>51.6</td>\n",
              "      <td>31.0</td>\n",
              "      <td>58.8</td>\n",
              "      <td>21.5</td>\n",
              "      <td>65.9</td>\n",
              "      <td>70.9</td>\n",
              "      <td>36.2</td>\n",
              "      <td>48.3</td>\n",
              "      <td>26.9</td>\n",
              "    </tr>\n",
              "    <tr>\n",
              "      <th>2</th>\n",
              "      <td>d'Arnaud</td>\n",
              "      <td>Travis</td>\n",
              "      <td>d'Arnaud, Travis</td>\n",
              "      <td>518595</td>\n",
              "      <td>2813</td>\n",
              "      <td>10</td>\n",
              "      <td>48.9</td>\n",
              "      <td>21.6</td>\n",
              "      <td>43.0</td>\n",
              "      <td>25.0</td>\n",
              "      <td>65.5</td>\n",
              "      <td>60.3</td>\n",
              "      <td>37.6</td>\n",
              "      <td>57.1</td>\n",
              "      <td>24.9</td>\n",
              "    </tr>\n",
              "    <tr>\n",
              "      <th>3</th>\n",
              "      <td>Kirk</td>\n",
              "      <td>Alejandro</td>\n",
              "      <td>Kirk, Alejandro</td>\n",
              "      <td>672386</td>\n",
              "      <td>1978</td>\n",
              "      <td>9</td>\n",
              "      <td>50.8</td>\n",
              "      <td>24.1</td>\n",
              "      <td>47.0</td>\n",
              "      <td>14.5</td>\n",
              "      <td>71.0</td>\n",
              "      <td>60.8</td>\n",
              "      <td>42.1</td>\n",
              "      <td>58.5</td>\n",
              "      <td>20.7</td>\n",
              "    </tr>\n",
              "    <tr>\n",
              "      <th>4</th>\n",
              "      <td>Raleigh</td>\n",
              "      <td>Cal</td>\n",
              "      <td>Raleigh, Cal</td>\n",
              "      <td>663728</td>\n",
              "      <td>2777</td>\n",
              "      <td>9</td>\n",
              "      <td>49.2</td>\n",
              "      <td>21.9</td>\n",
              "      <td>54.5</td>\n",
              "      <td>24.3</td>\n",
              "      <td>65.1</td>\n",
              "      <td>62.5</td>\n",
              "      <td>26.7</td>\n",
              "      <td>57.3</td>\n",
              "      <td>27.4</td>\n",
              "    </tr>\n",
              "  </tbody>\n",
              "</table>\n",
              "</div>\n",
              "      <button class=\"colab-df-convert\" onclick=\"convertToInteractive('df-8a100e92-2d96-42d6-9cb0-a7645d99b949')\"\n",
              "              title=\"Convert this dataframe to an interactive table.\"\n",
              "              style=\"display:none;\">\n",
              "\n",
              "  <svg xmlns=\"http://www.w3.org/2000/svg\" height=\"24px\"viewBox=\"0 0 24 24\"\n",
              "       width=\"24px\">\n",
              "    <path d=\"M0 0h24v24H0V0z\" fill=\"none\"/>\n",
              "    <path d=\"M18.56 5.44l.94 2.06.94-2.06 2.06-.94-2.06-.94-.94-2.06-.94 2.06-2.06.94zm-11 1L8.5 8.5l.94-2.06 2.06-.94-2.06-.94L8.5 2.5l-.94 2.06-2.06.94zm10 10l.94 2.06.94-2.06 2.06-.94-2.06-.94-.94-2.06-.94 2.06-2.06.94z\"/><path d=\"M17.41 7.96l-1.37-1.37c-.4-.4-.92-.59-1.43-.59-.52 0-1.04.2-1.43.59L10.3 9.45l-7.72 7.72c-.78.78-.78 2.05 0 2.83L4 21.41c.39.39.9.59 1.41.59.51 0 1.02-.2 1.41-.59l7.78-7.78 2.81-2.81c.8-.78.8-2.07 0-2.86zM5.41 20L4 18.59l7.72-7.72 1.47 1.35L5.41 20z\"/>\n",
              "  </svg>\n",
              "      </button>\n",
              "\n",
              "\n",
              "\n",
              "    <div id=\"df-bee1b749-ed67-47b0-9c8f-b20d89b76413\">\n",
              "      <button class=\"colab-df-quickchart\" onclick=\"quickchart('df-bee1b749-ed67-47b0-9c8f-b20d89b76413')\"\n",
              "              title=\"Suggest charts.\"\n",
              "              style=\"display:none;\">\n",
              "\n",
              "<svg xmlns=\"http://www.w3.org/2000/svg\" height=\"24px\"viewBox=\"0 0 24 24\"\n",
              "     width=\"24px\">\n",
              "    <g>\n",
              "        <path d=\"M19 3H5c-1.1 0-2 .9-2 2v14c0 1.1.9 2 2 2h14c1.1 0 2-.9 2-2V5c0-1.1-.9-2-2-2zM9 17H7v-7h2v7zm4 0h-2V7h2v10zm4 0h-2v-4h2v4z\"/>\n",
              "    </g>\n",
              "</svg>\n",
              "      </button>\n",
              "    </div>\n",
              "\n",
              "<style>\n",
              "  .colab-df-quickchart {\n",
              "    background-color: #E8F0FE;\n",
              "    border: none;\n",
              "    border-radius: 50%;\n",
              "    cursor: pointer;\n",
              "    display: none;\n",
              "    fill: #1967D2;\n",
              "    height: 32px;\n",
              "    padding: 0 0 0 0;\n",
              "    width: 32px;\n",
              "  }\n",
              "\n",
              "  .colab-df-quickchart:hover {\n",
              "    background-color: #E2EBFA;\n",
              "    box-shadow: 0px 1px 2px rgba(60, 64, 67, 0.3), 0px 1px 3px 1px rgba(60, 64, 67, 0.15);\n",
              "    fill: #174EA6;\n",
              "  }\n",
              "\n",
              "  [theme=dark] .colab-df-quickchart {\n",
              "    background-color: #3B4455;\n",
              "    fill: #D2E3FC;\n",
              "  }\n",
              "\n",
              "  [theme=dark] .colab-df-quickchart:hover {\n",
              "    background-color: #434B5C;\n",
              "    box-shadow: 0px 1px 3px 1px rgba(0, 0, 0, 0.15);\n",
              "    filter: drop-shadow(0px 1px 2px rgba(0, 0, 0, 0.3));\n",
              "    fill: #FFFFFF;\n",
              "  }\n",
              "</style>\n",
              "\n",
              "    <script>\n",
              "      async function quickchart(key) {\n",
              "        const containerElement = document.querySelector('#' + key);\n",
              "        const charts = await google.colab.kernel.invokeFunction(\n",
              "            'suggestCharts', [key], {});\n",
              "      }\n",
              "    </script>\n",
              "\n",
              "      <script>\n",
              "\n",
              "function displayQuickchartButton(domScope) {\n",
              "  let quickchartButtonEl =\n",
              "    domScope.querySelector('#df-bee1b749-ed67-47b0-9c8f-b20d89b76413 button.colab-df-quickchart');\n",
              "  quickchartButtonEl.style.display =\n",
              "    google.colab.kernel.accessAllowed ? 'block' : 'none';\n",
              "}\n",
              "\n",
              "        displayQuickchartButton(document);\n",
              "      </script>\n",
              "      <style>\n",
              "    .colab-df-container {\n",
              "      display:flex;\n",
              "      flex-wrap:wrap;\n",
              "      gap: 12px;\n",
              "    }\n",
              "\n",
              "    .colab-df-convert {\n",
              "      background-color: #E8F0FE;\n",
              "      border: none;\n",
              "      border-radius: 50%;\n",
              "      cursor: pointer;\n",
              "      display: none;\n",
              "      fill: #1967D2;\n",
              "      height: 32px;\n",
              "      padding: 0 0 0 0;\n",
              "      width: 32px;\n",
              "    }\n",
              "\n",
              "    .colab-df-convert:hover {\n",
              "      background-color: #E2EBFA;\n",
              "      box-shadow: 0px 1px 2px rgba(60, 64, 67, 0.3), 0px 1px 3px 1px rgba(60, 64, 67, 0.15);\n",
              "      fill: #174EA6;\n",
              "    }\n",
              "\n",
              "    [theme=dark] .colab-df-convert {\n",
              "      background-color: #3B4455;\n",
              "      fill: #D2E3FC;\n",
              "    }\n",
              "\n",
              "    [theme=dark] .colab-df-convert:hover {\n",
              "      background-color: #434B5C;\n",
              "      box-shadow: 0px 1px 3px 1px rgba(0, 0, 0, 0.15);\n",
              "      filter: drop-shadow(0px 1px 2px rgba(0, 0, 0, 0.3));\n",
              "      fill: #FFFFFF;\n",
              "    }\n",
              "  </style>\n",
              "\n",
              "      <script>\n",
              "        const buttonEl =\n",
              "          document.querySelector('#df-8a100e92-2d96-42d6-9cb0-a7645d99b949 button.colab-df-convert');\n",
              "        buttonEl.style.display =\n",
              "          google.colab.kernel.accessAllowed ? 'block' : 'none';\n",
              "\n",
              "        async function convertToInteractive(key) {\n",
              "          const element = document.querySelector('#df-8a100e92-2d96-42d6-9cb0-a7645d99b949');\n",
              "          const dataTable =\n",
              "            await google.colab.kernel.invokeFunction('convertToInteractive',\n",
              "                                                     [key], {});\n",
              "          if (!dataTable) return;\n",
              "\n",
              "          const docLinkHtml = 'Like what you see? Visit the ' +\n",
              "            '<a target=\"_blank\" href=https://colab.research.google.com/notebooks/data_table.ipynb>data table notebook</a>'\n",
              "            + ' to learn more about interactive tables.';\n",
              "          element.innerHTML = '';\n",
              "          dataTable['output_type'] = 'display_data';\n",
              "          await google.colab.output.renderOutput(dataTable, element);\n",
              "          const docLink = document.createElement('div');\n",
              "          docLink.innerHTML = docLinkHtml;\n",
              "          element.appendChild(docLink);\n",
              "        }\n",
              "      </script>\n",
              "    </div>\n",
              "  </div>\n"
            ]
          },
          "metadata": {},
          "execution_count": 58
        }
      ]
    },
    {
      "cell_type": "code",
      "source": [
        "features = [\"strike_rate_11\", \"strike_rate_12\", \"strike_rate_13\", \"strike_rate_14\", \"strike_rate_16\", \"strike_rate_17\", \"strike_rate_18\",\"strike_rate_19\"]\n",
        "target = \"runs_extra_strikes\""
      ],
      "metadata": {
        "id": "qgfr8pXPa60P"
      },
      "execution_count": 59,
      "outputs": []
    },
    {
      "cell_type": "code",
      "source": [
        "X_train, X_test, y_train, y_test = train_test_split(frame_all[features], frame_all[target], test_size=0.2, random_state=42)"
      ],
      "metadata": {
        "id": "fd6fHRz1cD2-"
      },
      "execution_count": 60,
      "outputs": []
    },
    {
      "cell_type": "code",
      "source": [
        "model = RandomForestRegressor(random_state=42)"
      ],
      "metadata": {
        "id": "qHCz9rmecKbR"
      },
      "execution_count": 61,
      "outputs": []
    },
    {
      "cell_type": "code",
      "source": [
        "model.fit(X_train, y_train)"
      ],
      "metadata": {
        "colab": {
          "base_uri": "https://localhost:8080/",
          "height": 76
        },
        "id": "Tasf0ybpcNCu",
        "outputId": "1a95419e-b5d2-45ea-fcbc-14b68b75dfe7"
      },
      "execution_count": 62,
      "outputs": [
        {
          "output_type": "execute_result",
          "data": {
            "text/plain": [
              "RandomForestRegressor(random_state=42)"
            ],
            "text/html": [
              "<style>#sk-container-id-3 {color: black;background-color: white;}#sk-container-id-3 pre{padding: 0;}#sk-container-id-3 div.sk-toggleable {background-color: white;}#sk-container-id-3 label.sk-toggleable__label {cursor: pointer;display: block;width: 100%;margin-bottom: 0;padding: 0.3em;box-sizing: border-box;text-align: center;}#sk-container-id-3 label.sk-toggleable__label-arrow:before {content: \"▸\";float: left;margin-right: 0.25em;color: #696969;}#sk-container-id-3 label.sk-toggleable__label-arrow:hover:before {color: black;}#sk-container-id-3 div.sk-estimator:hover label.sk-toggleable__label-arrow:before {color: black;}#sk-container-id-3 div.sk-toggleable__content {max-height: 0;max-width: 0;overflow: hidden;text-align: left;background-color: #f0f8ff;}#sk-container-id-3 div.sk-toggleable__content pre {margin: 0.2em;color: black;border-radius: 0.25em;background-color: #f0f8ff;}#sk-container-id-3 input.sk-toggleable__control:checked~div.sk-toggleable__content {max-height: 200px;max-width: 100%;overflow: auto;}#sk-container-id-3 input.sk-toggleable__control:checked~label.sk-toggleable__label-arrow:before {content: \"▾\";}#sk-container-id-3 div.sk-estimator input.sk-toggleable__control:checked~label.sk-toggleable__label {background-color: #d4ebff;}#sk-container-id-3 div.sk-label input.sk-toggleable__control:checked~label.sk-toggleable__label {background-color: #d4ebff;}#sk-container-id-3 input.sk-hidden--visually {border: 0;clip: rect(1px 1px 1px 1px);clip: rect(1px, 1px, 1px, 1px);height: 1px;margin: -1px;overflow: hidden;padding: 0;position: absolute;width: 1px;}#sk-container-id-3 div.sk-estimator {font-family: monospace;background-color: #f0f8ff;border: 1px dotted black;border-radius: 0.25em;box-sizing: border-box;margin-bottom: 0.5em;}#sk-container-id-3 div.sk-estimator:hover {background-color: #d4ebff;}#sk-container-id-3 div.sk-parallel-item::after {content: \"\";width: 100%;border-bottom: 1px solid gray;flex-grow: 1;}#sk-container-id-3 div.sk-label:hover label.sk-toggleable__label {background-color: #d4ebff;}#sk-container-id-3 div.sk-serial::before {content: \"\";position: absolute;border-left: 1px solid gray;box-sizing: border-box;top: 0;bottom: 0;left: 50%;z-index: 0;}#sk-container-id-3 div.sk-serial {display: flex;flex-direction: column;align-items: center;background-color: white;padding-right: 0.2em;padding-left: 0.2em;position: relative;}#sk-container-id-3 div.sk-item {position: relative;z-index: 1;}#sk-container-id-3 div.sk-parallel {display: flex;align-items: stretch;justify-content: center;background-color: white;position: relative;}#sk-container-id-3 div.sk-item::before, #sk-container-id-3 div.sk-parallel-item::before {content: \"\";position: absolute;border-left: 1px solid gray;box-sizing: border-box;top: 0;bottom: 0;left: 50%;z-index: -1;}#sk-container-id-3 div.sk-parallel-item {display: flex;flex-direction: column;z-index: 1;position: relative;background-color: white;}#sk-container-id-3 div.sk-parallel-item:first-child::after {align-self: flex-end;width: 50%;}#sk-container-id-3 div.sk-parallel-item:last-child::after {align-self: flex-start;width: 50%;}#sk-container-id-3 div.sk-parallel-item:only-child::after {width: 0;}#sk-container-id-3 div.sk-dashed-wrapped {border: 1px dashed gray;margin: 0 0.4em 0.5em 0.4em;box-sizing: border-box;padding-bottom: 0.4em;background-color: white;}#sk-container-id-3 div.sk-label label {font-family: monospace;font-weight: bold;display: inline-block;line-height: 1.2em;}#sk-container-id-3 div.sk-label-container {text-align: center;}#sk-container-id-3 div.sk-container {/* jupyter's `normalize.less` sets `[hidden] { display: none; }` but bootstrap.min.css set `[hidden] { display: none !important; }` so we also need the `!important` here to be able to override the default hidden behavior on the sphinx rendered scikit-learn.org. See: https://github.com/scikit-learn/scikit-learn/issues/21755 */display: inline-block !important;position: relative;}#sk-container-id-3 div.sk-text-repr-fallback {display: none;}</style><div id=\"sk-container-id-3\" class=\"sk-top-container\"><div class=\"sk-text-repr-fallback\"><pre>RandomForestRegressor(random_state=42)</pre><b>In a Jupyter environment, please rerun this cell to show the HTML representation or trust the notebook. <br />On GitHub, the HTML representation is unable to render, please try loading this page with nbviewer.org.</b></div><div class=\"sk-container\" hidden><div class=\"sk-item\"><div class=\"sk-estimator sk-toggleable\"><input class=\"sk-toggleable__control sk-hidden--visually\" id=\"sk-estimator-id-3\" type=\"checkbox\" checked><label for=\"sk-estimator-id-3\" class=\"sk-toggleable__label sk-toggleable__label-arrow\">RandomForestRegressor</label><div class=\"sk-toggleable__content\"><pre>RandomForestRegressor(random_state=42)</pre></div></div></div></div></div>"
            ]
          },
          "metadata": {},
          "execution_count": 62
        }
      ]
    },
    {
      "cell_type": "code",
      "source": [
        "importance_scores = model.feature_importances_"
      ],
      "metadata": {
        "id": "pMCndpnpc5r8"
      },
      "execution_count": 63,
      "outputs": []
    },
    {
      "cell_type": "code",
      "source": [
        "feature_importance_df = pd.DataFrame({\"Feature\": features, \"Importance\": importance_scores})"
      ],
      "metadata": {
        "id": "ksOQD1dmc8y3"
      },
      "execution_count": 64,
      "outputs": []
    },
    {
      "cell_type": "code",
      "source": [
        "feature_importance_df = feature_importance_df.sort_values(by=\"Importance\", ascending=False)"
      ],
      "metadata": {
        "id": "ndzemHEgc_wV"
      },
      "execution_count": 65,
      "outputs": []
    },
    {
      "cell_type": "code",
      "source": [
        "print(feature_importance_df)"
      ],
      "metadata": {
        "colab": {
          "base_uri": "https://localhost:8080/"
        },
        "id": "K4dPgrINdFbg",
        "outputId": "e931a589-c7e6-4e88-dc35-d38c83258812"
      },
      "execution_count": 66,
      "outputs": [
        {
          "output_type": "stream",
          "name": "stdout",
          "text": [
            "          Feature  Importance\n",
            "7  strike_rate_19    0.231703\n",
            "6  strike_rate_18    0.194125\n",
            "1  strike_rate_12    0.147339\n",
            "5  strike_rate_17    0.119125\n",
            "0  strike_rate_11    0.103561\n",
            "4  strike_rate_16    0.100373\n",
            "3  strike_rate_14    0.060099\n",
            "2  strike_rate_13    0.043674\n"
          ]
        }
      ]
    },
    {
      "cell_type": "code",
      "source": [
        "y_pred = model.predict(X_test)"
      ],
      "metadata": {
        "id": "kDKKzeMxeS-H"
      },
      "execution_count": 67,
      "outputs": []
    },
    {
      "cell_type": "code",
      "source": [
        "from sklearn.metrics import mean_squared_error, r2_score\n",
        "\n",
        "# Make predictions on the test data\n",
        "y_pred = model.predict(X_test)\n",
        "\n",
        "# Calculate mean squared error\n",
        "mse = mean_squared_error(y_test, y_pred)\n",
        "\n",
        "# Calculate R-squared\n",
        "r_squared = r2_score(y_test, y_pred)\n",
        "\n",
        "# Print the regression metrics\n",
        "print(\"Mean Squared Error:\", mse)\n",
        "print(\"R-squared:\", r_squared)"
      ],
      "metadata": {
        "colab": {
          "base_uri": "https://localhost:8080/"
        },
        "id": "7ct0TCJaeUJm",
        "outputId": "dd2c3f42-ab6e-42b0-ec8f-cf22d360df98"
      },
      "execution_count": 68,
      "outputs": [
        {
          "output_type": "stream",
          "name": "stdout",
          "text": [
            "Mean Squared Error: 25.258391666666665\n",
            "R-squared: 0.48276331058020483\n"
          ]
        }
      ]
    },
    {
      "cell_type": "code",
      "source": [
        "import matplotlib.pyplot as plt"
      ],
      "metadata": {
        "id": "LuC19jZteen1"
      },
      "execution_count": 69,
      "outputs": []
    },
    {
      "cell_type": "code",
      "source": [
        "# importance_scores with the variable containing the importance scores from model\n",
        "importance_scores = [0.231703, 0.194125, 0.147339, 0.119125, 0.103561,0.100373, 0.060099,0.043674]\n",
        "\n",
        "# list of features used in the model\n",
        "features = [\"strike_rate_19\", \" strike_rate_18\",\"strike_rate_12\", \"strike_rate_17\", \"strike_rate_11\",\"strike_rate_16\",\"strike_rate_14 \",\"strike_rate_13\"]\n",
        "\n",
        "# Create the DataFrame\n",
        "feature_importance_df = pd.DataFrame({\"Feature\": features, \"Importance\": importance_scores})\n",
        "\n",
        "# Sort the DataFrame by Importance in descending order to get the ranking\n",
        "feature_importance_df = feature_importance_df.sort_values(by=\"Importance\", ascending=False)"
      ],
      "metadata": {
        "id": "qUu7CVo-eiUG"
      },
      "execution_count": 70,
      "outputs": []
    },
    {
      "cell_type": "code",
      "source": [
        "plt.figure(figsize=(10, 6))\n",
        "plt.bar(feature_importance_df['Feature'], feature_importance_df['Importance'])\n",
        "plt.xlabel('Variables')\n",
        "plt.ylabel('Importance Score')\n",
        "plt.title('Most Important Features to CFR')\n",
        "plt.xticks(rotation=45, ha='right')  # Rotates x-axis labels for better readability\n",
        "\n",
        "# Add the importance values as text over the bars\n",
        "for index, value in enumerate(feature_importance_df['Importance']):\n",
        "    plt.text(index, value, f'{value:.4f}', ha='center', va='bottom')\n",
        "\n",
        "plt.tight_layout()\n",
        "plt.show()"
      ],
      "metadata": {
        "colab": {
          "base_uri": "https://localhost:8080/",
          "height": 607
        },
        "id": "5suRMlfIs8GQ",
        "outputId": "7d55eda3-462d-4052-c185-b6a0e6428e83"
      },
      "execution_count": 71,
      "outputs": [
        {
          "output_type": "display_data",
          "data": {
            "text/plain": [
              "<Figure size 1000x600 with 1 Axes>"
            ],
            "image/png": "[encoded data removed]"
          },
          "metadata": {}
        }
      ]
    },
    {
      "cell_type": "code",
      "source": [
        "# Find the minimum and maximum values for each variable\n",
        "min_strike_rate_19 = frame_all['strike_rate_19'].min()\n",
        "max_strike_rate_19 = frame_all['strike_rate_19'].max()\n",
        "\n",
        "min_strike_rate_18 = frame_all['strike_rate_18'].min()\n",
        "max_strike_rate_18 = frame_all['strike_rate_18'].max()\n",
        "\n",
        "min_strike_rate_12 = frame_all['strike_rate_12'].min()\n",
        "max_strike_rate_12 = frame_all['strike_rate_12'].max()\n",
        "\n",
        "min_strike_rate_17 = frame_all['strike_rate_17'].min()\n",
        "max_strike_rate_17 = frame_all['strike_rate_17'].max()\n",
        "\n",
        "min_strike_rate_11  = frame_all['strike_rate_11'].min()\n",
        "max_strike_rate_11  = frame_all['strike_rate_11'].max()\n",
        "\n",
        "min_strike_rate_16  = frame_all['strike_rate_16'].min()\n",
        "max_strike_rate_16  = frame_all['strike_rate_16'].max()\n",
        "\n",
        "min_strike_rate_14  = frame_all['strike_rate_14'].min()\n",
        "max_strike_rate_14  = frame_all['strike_rate_14'].max()\n",
        "\n",
        "min_strike_rate_13 = frame_all['strike_rate_13'].min()\n",
        "max_strike_rate_13 = frame_all['strike_rate_13'].max()\n",
        "\n",
        "\n",
        "# Print the minimum and maximum values\n",
        "print(\"Minimum strike_rate_19:\", min_strike_rate_19)\n",
        "print(\"Maximum strike_rate_19:\", max_strike_rate_19)\n",
        "\n",
        "print(\"Minimum strike_rate_18:\", min_strike_rate_18)\n",
        "print(\"Maximum strike_rate_18:\", max_strike_rate_18)\n",
        "\n",
        "print(\"Minimum strike_rate_12:\", min_strike_rate_12)\n",
        "print(\"Maximum strike_rate_12:\", max_strike_rate_12)\n",
        "\n",
        "print(\"Minimum  strike_rate_17 :\", min_strike_rate_17 )\n",
        "print(\"Maximum  strike_rate_17 :\", max_strike_rate_17 )\n",
        "\n",
        "print(\"Minimum strike_rate_11:\", max_strike_rate_11)\n",
        "print(\"Maximum strike_rate_11:\", min_strike_rate_11)\n",
        "\n",
        "print(\"Minimum strike_rate_16:\", min_strike_rate_16)\n",
        "print(\"Maximum strike_rate_16:\", max_strike_rate_16)\n",
        "\n",
        "print(\"Minimum strike_rate_14:\", min_strike_rate_14)\n",
        "print(\"Maximum strike_rate_14:\", max_strike_rate_14)\n",
        "\n",
        "print(\"Minimum strike_rate_13:\", min_strike_rate_13)\n",
        "print(\"Maximum strike_rate_13:\", max_strike_rate_13)"
      ],
      "metadata": {
        "colab": {
          "base_uri": "https://localhost:8080/"
        },
        "id": "5SCWycP5tI9Y",
        "outputId": "f2a5c1ae-4fd2-4e28-ad1c-b08c10a5c41a"
      },
      "execution_count": 72,
      "outputs": [
        {
          "output_type": "stream",
          "name": "stdout",
          "text": [
            "Minimum strike_rate_19: 12.8\n",
            "Maximum strike_rate_19: 35.3\n",
            "Minimum strike_rate_18: 36.9\n",
            "Maximum strike_rate_18: 67.1\n",
            "Minimum strike_rate_12: 36.4\n",
            "Maximum strike_rate_12: 60.6\n",
            "Minimum  strike_rate_17 : 17.7\n",
            "Maximum  strike_rate_17 : 46.2\n",
            "Minimum strike_rate_11: 32.4\n",
            "Maximum strike_rate_11: 11.5\n",
            "Minimum strike_rate_16: 51.0\n",
            "Maximum strike_rate_16: 71.9\n",
            "Minimum strike_rate_14: 48.8\n",
            "Maximum strike_rate_14: 71.4\n",
            "Minimum strike_rate_13: 11.6\n",
            "Maximum strike_rate_13: 37.1\n"
          ]
        }
      ]
    },
    {
      "cell_type": "code",
      "source": [
        "# Normalize the variables\n",
        "normalized_strike_rate_19 = (frame_all['strike_rate_19'] - min_strike_rate_19) / (max_strike_rate_19 - min_strike_rate_19)\n",
        "\n",
        "normalized_strike_rate_18 = (frame_all['strike_rate_18'] - min_strike_rate_18) / (max_strike_rate_18 - min_strike_rate_18)\n",
        "\n",
        "normalized_strike_rate_12 = (frame_all['strike_rate_12'] - min_strike_rate_12) / (max_strike_rate_12 - min_strike_rate_12)\n",
        "\n",
        "normalized_strike_rate_17 = (frame_all['strike_rate_17'] - min_strike_rate_17) / (max_strike_rate_17 - min_strike_rate_17)\n",
        "\n",
        "normalized_strike_rate_11 = (frame_all['strike_rate_11'] - min_strike_rate_11) / (max_strike_rate_11 - min_strike_rate_11)\n",
        "\n",
        "normalized_strike_rate_16 = (frame_all['strike_rate_16'] - min_strike_rate_16) / (max_strike_rate_16 - min_strike_rate_16)\n",
        "\n",
        "normalized_strike_rate_14 = (frame_all['strike_rate_14'] - min_strike_rate_14) / (max_strike_rate_14 - min_strike_rate_14)\n",
        "\n",
        "normalized_strike_rate_13 = (frame_all['strike_rate_13'] - min_strike_rate_13) / (max_strike_rate_13 - min_strike_rate_13)\n",
        "\n",
        "# Display the normalized values\n",
        "frame_all['strike_rate_19'] = normalized_strike_rate_19\n",
        "\n",
        "frame_all['strike_rate_18'] = normalized_strike_rate_18\n",
        "\n",
        "frame_all['strike_rate_17'] = normalized_strike_rate_17\n",
        "\n",
        "frame_all['strike_rate_12'] = normalized_strike_rate_12\n",
        "\n",
        "frame_all['strike_rate_11'] = normalized_strike_rate_11\n",
        "\n",
        "frame_all['strike_rate_16'] = normalized_strike_rate_16\n",
        "\n",
        "frame_all['strike_rate_14'] = normalized_strike_rate_14\n",
        "\n",
        "frame_all['strike_rate_13'] = normalized_strike_rate_13\n",
        "\n",
        "print(frame_all[['strike_rate_19', 'strike_rate_18', 'strike_rate_17','strike_rate_12', 'strike_rate_11', 'strike_rate_16', 'strike_rate_14', 'strike_rate_13']])"
      ],
      "metadata": {
        "colab": {
          "base_uri": "https://localhost:8080/"
        },
        "id": "pHeLZdrPw7cs",
        "outputId": "08774b40-19ca-41f9-98be-3970fe891d9a"
      },
      "execution_count": 73,
      "outputs": [
        {
          "output_type": "stream",
          "name": "stdout",
          "text": [
            "    strike_rate_19  strike_rate_18  strike_rate_17  strike_rate_12  \\\n",
            "0         0.804444        0.841060        0.800000        0.351240   \n",
            "1         0.626667        0.377483        0.649123        0.925620   \n",
            "2         0.537778        0.668874        0.698246        0.272727   \n",
            "3         0.351111        0.715232        0.856140        0.438017   \n",
            "4         0.648889        0.675497        0.315789        0.747934   \n",
            "5         0.813333        0.576159        0.424561        0.487603   \n",
            "6         0.515556        0.605960        0.687719        0.438017   \n",
            "7         0.893333        0.592715        0.480702        0.561983   \n",
            "8         0.435556        0.211921        0.428070        1.000000   \n",
            "9         0.604444        0.456954        0.582456        0.983471   \n",
            "10        0.746667        0.745033        0.807018        0.301653   \n",
            "11        0.422222        0.324503        0.087719        0.946281   \n",
            "12        0.257778        0.605960        0.800000        0.673554   \n",
            "13        0.640000        0.605960        0.649123        0.793388   \n",
            "14        0.480000        0.533113        0.635088        0.607438   \n",
            "15        0.617778        0.658940        0.628070        0.338843   \n",
            "16        0.337778        0.291391        0.192982        0.756198   \n",
            "17        0.617778        0.609272        0.392982        0.537190   \n",
            "18        0.484444        0.384106        1.000000        0.545455   \n",
            "19        0.662222        0.599338        0.270175        0.723140   \n",
            "20        0.697778        0.278146        0.322807        0.842975   \n",
            "21        1.000000        1.000000        0.698246        0.194215   \n",
            "22        0.680000        0.619205        0.603509        0.417355   \n",
            "23        0.488889        0.572848        0.361404        0.603306   \n",
            "24        0.448889        0.450331        0.421053        0.805785   \n",
            "25        0.271111        0.337748        0.407018        0.838843   \n",
            "26        0.875556        0.529801        0.505263        0.553719   \n",
            "27        0.133333        0.423841        0.491228        0.809917   \n",
            "28        0.408889        0.367550        0.000000        0.747934   \n",
            "29        0.502222        0.122517        0.438596        0.115702   \n",
            "30        0.320000        0.592715        0.414035        0.409091   \n",
            "31        0.377778        0.473510        0.326316        0.413223   \n",
            "32        0.413333        0.198675        0.477193        0.917355   \n",
            "33        0.360000        0.062914        0.217544        0.619835   \n",
            "34        0.462222        0.546358        0.364912        0.586777   \n",
            "35        0.608889        0.397351        0.357895        0.752066   \n",
            "36        0.337778        0.387417        0.459649        0.710744   \n",
            "37        0.284444        0.377483        0.642105        0.595041   \n",
            "38        0.480000        0.496689        0.540351        0.297521   \n",
            "39        0.613333        0.503311        0.119298        0.347107   \n",
            "40        0.573333        0.509934        0.168421        0.268595   \n",
            "41        0.595556        0.254967        0.428070        0.318182   \n",
            "42        0.413333        0.367550        0.087719        0.462810   \n",
            "43        0.071111        0.208609        0.463158        0.727273   \n",
            "44        0.333333        0.221854        0.287719        0.545455   \n",
            "45        0.640000        0.509934        0.256140        0.243802   \n",
            "46        0.480000        0.509934        0.638596        0.508264   \n",
            "47        0.395556        0.506623        0.505263        0.376033   \n",
            "48        0.320000        0.370861        0.242105        0.409091   \n",
            "49        0.124444        0.185430        0.582456        0.599174   \n",
            "50        0.342222        0.506623        0.428070        0.000000   \n",
            "51        0.000000        0.129139        0.477193        0.392562   \n",
            "52        0.408889        0.132450        0.147368        0.516529   \n",
            "53        0.164444        0.433775        0.498246        0.318182   \n",
            "54        0.604444        0.566225        0.410526        0.309917   \n",
            "55        0.182222        0.125828        0.354386        0.731405   \n",
            "56        0.115556        0.000000        0.266667        0.702479   \n",
            "57        0.417778        0.420530        0.400000        0.355372   \n",
            "58        0.368889        0.281457        0.350877        0.078512   \n",
            "59        0.182222        0.447020        0.522807        0.190083   \n",
            "\n",
            "    strike_rate_11  strike_rate_16  strike_rate_14  strike_rate_13  \n",
            "0         0.435407        0.866029        0.986726        0.317647  \n",
            "1         0.933014        0.952153        0.756637        0.388235  \n",
            "2         0.483254        0.444976        0.738938        0.525490  \n",
            "3         0.602871        0.468900        0.982301        0.113725  \n",
            "4         0.497608        0.550239        0.721239        0.498039  \n",
            "5         0.660287        0.818182        0.553097        0.521569  \n",
            "6         0.263158        0.789474        0.668142        0.384314  \n",
            "7         0.277512        0.990431        0.420354        0.701961  \n",
            "8         0.813397        0.708134        0.663717        0.937255  \n",
            "9         0.162679        0.813397        0.460177        1.000000  \n",
            "10        0.000000        0.363636        0.955752        0.094118  \n",
            "11        0.210526        0.631579        0.606195        0.886275  \n",
            "12        0.808612        0.555024        0.858407        0.776471  \n",
            "13        0.358852        0.832536        0.818584        0.725490  \n",
            "14        0.373206        0.354067        0.544248        0.301961  \n",
            "15        0.177033        0.669856        0.544248        0.380392  \n",
            "16        1.000000        0.440191        0.871681        0.498039  \n",
            "17        0.803828        0.794258        0.305310        0.850980  \n",
            "18        0.287081        0.612440        1.000000        0.392157  \n",
            "19        0.210526        0.952153        0.000000        0.364706  \n",
            "20        0.583732        0.755981        0.685841        0.243137  \n",
            "21        0.014354        0.674641        0.389381        0.117647  \n",
            "22        0.239234        0.727273        0.783186        0.498039  \n",
            "23        0.555024        0.693780        0.513274        0.407843  \n",
            "24        0.535885        0.607656        0.623894        0.584314  \n",
            "25        0.511962        0.727273        0.597345        0.839216  \n",
            "26        0.177033        0.894737        0.345133        0.349020  \n",
            "27        0.727273        0.191388        0.792035        0.156863  \n",
            "28        0.162679        0.679426        0.637168        0.764706  \n",
            "29        0.732057        0.909091        0.570796        0.537255  \n",
            "30        0.645933        0.354067        0.690265        0.360784  \n",
            "31        0.177033        0.784689        0.575221        0.439216  \n",
            "32        0.421053        0.215311        0.743363        0.423529  \n",
            "33        0.425837        0.555024        0.601770        0.380392  \n",
            "34        0.521531        0.674641        0.584071        0.756863  \n",
            "35        0.320574        0.822967        0.380531        0.145098  \n",
            "36        0.674641        0.473684        0.756637        0.600000  \n",
            "37        0.239234        0.411483        0.840708        0.015686  \n",
            "38        0.483254        0.598086        0.778761        0.466667  \n",
            "39        0.377990        0.808612        0.566372        0.388235  \n",
            "40        0.368421        0.535885        0.477876        0.282353  \n",
            "41        0.253589        0.617225        0.592920        0.380392  \n",
            "42        0.258373        1.000000        0.221239        0.882353  \n",
            "43        0.354067        0.617225        0.415929        0.384314  \n",
            "44        0.349282        0.645933        0.473451        0.478431  \n",
            "45        0.248804        0.736842        0.584071        0.368627  \n",
            "46        0.377990        0.502392        0.460177        0.329412  \n",
            "47        0.521531        0.301435        0.265487        0.211765  \n",
            "48        0.258373        0.100478        0.663717        0.003922  \n",
            "49        0.588517        0.325359        0.858407        0.517647  \n",
            "50        0.205742        0.057416        0.557522        0.247059  \n",
            "51        0.406699        0.387560        0.539823        0.537255  \n",
            "52        0.263158        0.779904        0.323009        0.462745  \n",
            "53        0.220096        0.253589        0.685841        0.513725  \n",
            "54        0.229665        0.363636        0.433628        0.270588  \n",
            "55        0.732057        0.000000        0.747788        0.149020  \n",
            "56        0.588517        0.315789        0.681416        0.200000  \n",
            "57        0.569378        0.645933        0.477876        0.376471  \n",
            "58        0.090909        0.421053        0.314159        0.000000  \n",
            "59        0.004785        0.157895        0.088496        0.290196  \n"
          ]
        }
      ]
    },
    {
      "cell_type": "code",
      "source": [
        "# Importance scores from the importance model\n",
        "importance_scores = {\n",
        "   \"strike_rate_19\": 0.231703,\n",
        "   \"strike_rate_18\": 0.194125,\n",
        "   \"strike_rate_12\": 0.147339,\n",
        "   \"strike_rate_17\": 0.119125,\n",
        "   \"strike_rate_11\": 0.103561,\n",
        "   \"strike_rate_16\": 0.100373,\n",
        "   \"strike_rate_14\": 0.060099,\n",
        "   \"strike_rate_13\": 0.043674\n",
        "}\n",
        "\n",
        "# Calculate the sum of importance scores\n",
        "total_importance = sum(importance_scores.values())\n",
        "\n",
        "# Normalize and assign weights\n",
        "weights = {}\n",
        "for feature, importance in importance_scores.items():\n",
        "    normalized_importance = importance / total_importance\n",
        "    weights[feature] = normalized_importance\n",
        "\n",
        "# Print the weights\n",
        "print(\"Feature Weights:\")\n",
        "for feature, weight in weights.items():\n",
        "    print(f\"{feature}: {weight}\")"
      ],
      "metadata": {
        "colab": {
          "base_uri": "https://localhost:8080/"
        },
        "id": "cNg6ehxT8lPE",
        "outputId": "ceea9564-b398-42d6-a18c-32f3e31a5c42"
      },
      "execution_count": 74,
      "outputs": [
        {
          "output_type": "stream",
          "name": "stdout",
          "text": [
            "Feature Weights:\n",
            "strike_rate_19: 0.23170323170323168\n",
            "strike_rate_18: 0.1941251941251941\n",
            "strike_rate_12: 0.14733914733914732\n",
            "strike_rate_17: 0.11912511912511911\n",
            "strike_rate_11: 0.10356110356110355\n",
            "strike_rate_16: 0.10037310037310036\n",
            "strike_rate_14: 0.060099060099060096\n",
            "strike_rate_13: 0.04367404367404367\n"
          ]
        }
      ]
    },
    {
      "cell_type": "code",
      "source": [
        "# Define weights for each variable\n",
        "weight_strike_rate_19 =  0.23170323170323168\n",
        "weight_strike_rate_18 = 0.1941251941251941\n",
        "weight_strike_rate_12 = 0.14733914733914732\n",
        "weight_strike_rate_17 = 0.11912511912511911\n",
        "weight_strike_rate_11 = 0.10356110356110355\n",
        "weight_strike_rate_16 = 0.10037310037310036\n",
        "weight_strike_rate_14 = 0.060099060099060096\n",
        "weight_strike_rate_13 = 0.04367404367404367\n",
        "\n",
        "\n",
        "# Normalize the weights to add up to 1.0\n",
        "total_weight_sum = (\n",
        "weight_strike_rate_19 +\n",
        "weight_strike_rate_18 +\n",
        "weight_strike_rate_12 +\n",
        "weight_strike_rate_17 +\n",
        "weight_strike_rate_11 +\n",
        "weight_strike_rate_16 +\n",
        "weight_strike_rate_14 +\n",
        "weight_strike_rate_13\n",
        ")\n",
        "\n",
        "weight_strike_rate_19 /= total_weight_sum\n",
        "weight_strike_rate_18 /= total_weight_sum\n",
        "weight_strike_rate_12 /= total_weight_sum\n",
        "weight_strike_rate_17 /= total_weight_sum\n",
        "weight_strike_rate_11  /= total_weight_sum\n",
        "weight_strike_rate_16 /= total_weight_sum\n",
        "weight_strike_rate_14 /= total_weight_sum\n",
        "weight_strike_rate_13 /= total_weight_sum\n",
        "\n",
        "# Display the normalized weights\n",
        "print(\"Normalized Weights:\")\n",
        "print(\"strike_rate_19:\", weight_strike_rate_19)\n",
        "print(\"strike_rate_18:\", weight_strike_rate_18)\n",
        "print(\"strike_rate_12:\", weight_strike_rate_12)\n",
        "print(\"strike_rate_17:\", weight_strike_rate_17)\n",
        "print(\"strike_rate_11:\", weight_strike_rate_11)\n",
        "print(\"strike_rate_16:\", weight_strike_rate_16)\n",
        "print(\"strike_rate_14:\", weight_strike_rate_14)\n",
        "print(\"strike_rate_13:\", weight_strike_rate_13)\n"
      ],
      "metadata": {
        "colab": {
          "base_uri": "https://localhost:8080/"
        },
        "id": "3LE7yBK19tU5",
        "outputId": "2896775f-3594-461d-d120-e12530ab215b"
      },
      "execution_count": 75,
      "outputs": [
        {
          "output_type": "stream",
          "name": "stdout",
          "text": [
            "Normalized Weights:\n",
            "strike_rate_19: 0.23170323170323168\n",
            "strike_rate_18: 0.1941251941251941\n",
            "strike_rate_12: 0.14733914733914732\n",
            "strike_rate_17: 0.11912511912511911\n",
            "strike_rate_11: 0.10356110356110355\n",
            "strike_rate_16: 0.10037310037310036\n",
            "strike_rate_14: 0.060099060099060096\n",
            "strike_rate_13: 0.04367404367404367\n"
          ]
        }
      ]
    },
    {
      "cell_type": "code",
      "source": [
        "CFR =(0.23170323170323168 * normalized_strike_rate_19)+ (0.1941251941251941 * normalized_strike_rate_18) +(0.14733914733914732 * normalized_strike_rate_12) +(0.11912511912511911 * normalized_strike_rate_17) +(0.10356110356110355 * normalized_strike_rate_11) +(0.10037310037310036 * normalized_strike_rate_16) +(0.060099060099060096 * normalized_strike_rate_14) +(0.04367404367404367 * normalized_strike_rate_13 )"
      ],
      "metadata": {
        "id": "EPWAm0uPAYoZ"
      },
      "execution_count": 76,
      "outputs": []
    },
    {
      "cell_type": "code",
      "source": [
        "frame_all['CFR'] =  (\n",
        "    weight_strike_rate_19 * frame_all['strike_rate_19'] +\n",
        "    weight_strike_rate_18 * frame_all['strike_rate_18'] +\n",
        "    weight_strike_rate_12 * frame_all['strike_rate_12'] +\n",
        "    weight_strike_rate_17 * frame_all['strike_rate_17'] +\n",
        "    weight_strike_rate_11 * frame_all['strike_rate_11'] +\n",
        "    weight_strike_rate_16 * frame_all['strike_rate_16'] +\n",
        "    weight_strike_rate_14 * frame_all['strike_rate_14'] +\n",
        "    weight_strike_rate_13 * frame_all['strike_rate_13']\n",
        "\n",
        ")"
      ],
      "metadata": {
        "id": "CmcD43MzDgVv"
      },
      "execution_count": 77,
      "outputs": []
    },
    {
      "cell_type": "code",
      "source": [
        "CFR_scores = frame_all['CFR']\n",
        "\n",
        "# Check if there are any missing or NaN values in the 'TDIR_scores'\n",
        "if CFR_scores.isnull().any():\n",
        "    raise ValueError(\"CFR scores contain missing or NaN values\")\n",
        "\n",
        "# Calculate the average TDIR score\n",
        "average_CFR = CFR_scores.mean()\n",
        "\n",
        "print(\"Average CFR:\", average_CFR)"
      ],
      "metadata": {
        "colab": {
          "base_uri": "https://localhost:8080/"
        },
        "id": "-nO9N3kBCLKR",
        "outputId": "059358ce-917d-4230-8881-1246aba3ff9e"
      },
      "execution_count": 78,
      "outputs": [
        {
          "output_type": "stream",
          "name": "stdout",
          "text": [
            "Average CFR: 0.48232410462989406\n"
          ]
        }
      ]
    },
    {
      "cell_type": "code",
      "source": [
        "print(frame_all[['player_name', 'CFR']])"
      ],
      "metadata": {
        "colab": {
          "base_uri": "https://localhost:8080/"
        },
        "id": "1m2M0XoQEgq2",
        "outputId": "9f6e0af4-e8dd-4f0f-bf97-36443777e431"
      },
      "execution_count": 79,
      "outputs": [
        {
          "output_type": "stream",
          "name": "stdout",
          "text": [
            "               player_name       CFR\n",
            "0            Trevino, Jose  0.701906\n",
            "1              Heim, Jonah  0.686810\n",
            "2         d'Arnaud, Travis  0.539882\n",
            "3          Kirk, Alejandro  0.560224\n",
            "4             Raleigh, Cal  0.601158\n",
            "5             Murphy, Sean  0.629241\n",
            "6            Narváez, Omar  0.546984\n",
            "7              Nido, Tomás  0.646187\n",
            "8           Molina, Yadier  0.576528\n",
            "9            Serven, Brian  0.612868\n",
            "10        Higashioka, Kyle  0.556266\n",
            "11        Grandal, Yasmani  0.471033\n",
            "12        Rutschman, Adley  0.596852\n",
            "13            Zavala, Seby  0.661755\n",
            "14           Kelly, Carson  0.499947\n",
            "15         Heineman, Tyler  0.530693\n",
            "16          McGuire, Reese  0.491120\n",
            "17            Delay, Jason  0.605861\n",
            "18          Garcia, Aramis  0.554733\n",
            "19           McCann, James  0.541818\n",
            "20           Jeffers, Ryan  0.566499\n",
            "21          Barnes, Austin  0.635364\n",
            "22          Hedges, Austin  0.577742\n",
            "23           Sánchez, Gary  0.532199\n",
            "24      Vázquez, Christian  0.539815\n",
            "25         Plawecki, Kevin  0.499033\n",
            "26        Caratini, Victor  0.591617\n",
            "27              Gomes, Yan  0.440001\n",
            "28           Wynns, Austin  0.433026\n",
            "29           Herrera, Jose  0.434275\n",
            "30             Stassi, Max  0.458477\n",
            "31  Bethancourt, Christian  0.430057\n",
            "32      Contreras, Willson  0.454735\n",
            "33             Maile, Luke  0.365456\n",
            "34            Fortes, Nick  0.532969\n",
            "35              Bart, Joey  0.516670\n",
            "36       Maldonado, Martín  0.502037\n",
            "37           Jansen, Danny  0.420638\n",
            "38          Realmuto, J.T.  0.493105\n",
            "39             Smith, Will  0.476473\n",
            "40            Casali, Curt  0.424466\n",
            "41       Stephenson, Tyler  0.425824\n",
            "42           Alfaro, Jorge  0.424724\n",
            "43          Romine, Austin  0.359704\n",
            "44      Contreras, William  0.385299\n",
            "45        Barnhart, Tucker  0.464642\n",
            "46        Mejía, Francisco  0.492783\n",
            "47          Perez, Michael  0.415064\n",
            "48            Suzuki, Kurt  0.312157\n",
            "49           Ruiz, Keibert  0.390300\n",
            "50         Stubbs, Garrett  0.300003\n",
            "51            Adams, Riley  0.276680\n",
            "52         Knizner, Andrew  0.359270\n",
            "53             Haase, Eric  0.340445\n",
            "54        Stallings, Jacob  0.442699\n",
            "55             Díaz, Elias  0.343891\n",
            "56         Perez, Salvador  0.304375\n",
            "57            Nola, Austin  0.447408\n",
            "58            Melendez, MJ  0.264035\n",
            "59      Chirinos, Robinson  0.253622\n"
          ]
        }
      ]
    }
  ]
}